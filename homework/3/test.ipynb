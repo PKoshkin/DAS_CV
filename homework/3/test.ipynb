{
 "cells": [
  {
   "cell_type": "code",
   "execution_count": 1,
   "metadata": {
    "collapsed": true
   },
   "outputs": [],
   "source": [
    "from skimage.io import imread, imshow\n",
    "from os.path import join\n",
    "import pandas\n",
    "from sklearn.svm import SVC\n",
    "from sklearn.model_selection import cross_val_score\n",
    "from fit_and_classify import *\n",
    "%matplotlib inline"
   ]
  },
  {
   "cell_type": "code",
   "execution_count": 2,
   "metadata": {
    "collapsed": true
   },
   "outputs": [],
   "source": [
    "train_dir = 'public_data/00_input/train/'\n",
    "info_csv = pandas.read_csv(train_dir + 'gt.csv')\n",
    "lables = np.array(info_csv['class_id'])\n",
    "file_names = np.array(info_csv['filename'])"
   ]
  },
  {
   "cell_type": "code",
   "execution_count": 3,
   "metadata": {
    "collapsed": true
   },
   "outputs": [],
   "source": [
    "def extract_features(path, file_names):\n",
    "    hog_length = len(extract_hog(imread(join(path, file_names[0]))))\n",
    "    data = np.zeros((len(file_names), hog_length))\n",
    "    for i in range(0, len(file_names)):\n",
    "        file_name = join(path, file_names[i])\n",
    "        data[i, :] = extract_hog(imread(file_name))\n",
    "    return data"
   ]
  },
  {
   "cell_type": "code",
   "execution_count": 4,
   "metadata": {
    "collapsed": true
   },
   "outputs": [],
   "source": [
    "features = extract_features(train_dir, file_names)"
   ]
  },
  {
   "cell_type": "code",
   "execution_count": 5,
   "metadata": {},
   "outputs": [
    {
     "name": "stdout",
     "output_type": "stream",
     "text": [
      "[ 0.87467483  0.88232594  0.88254648]\n"
     ]
    }
   ],
   "source": [
    "cv_model = SVC(kernel='linear')\n",
    "print(cross_val_score(cv_model, features, lables))"
   ]
  },
  {
   "cell_type": "code",
   "execution_count": null,
   "metadata": {
    "collapsed": true
   },
   "outputs": [],
   "source": []
  }
 ],
 "metadata": {
  "kernelspec": {
   "display_name": "Python 3",
   "language": "python",
   "name": "python3"
  },
  "language_info": {
   "codemirror_mode": {
    "name": "ipython",
    "version": 3
   },
   "file_extension": ".py",
   "mimetype": "text/x-python",
   "name": "python",
   "nbconvert_exporter": "python",
   "pygments_lexer": "ipython3",
   "version": "3.6.2"
  }
 },
 "nbformat": 4,
 "nbformat_minor": 2
}
