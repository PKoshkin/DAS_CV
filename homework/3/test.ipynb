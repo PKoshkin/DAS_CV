{
 "cells": [
  {
   "cell_type": "code",
   "execution_count": 2,
   "metadata": {},
   "outputs": [],
   "source": [
    "from skimage import io as io\n",
    "from fit_and_classify import *\n",
    "%matplotlib inline"
   ]
  },
  {
   "cell_type": "code",
   "execution_count": 3,
   "metadata": {
    "collapsed": true
   },
   "outputs": [],
   "source": [
    "image = io.imread('public_data/00_input/train/11001.png')"
   ]
  },
  {
   "cell_type": "code",
   "execution_count": 4,
   "metadata": {},
   "outputs": [
    {
     "data": {
      "text/plain": [
       "<matplotlib.image.AxesImage at 0x7f367ce94c88>"
      ]
     },
     "execution_count": 4,
     "metadata": {},
     "output_type": "execute_result"
    },
    {
     "data": {
      "image/png": "[encoded data removed]",
      "text/plain": [
       "<matplotlib.figure.Figure at 0x7f3682d1ef98>"
      ]
     },
     "metadata": {},
     "output_type": "display_data"
    }
   ],
   "source": [
    "io.imshow(image)"
   ]
  },
  {
   "cell_type": "code",
   "execution_count": 5,
   "metadata": {},
   "outputs": [],
   "source": [
    "f = extract_hog(image)"
   ]
  },
  {
   "cell_type": "code",
   "execution_count": 8,
   "metadata": {},
   "outputs": [
    {
     "data": {
      "text/plain": [
       "(46, 46, 3)"
      ]
     },
     "execution_count": 8,
     "metadata": {},
     "output_type": "execute_result"
    }
   ],
   "source": [
    "np.shape(image)"
   ]
  },
  {
   "cell_type": "code",
   "execution_count": null,
   "metadata": {},
   "outputs": [],
   "source": [
    "len(f[0])"
   ]
  },
  {
   "cell_type": "code",
   "execution_count": 9,
   "metadata": {},
   "outputs": [
    {
     "data": {
      "text/plain": [
       "5796"
      ]
     },
     "execution_count": 9,
     "metadata": {},
     "output_type": "execute_result"
    }
   ],
   "source": [
    "46*42*3"
   ]
  },
  {
   "cell_type": "code",
   "execution_count": 7,
   "metadata": {},
   "outputs": [
    {
     "data": {
      "text/plain": [
       "array([ 0.26425179,  0.19439193,  0.05854791,  0.20116162,  0.41437364,\n",
       "        0.10915299,  0.00854961,  0.02388132,  0.04041635,  0.00925211,\n",
       "        0.26874499,  0.01576876,  0.15285421,  0.03672975,  0.10489516,\n",
       "        0.0508359 ,  0.27866471,  0.0016277 ,  0.17716087,  0.03574576,\n",
       "        0.13365212,  0.12787058,  0.07408088,  0.0181275 ,  0.3515032 ,\n",
       "        0.12862806,  0.21815567,  0.40128978,  0.13519688,  0.1069062 ,\n",
       "        0.12397597,  0.08706459,  0.26947518,  0.00157403,  0.17131863,\n",
       "        0.03456697,  0.12924467,  0.12365379,  0.07163791,  0.01752971,\n",
       "        0.33991167,  0.12438629,  0.21096155,  0.38805644,  0.13073849,\n",
       "        0.10338075,  0.11988761,  0.08419346,  0.12859201,  0.14825792,\n",
       "        0.09902522,  0.28046963,  0.02741265,  0.0220474 ,  0.03221991,\n",
       "        0.0692218 ,  0.12013112,  0.4276462 ,  0.02207488,  0.30805741,\n",
       "        0.09392125,  0.15609847,  0.14996557,  0.04032267,  0.14782699,\n",
       "        0.17043454,  0.11383755,  0.32242267,  0.03151308,  0.02534528,\n",
       "        0.03703941,  0.0795761 ,  0.1381005 ,  0.49161412,  0.02537687,\n",
       "        0.35413707,  0.10797013,  0.1794479 ,  0.17239763,  0.04635419,\n",
       "        0.09734612,  0.20118383,  0.05820246,  0.12504918,  0.03146538,\n",
       "        0.07323557,  0.03896311,  0.06066158,  0.27681221,  0.2006096 ,\n",
       "        0.0150374 ,  0.37933109,  0.06964966,  0.10130984,  0.04778321,\n",
       "        0.0372728 ,  0.04080815,  0.0093418 ,  0.27135027,  0.01592163,\n",
       "        0.15433601,  0.03708582,  0.10591204,  0.05132872,  0.04897653,\n",
       "        0.01881836,  0.02250556,  0.07389797,  0.24514407,  0.03959526,\n",
       "        0.0131809 ,  0.244758  ,  0.35491075,  0.12987501,  0.22027052,\n",
       "        0.40517998,  0.13650751,  0.10794257,  0.12517782,  0.08790861,\n",
       "        0.41394438,  0.13166672,  0.18625492,  0.19350326,  0.04899088,\n",
       "        0.26647209,  0.06357228,  0.08590904,  0.3053803 ,  0.11174998,\n",
       "        0.18953012,  0.34863408,  0.11745686,  0.09287838,  0.10770832,\n",
       "        0.07564031,  0.35617534,  0.11329165,  0.16026165,  0.16649843,\n",
       "        0.04215384,  0.22928391,  0.05470029,  0.07391979,  0.10792709,\n",
       "        0.38420194,  0.01983231,  0.27676209,  0.08437986,  0.14024054,\n",
       "        0.13473068,  0.03622632,  0.13837986,  0.18042793,  0.03358916,\n",
       "        0.19926347,  0.16004435,  0.13883674,  0.11757509,  0.08592737,\n",
       "        0.12528733,  0.44600144,  0.02302237,  0.32127971,  0.0979525 ,\n",
       "        0.16279846,  0.15640232,  0.04205338,  0.16063848,  0.20945005,\n",
       "        0.03899203,  0.23131532,  0.18578774,  0.16116885,  0.13648723,\n",
       "        0.09974892,  0.25112917,  0.18199674,  0.01364221,  0.34413619,\n",
       "        0.06318746,  0.09191016,  0.04334981,  0.03381457,  0.37107207,\n",
       "        0.0599704 ,  0.170217  ,  0.01851801,  0.01523196,  0.0425674 ,\n",
       "        0.0071624 ,  0.0506397 ,  0.06324243,  0.02429977,  0.02906099,\n",
       "        0.09542299,  0.3165497 ,  0.05112858,  0.01702024,  0.31605118,\n",
       "        0.03483945,  0.0107203 ,  0.01733096,  0.03233203,  0.0207195 ,\n",
       "        0.04680554,  0.01848925,  0.06081552,  0.53451822,  0.17001865,\n",
       "        0.24050731,  0.24986694,  0.06326096,  0.34409016,  0.08208963,\n",
       "        0.11093265,  0.02401288,  0.38332827,  0.03053217,  0.00840856,\n",
       "        0.00882407,  0.0292431 ,  0.21745049,  0.00729142,  0.4689406 ,\n",
       "        0.14915983,  0.21100056,  0.2192119 ,  0.05549976,  0.30187529,\n",
       "        0.07201843,  0.09732283,  0.02106685,  0.33629947,  0.02678632,\n",
       "        0.00737695,  0.00774149,  0.0256554 ,  0.19077248,  0.00639687,\n",
       "        0.18219098,  0.23755149,  0.0442235 ,  0.26235037,  0.21071446,\n",
       "        0.18279251,  0.15479941,  0.11313201,  0.05758565,  0.30092955,\n",
       "        0.18744172,  0.01823788,  0.00991139,  0.01679076,  0.00528631,\n",
       "        0.0142995 ,  0.22783515,  0.29706509,  0.05530278,  0.32807682,\n",
       "        0.2635046 ,  0.22858739,  0.1935812 ,  0.14147489,  0.07201254,\n",
       "        0.37632122,  0.23440136,  0.022807  ,  0.01239449,  0.02099734,\n",
       "        0.00661068,  0.01788194,  0.52629521,  0.08505662,  0.24142047,\n",
       "        0.02626428,  0.02160364,  0.06037377,  0.0101585 ,  0.07182279,\n",
       "        0.04481261,  0.02738343,  0.091396  ,  0.04635513,  0.02017925,\n",
       "        0.01054692,  0.01989081,  0.00262838])"
      ]
     },
     "execution_count": 7,
     "metadata": {},
     "output_type": "execute_result"
    }
   ],
   "source": [
    "f"
   ]
  },
  {
   "cell_type": "code",
   "execution_count": null,
   "metadata": {
    "collapsed": true
   },
   "outputs": [],
   "source": []
  }
 ],
 "metadata": {
  "kernelspec": {
   "display_name": "Python 3",
   "language": "python",
   "name": "python3"
  },
  "language_info": {
   "codemirror_mode": {
    "name": "ipython",
    "version": 3
   },
   "file_extension": ".py",
   "mimetype": "text/x-python",
   "name": "python",
   "nbconvert_exporter": "python",
   "pygments_lexer": "ipython3",
   "version": "3.6.2"
  }
 },
 "nbformat": 4,
 "nbformat_minor": 2
}
