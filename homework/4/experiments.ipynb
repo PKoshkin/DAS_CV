{
 "cells": [
  {
   "cell_type": "code",
   "execution_count": 1,
   "metadata": {},
   "outputs": [
    {
     "name": "stderr",
     "output_type": "stream",
     "text": [
      "Using TensorFlow backend.\n"
     ]
    }
   ],
   "source": [
    "import numpy as np\n",
    "\n",
    "from skimage.io import imshow\n",
    "from skimage.transform import resize\n",
    "\n",
    "from sklearn.model_selection import train_test_split\n",
    "\n",
    "from keras.models import Sequential\n",
    "from keras.layers import Dense, Dropout, Flatten, Conv2D, MaxPooling2D, BatchNormalization\n",
    "from keras.optimizers import Adam\n",
    "from keras.preprocessing.image import ImageDataGenerator\n",
    "%matplotlib inline"
   ]
  },
  {
   "cell_type": "code",
   "execution_count": 2,
   "metadata": {
    "collapsed": true
   },
   "outputs": [],
   "source": [
    "def get_train_data(path='public_data/00_input/train/'):\n",
    "    from skimage.io import imread\n",
    "    with open(path + 'gt.csv') as navigation_file:\n",
    "        splits = [line.split(',') for line in navigation_file]\n",
    "        points_number = int((len(splits[0]) - 1) / 2)\n",
    "        train_x = np.array([imread(path + 'images/' + split[0]) for split in splits[1:]])\n",
    "        train_y = np.array([[int(x) for x in split[1:]] for split in splits[1:]])\n",
    "        return train_x, train_y, points_number"
   ]
  },
  {
   "cell_type": "code",
   "execution_count": 3,
   "metadata": {
    "collapsed": true
   },
   "outputs": [],
   "source": [
    "all_x, all_y, points_number = get_train_data()"
   ]
  },
  {
   "cell_type": "code",
   "execution_count": 4,
   "metadata": {
    "collapsed": true
   },
   "outputs": [],
   "source": [
    "def get_resized_train_data(train_x, train_y, shape=(64, 64, 3)):\n",
    "    resized_x = np.array([resize(image, shape, mode='reflect') for image in train_x])\n",
    "    resized_y = np.array([[\n",
    "            int(coordinate * shape[i % 2] / np.shape(image)[i % 2])\n",
    "            for i, coordinate in enumerate(answer)\n",
    "        ] for image, answer in zip(train_x, train_y)\n",
    "    ])\n",
    "    return resized_x, resized_y"
   ]
  },
  {
   "cell_type": "code",
   "execution_count": 5,
   "metadata": {},
   "outputs": [],
   "source": [
    "resized_x, resized_y = get_resized_train_data(all_x, all_y)\n",
    "input_shape=np.shape(resized_x[0])"
   ]
  },
  {
   "cell_type": "code",
   "execution_count": 6,
   "metadata": {
    "collapsed": true
   },
   "outputs": [],
   "source": [
    "train_x, test_x, train_y, test_y = train_test_split(\n",
    "    resized_x, resized_y, test_size=0.3, random_state=42\n",
    ")"
   ]
  },
  {
   "cell_type": "code",
   "execution_count": 7,
   "metadata": {},
   "outputs": [],
   "source": [
    "datagen = ImageDataGenerator(\n",
    "    featurewise_center=True,\n",
    "    featurewise_std_normalization=True,\n",
    "    rotation_range=20,\n",
    "    width_shift_range=0.2,\n",
    "    height_shift_range=0.2,\n",
    "    horizontal_flip=True,\n",
    ")"
   ]
  },
  {
   "cell_type": "code",
   "execution_count": 9,
   "metadata": {},
   "outputs": [],
   "source": [
    "datagen.fit(train_x)"
   ]
  },
  {
   "cell_type": "code",
   "execution_count": 10,
   "metadata": {},
   "outputs": [],
   "source": [
    "model = Sequential()\n",
    "\n",
    "model.add(Conv2D(64, (3, 3), activation='relu', padding='same', input_shape=input_shape))\n",
    "model.add(Conv2D(64, (3, 3), activation='relu', padding='same'))\n",
    "model.add(MaxPooling2D((2, 2), strides=(2, 2)))\n",
    "model.add(Dropout(0.25))\n",
    "\n",
    "model.add(Conv2D(128, (3, 3), activation='relu', padding='same'))\n",
    "model.add(Conv2D(128, (3, 3), activation='relu', padding='same'))\n",
    "model.add(MaxPooling2D((2, 2), strides=(2, 2)))\n",
    "model.add(Dropout(0.25))\n",
    "\n",
    "model.add(Conv2D(256, (3, 3), activation='relu', padding='same'))\n",
    "model.add(Conv2D(256, (3, 3), activation='relu', padding='same'))\n",
    "model.add(Conv2D(256, (3, 3), activation='relu', padding='same'))\n",
    "model.add(MaxPooling2D((2, 2), strides=(2, 2)))\n",
    "model.add(Dropout(0.25))\n",
    "\n",
    "model.add(Conv2D(512, (3, 3), activation='relu', padding='same'))\n",
    "model.add(Conv2D(512, (3, 3), activation='relu', padding='same'))\n",
    "model.add(Conv2D(512, (3, 3), activation='relu', padding='same'))\n",
    "model.add(MaxPooling2D((2, 2), strides=(2, 2)))\n",
    "model.add(Dropout(0.25))\n",
    "\n",
    "model.add(Flatten(name='flatten'))\n",
    "model.add(Dense(4096, activation='relu'))\n",
    "model.add(Dropout(0.5))\n",
    "model.add(Dense(4096, activation='relu'))\n",
    "\n",
    "model.add(Dense(points_number * 2, activation='relu'))"
   ]
  },
  {
   "cell_type": "code",
   "execution_count": 11,
   "metadata": {},
   "outputs": [],
   "source": [
    "model.compile(loss='mean_squared_error',\n",
    "              optimizer=Adam(),\n",
    "              metrics=['mse'])"
   ]
  },
  {
   "cell_type": "code",
   "execution_count": null,
   "metadata": {
    "scrolled": false
   },
   "outputs": [
    {
     "name": "stdout",
     "output_type": "stream",
     "text": [
      "Epoch 1/16\n",
      "131/131 [==============================] - 34s - loss: 486.3416 - mean_squared_error: 486.3416    \n",
      "Epoch 2/16\n",
      "131/131 [==============================] - 31s - loss: 351.1515 - mean_squared_error: 351.1515    \n",
      "Epoch 3/16\n",
      "131/131 [==============================] - 31s - loss: 350.8481 - mean_squared_error: 350.8481    \n",
      "Epoch 4/16\n",
      "131/131 [==============================] - 31s - loss: 350.5595 - mean_squared_error: 350.5595    \n",
      "Epoch 5/16\n",
      "131/131 [==============================] - 31s - loss: 350.8810 - mean_squared_error: 350.8810    \n",
      "Epoch 6/16\n",
      "131/131 [==============================] - 31s - loss: 350.7498 - mean_squared_error: 350.7498    \n",
      "Epoch 7/16\n",
      "131/131 [==============================] - 31s - loss: 350.7006 - mean_squared_error: 350.7006    \n",
      "Epoch 8/16\n",
      "131/131 [==============================] - 31s - loss: 350.6621 - mean_squared_error: 350.6621    \n",
      "Epoch 9/16\n",
      "131/131 [==============================] - 31s - loss: 350.9129 - mean_squared_error: 350.9129    \n",
      "Epoch 10/16\n",
      "131/131 [==============================] - 31s - loss: 350.8021 - mean_squared_error: 350.8021    \n",
      "Epoch 11/16\n",
      "131/131 [==============================] - 31s - loss: 350.7711 - mean_squared_error: 350.7711    \n",
      "Epoch 12/16\n",
      "131/131 [==============================] - 31s - loss: 350.4288 - mean_squared_error: 350.4288    \n",
      "Epoch 13/16\n",
      "131/131 [==============================] - 31s - loss: 350.2287 - mean_squared_error: 350.2287    \n",
      "Epoch 14/16\n",
      "131/131 [==============================] - 31s - loss: 350.1726 - mean_squared_error: 350.1726    \n",
      "Epoch 15/16\n",
      "131/131 [==============================] - 31s - loss: 350.9733 - mean_squared_error: 350.9733    \n",
      "Epoch 16/16\n",
      "  8/131 [>.............................] - ETA: 29s - loss: 347.3973 - mean_squared_error: 347.3973"
     ]
    }
   ],
   "source": [
    "model.fit_generator(datagen.flow(train_x, train_y, batch_size=32),\n",
    "                    steps_per_epoch=int(len(train_y) / 32), epochs=16)"
   ]
  },
  {
   "cell_type": "code",
   "execution_count": null,
   "metadata": {
    "collapsed": true
   },
   "outputs": [],
   "source": []
  }
 ],
 "metadata": {
  "kernelspec": {
   "display_name": "Python 3",
   "language": "python",
   "name": "python3"
  },
  "language_info": {
   "codemirror_mode": {
    "name": "ipython",
    "version": 3
   },
   "file_extension": ".py",
   "mimetype": "text/x-python",
   "name": "python",
   "nbconvert_exporter": "python",
   "pygments_lexer": "ipython3",
   "version": "3.6.2"
  }
 },
 "nbformat": 4,
 "nbformat_minor": 2
}
