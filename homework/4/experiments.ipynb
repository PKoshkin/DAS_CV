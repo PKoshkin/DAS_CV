{
 "cells": [
  {
   "cell_type": "code",
   "execution_count": 1,
   "metadata": {},
   "outputs": [
    {
     "name": "stderr",
     "output_type": "stream",
     "text": [
      "Using TensorFlow backend.\n"
     ]
    }
   ],
   "source": [
    "import numpy as np\n",
    "\n",
    "from skimage.io import imshow\n",
    "from skimage.transform import resize\n",
    "\n",
    "from sklearn.model_selection import train_test_split\n",
    "\n",
    "from keras import regularizers\n",
    "from keras.models import Sequential\n",
    "from keras.layers import Dense, Dropout, Flatten, Conv2D, MaxPooling2D, BatchNormalization, Activation\n",
    "from keras.optimizers import Adam\n",
    "from keras.preprocessing.image import ImageDataGenerator\n",
    "%matplotlib inline"
   ]
  },
  {
   "cell_type": "code",
   "execution_count": 2,
   "metadata": {
    "collapsed": true
   },
   "outputs": [],
   "source": [
    "def get_train_data(path='public_data/00_input/train/'):\n",
    "    from skimage.io import imread\n",
    "    with open(path + 'gt.csv') as navigation_file:\n",
    "        splits = [line.split(',') for line in navigation_file]\n",
    "        points_number = int((len(splits[0]) - 1) / 2)\n",
    "        train_x = np.array([imread(path + 'images/' + split[0]) for split in splits[1:]])\n",
    "        train_y = np.array([[int(x) for x in split[1:]] for split in splits[1:]])\n",
    "        return train_x, train_y, points_number"
   ]
  },
  {
   "cell_type": "code",
   "execution_count": 3,
   "metadata": {
    "collapsed": true
   },
   "outputs": [],
   "source": [
    "all_x, all_y, points_number = get_train_data()"
   ]
  },
  {
   "cell_type": "code",
   "execution_count": 4,
   "metadata": {
    "collapsed": true
   },
   "outputs": [],
   "source": [
    "def get_resized_train_data(train_x, train_y, shape=(64, 64, 3)):\n",
    "    resized_x = np.array([resize(image, shape, mode='reflect') for image in train_x])\n",
    "    resized_y = np.array([[\n",
    "            int(coordinate * shape[i % 2] / np.shape(image)[i % 2])\n",
    "            for i, coordinate in enumerate(answer)\n",
    "        ] for image, answer in zip(train_x, train_y)\n",
    "    ])\n",
    "    return resized_x, resized_y"
   ]
  },
  {
   "cell_type": "code",
   "execution_count": 5,
   "metadata": {},
   "outputs": [],
   "source": [
    "resized_x, resized_y = get_resized_train_data(all_x, all_y)\n",
    "input_shape=np.shape(resized_x[0])"
   ]
  },
  {
   "cell_type": "code",
   "execution_count": 6,
   "metadata": {
    "collapsed": true
   },
   "outputs": [],
   "source": [
    "train_x, test_x, train_y, test_y = train_test_split(\n",
    "    resized_x, resized_y, test_size=0.3, random_state=42\n",
    ")"
   ]
  },
  {
   "cell_type": "code",
   "execution_count": 7,
   "metadata": {},
   "outputs": [],
   "source": [
    "datagen = ImageDataGenerator(\n",
    "    featurewise_center=True,\n",
    "    featurewise_std_normalization=True,\n",
    "    rotation_range=20,\n",
    "    width_shift_range=0.2,\n",
    "    height_shift_range=0.2,\n",
    "    horizontal_flip=True,\n",
    ")"
   ]
  },
  {
   "cell_type": "code",
   "execution_count": 8,
   "metadata": {},
   "outputs": [],
   "source": [
    "datagen.fit(train_x)"
   ]
  },
  {
   "cell_type": "code",
   "execution_count": 9,
   "metadata": {},
   "outputs": [],
   "source": [
    "def add_Conv2D_relu_BatchNorm(model, n_filter, filters_size, input_shape=None):\n",
    "    if input_shape is None:\n",
    "        model.add(Conv2D(n_filter, filters_size, padding='same'))\n",
    "    else:\n",
    "        model.add(Conv2D(n_filter, filters_size, padding='same', input_shape=input_shape))\n",
    "    model.add(BatchNormalization())\n",
    "    model.add(Activation('relu'))\n",
    "\n",
    "model = Sequential()\n",
    "\n",
    "add_Conv2D_relu_BatchNorm(model, 64, (3, 3), input_shape)\n",
    "add_Conv2D_relu_BatchNorm(model, 64, (3, 3))\n",
    "model.add(MaxPooling2D((2, 2), strides=(2, 2)))\n",
    "model.add(Dropout(0.25))\n",
    "\n",
    "add_Conv2D_relu_BatchNorm(model, 128, (3, 3))\n",
    "add_Conv2D_relu_BatchNorm(model, 128, (3, 3))\n",
    "model.add(MaxPooling2D((2, 2), strides=(2, 2)))\n",
    "model.add(Dropout(0.25))\n",
    "\n",
    "add_Conv2D_relu_BatchNorm(model, 256, (3, 3))\n",
    "add_Conv2D_relu_BatchNorm(model, 256, (3, 3))\n",
    "add_Conv2D_relu_BatchNorm(model, 256, (3, 3))\n",
    "model.add(MaxPooling2D((2, 2), strides=(2, 2)))\n",
    "model.add(Dropout(0.25))\n",
    "\n",
    "add_Conv2D_relu_BatchNorm(model, 512, (3, 3))\n",
    "add_Conv2D_relu_BatchNorm(model, 512, (3, 3))\n",
    "add_Conv2D_relu_BatchNorm(model, 512, (3, 3))\n",
    "model.add(MaxPooling2D((2, 2), strides=(2, 2)))\n",
    "model.add(Dropout(0.25))\n",
    "\n",
    "model.add(Flatten(name='flatten'))\n",
    "model.add(Dense(4096, activation='relu'))\n",
    "model.add(Dropout(0.5))\n",
    "model.add(Dense(4096, activation='relu'))\n",
    "\n",
    "model.add(Dense(points_number * 2, activation='relu'))"
   ]
  },
  {
   "cell_type": "code",
   "execution_count": 10,
   "metadata": {},
   "outputs": [],
   "source": [
    "model.compile(loss='mean_squared_error',\n",
    "              optimizer=Adam(),\n",
    "              metrics=['mse'])"
   ]
  },
  {
   "cell_type": "code",
   "execution_count": 11,
   "metadata": {
    "scrolled": false
   },
   "outputs": [
    {
     "name": "stdout",
     "output_type": "stream",
     "text": [
      "Epoch 1/16\n",
      "131/131 [==============================] - 44s - loss: 114.5259 - mean_squared_error: 114.5259    \n",
      "Epoch 2/16\n",
      "131/131 [==============================] - 39s - loss: 62.6738 - mean_squared_error: 62.6738    \n",
      "Epoch 3/16\n",
      "131/131 [==============================] - 38s - loss: 58.2655 - mean_squared_error: 58.2655    \n",
      "Epoch 4/16\n",
      "131/131 [==============================] - 38s - loss: 58.2270 - mean_squared_error: 58.2270    \n",
      "Epoch 5/16\n",
      "131/131 [==============================] - 38s - loss: 56.5218 - mean_squared_error: 56.5218    \n",
      "Epoch 6/16\n",
      "131/131 [==============================] - 38s - loss: 56.8916 - mean_squared_error: 56.8916    \n",
      "Epoch 7/16\n",
      "131/131 [==============================] - 38s - loss: 55.1748 - mean_squared_error: 55.1748    \n",
      "Epoch 8/16\n",
      "131/131 [==============================] - 38s - loss: 59.0262 - mean_squared_error: 59.0262    \n",
      "Epoch 9/16\n",
      "131/131 [==============================] - 38s - loss: 55.4514 - mean_squared_error: 55.4514    \n",
      "Epoch 10/16\n",
      "131/131 [==============================] - 38s - loss: 54.6300 - mean_squared_error: 54.6300    \n",
      "Epoch 11/16\n",
      "131/131 [==============================] - 38s - loss: 53.4813 - mean_squared_error: 53.4813    \n",
      "Epoch 12/16\n",
      "131/131 [==============================] - 38s - loss: 52.0261 - mean_squared_error: 52.0261    \n",
      "Epoch 13/16\n",
      "131/131 [==============================] - 38s - loss: 52.5826 - mean_squared_error: 52.5826    \n",
      "Epoch 14/16\n",
      "131/131 [==============================] - 38s - loss: 51.9186 - mean_squared_error: 51.9186    \n",
      "Epoch 15/16\n",
      "131/131 [==============================] - 38s - loss: 49.8289 - mean_squared_error: 49.8289    \n",
      "Epoch 16/16\n",
      "131/131 [==============================] - 38s - loss: 50.3774 - mean_squared_error: 50.3774    \n"
     ]
    },
    {
     "data": {
      "text/plain": [
       "<keras.callbacks.History at 0x7f4fdc0a1978>"
      ]
     },
     "execution_count": 11,
     "metadata": {},
     "output_type": "execute_result"
    }
   ],
   "source": [
    "model.fit_generator(datagen.flow(train_x, train_y, batch_size=32),\n",
    "                    steps_per_epoch=int(len(train_y) / 32), epochs=16)"
   ]
  },
  {
   "cell_type": "code",
   "execution_count": null,
   "metadata": {
    "collapsed": true
   },
   "outputs": [],
   "source": []
  }
 ],
 "metadata": {
  "kernelspec": {
   "display_name": "Python 3",
   "language": "python",
   "name": "python3"
  },
  "language_info": {
   "codemirror_mode": {
    "name": "ipython",
    "version": 3
   },
   "file_extension": ".py",
   "mimetype": "text/x-python",
   "name": "python",
   "nbconvert_exporter": "python",
   "pygments_lexer": "ipython3",
   "version": "3.6.2"
  }
 },
 "nbformat": 4,
 "nbformat_minor": 2
}
