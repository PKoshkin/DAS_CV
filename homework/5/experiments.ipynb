{
 "cells": [
  {
   "cell_type": "code",
   "execution_count": 1,
   "metadata": {
    "collapsed": true
   },
   "outputs": [],
   "source": [
    "import numpy as np"
   ]
  },
  {
   "cell_type": "code",
   "execution_count": 2,
   "metadata": {
    "collapsed": true
   },
   "outputs": [],
   "source": [
    "def get_model(save_name='ResNet50.hdh5', image_shape=(224, 224, 3)):\n",
    "    import os\n",
    "    if not os.path.exists(save_name):\n",
    "        from keras.applications.resnet50 import ResNet50\n",
    "        model = ResNet50(\n",
    "            include_top=False, weights='imagenet',\n",
    "            input_tensor=None, input_shape=image_shape, pooling='max'\n",
    "        )\n",
    "        model.save(save_name)\n",
    "    else:\n",
    "        from keras.models import load_model\n",
    "        model = load_model(save_name)\n",
    "    return model"
   ]
  },
  {
   "cell_type": "code",
   "execution_count": 3,
   "metadata": {},
   "outputs": [
    {
     "name": "stderr",
     "output_type": "stream",
     "text": [
      "Using TensorFlow backend.\n",
      "/usr/lib/python3.6/site-packages/keras/models.py:245: UserWarning: No training configuration found in save file: the model was *not* compiled. Compile it manually.\n",
      "  warnings.warn('No training configuration found in save file: '\n"
     ]
    }
   ],
   "source": [
    "initial_model = get_model()"
   ]
  },
  {
   "cell_type": "code",
   "execution_count": 4,
   "metadata": {
    "collapsed": true
   },
   "outputs": [],
   "source": [
    "def get_data(image_shape=(224, 224, 3)):\n",
    "    from skimage.transform import resize\n",
    "    from skimage.io import imread\n",
    "    import os\n",
    "    images = []\n",
    "    labels = []\n",
    "    with open('public_data/00_input/train/gt.csv') as navigate_file:\n",
    "        for i, line in enumerate(navigate_file):\n",
    "            if i == 0:\n",
    "                continue\n",
    "            image_name, label = line.split(',')                \n",
    "            images.append(resize(\n",
    "                imread(os.path.join(\n",
    "                    'public_data/00_input/train/images/',\n",
    "                    image_name\n",
    "                )),\n",
    "                image_shape\n",
    "            ))\n",
    "            labels.append(int(label))\n",
    "    return np.array(images), np.array(labels)"
   ]
  },
  {
   "cell_type": "code",
   "execution_count": 5,
   "metadata": {},
   "outputs": [
    {
     "name": "stderr",
     "output_type": "stream",
     "text": [
      "/usr/lib/python3.6/site-packages/skimage/transform/_warps.py:84: UserWarning: The default mode, 'constant', will be changed to 'reflect' in skimage 0.15.\n",
      "  warn(\"The default mode, 'constant', will be changed to 'reflect' in \"\n"
     ]
    }
   ],
   "source": [
    "x, y = get_data()"
   ]
  },
  {
   "cell_type": "code",
   "execution_count": 6,
   "metadata": {
    "collapsed": true
   },
   "outputs": [],
   "source": [
    "from keras.layers import Dense, Dropout, Flatten, Conv2D, MaxPooling2D, BatchNormalization\n",
    "from keras.models import Model\n",
    "from keras.optimizers import Adam\n",
    "from keras.preprocessing.image import ImageDataGenerator\n",
    "from sklearn.preprocessing import OneHotEncoder\n",
    "from sklearn.model_selection import train_test_split"
   ]
  },
  {
   "cell_type": "code",
   "execution_count": 7,
   "metadata": {
    "collapsed": true
   },
   "outputs": [],
   "source": [
    "num_classes = len(set(y))\n",
    "y = np.eye(num_classes)[y]\n",
    "train_x, test_x, train_y, test_y = train_test_split(\n",
    "    x, y, test_size=0.3, random_state=42\n",
    ")"
   ]
  },
  {
   "cell_type": "code",
   "execution_count": 8,
   "metadata": {
    "collapsed": true
   },
   "outputs": [],
   "source": [
    "data_generator = ImageDataGenerator(\n",
    "    rotation_range=10,\n",
    "    width_shift_range=0.1,\n",
    "    height_shift_range=0.1,\n",
    "    horizontal_flip=False,\n",
    "    vertical_flip=True\n",
    ")"
   ]
  },
  {
   "cell_type": "code",
   "execution_count": 9,
   "metadata": {
    "collapsed": true
   },
   "outputs": [],
   "source": [
    "last = initial_model.output\n",
    "\n",
    "nn = Dense(1024, activation='relu')(last)\n",
    "nn = Dropout(0.5)(nn)\n",
    "nn = Dense(1024, activation='relu')(nn)\n",
    "\n",
    "prediction = Dense(num_classes, activation='softmax')(nn)\n",
    "model = Model(initial_model.input, prediction)\n",
    "\n",
    "for layer in initial_model.layers:\n",
    "    layer.trainable = False"
   ]
  },
  {
   "cell_type": "code",
   "execution_count": 10,
   "metadata": {
    "collapsed": true
   },
   "outputs": [],
   "source": [
    "model.compile(\n",
    "    loss='categorical_crossentropy',\n",
    "    optimizer=Adam(lr=0.0001),\n",
    "    metrics=['categorical_accuracy']\n",
    ")"
   ]
  },
  {
   "cell_type": "code",
   "execution_count": 11,
   "metadata": {},
   "outputs": [
    {
     "name": "stdout",
     "output_type": "stream",
     "text": [
      "Epoch 1/300\n",
      "109/109 [==============================] - 35s - loss: 3.8309 - categorical_accuracy: 0.0619 - val_loss: 3.9604 - val_categorical_accuracy: 0.0213\n",
      "Epoch 2/300\n",
      "109/109 [==============================] - 28s - loss: 3.2072 - categorical_accuracy: 0.1690 - val_loss: 3.9632 - val_categorical_accuracy: 0.0280\n",
      "Epoch 3/300\n",
      "109/109 [==============================] - 28s - loss: 2.6799 - categorical_accuracy: 0.2718 - val_loss: 3.9536 - val_categorical_accuracy: 0.0240\n",
      "Epoch 4/300\n",
      "109/109 [==============================] - 28s - loss: 2.2567 - categorical_accuracy: 0.3876 - val_loss: 3.9218 - val_categorical_accuracy: 0.0520\n",
      "Epoch 5/300\n",
      "109/109 [==============================] - 28s - loss: 1.9483 - categorical_accuracy: 0.4578 - val_loss: 3.8352 - val_categorical_accuracy: 0.0933\n",
      "Epoch 6/300\n",
      "109/109 [==============================] - 28s - loss: 1.7660 - categorical_accuracy: 0.4834 - val_loss: 3.4923 - val_categorical_accuracy: 0.1600\n",
      "Epoch 7/300\n",
      "109/109 [==============================] - 28s - loss: 1.6193 - categorical_accuracy: 0.5120 - val_loss: 3.1103 - val_categorical_accuracy: 0.1947\n",
      "Epoch 8/300\n",
      "109/109 [==============================] - 28s - loss: 1.4393 - categorical_accuracy: 0.5774 - val_loss: 2.4432 - val_categorical_accuracy: 0.3147\n",
      "Epoch 9/300\n",
      "109/109 [==============================] - 28s - loss: 1.3573 - categorical_accuracy: 0.5961 - val_loss: 1.8428 - val_categorical_accuracy: 0.4480\n",
      "Epoch 10/300\n",
      "109/109 [==============================] - 28s - loss: 1.2754 - categorical_accuracy: 0.6141 - val_loss: 1.5462 - val_categorical_accuracy: 0.5107\n",
      "Epoch 11/300\n",
      "109/109 [==============================] - 28s - loss: 1.1945 - categorical_accuracy: 0.6545 - val_loss: 1.3739 - val_categorical_accuracy: 0.5800\n",
      "Epoch 12/300\n",
      "109/109 [==============================] - 28s - loss: 1.1158 - categorical_accuracy: 0.6543 - val_loss: 1.3514 - val_categorical_accuracy: 0.5840\n",
      "Epoch 13/300\n",
      "109/109 [==============================] - 28s - loss: 1.0547 - categorical_accuracy: 0.6862 - val_loss: 1.3781 - val_categorical_accuracy: 0.5693\n",
      "Epoch 14/300\n",
      "109/109 [==============================] - 28s - loss: 1.0131 - categorical_accuracy: 0.6858 - val_loss: 1.3080 - val_categorical_accuracy: 0.5920\n",
      "Epoch 15/300\n",
      "109/109 [==============================] - 28s - loss: 0.9507 - categorical_accuracy: 0.7122 - val_loss: 1.3261 - val_categorical_accuracy: 0.6000\n",
      "Epoch 16/300\n",
      "109/109 [==============================] - 28s - loss: 0.9555 - categorical_accuracy: 0.6904 - val_loss: 1.3431 - val_categorical_accuracy: 0.5800\n",
      "Epoch 17/300\n",
      "109/109 [==============================] - 28s - loss: 0.8380 - categorical_accuracy: 0.7363 - val_loss: 1.3513 - val_categorical_accuracy: 0.5907\n",
      "Epoch 18/300\n",
      "109/109 [==============================] - 28s - loss: 0.8408 - categorical_accuracy: 0.7387 - val_loss: 1.3251 - val_categorical_accuracy: 0.5987\n",
      "Epoch 19/300\n",
      "109/109 [==============================] - 28s - loss: 0.7846 - categorical_accuracy: 0.7387 - val_loss: 1.3034 - val_categorical_accuracy: 0.6000\n",
      "Epoch 20/300\n",
      "109/109 [==============================] - 28s - loss: 0.7579 - categorical_accuracy: 0.7710 - val_loss: 1.3013 - val_categorical_accuracy: 0.5987\n",
      "Epoch 21/300\n",
      "109/109 [==============================] - 28s - loss: 0.7125 - categorical_accuracy: 0.7821 - val_loss: 1.3555 - val_categorical_accuracy: 0.5920\n",
      "Epoch 22/300\n",
      "109/109 [==============================] - 28s - loss: 0.6755 - categorical_accuracy: 0.7880 - val_loss: 1.3226 - val_categorical_accuracy: 0.6080\n",
      "Epoch 23/300\n",
      "109/109 [==============================] - 28s - loss: 0.6335 - categorical_accuracy: 0.7924 - val_loss: 1.2915 - val_categorical_accuracy: 0.6040\n",
      "Epoch 24/300\n",
      "109/109 [==============================] - 28s - loss: 0.6509 - categorical_accuracy: 0.7945 - val_loss: 1.2852 - val_categorical_accuracy: 0.6133\n",
      "Epoch 25/300\n",
      "109/109 [==============================] - 28s - loss: 0.6349 - categorical_accuracy: 0.8010 - val_loss: 1.3277 - val_categorical_accuracy: 0.6093\n",
      "Epoch 26/300\n",
      "109/109 [==============================] - 28s - loss: 0.6053 - categorical_accuracy: 0.8056 - val_loss: 1.3262 - val_categorical_accuracy: 0.6133\n",
      "Epoch 27/300\n",
      "109/109 [==============================] - 28s - loss: 0.5385 - categorical_accuracy: 0.8328 - val_loss: 1.3449 - val_categorical_accuracy: 0.6093\n",
      "Epoch 28/300\n",
      "109/109 [==============================] - 28s - loss: 0.5207 - categorical_accuracy: 0.8297 - val_loss: 1.3958 - val_categorical_accuracy: 0.5960\n",
      "Epoch 29/300\n",
      "109/109 [==============================] - 28s - loss: 0.5832 - categorical_accuracy: 0.7976 - val_loss: 1.3603 - val_categorical_accuracy: 0.6120\n",
      "Epoch 30/300\n",
      "109/109 [==============================] - 28s - loss: 0.5316 - categorical_accuracy: 0.8307 - val_loss: 1.4504 - val_categorical_accuracy: 0.5960\n",
      "Epoch 31/300\n",
      "109/109 [==============================] - 28s - loss: 0.5590 - categorical_accuracy: 0.8280 - val_loss: 1.3966 - val_categorical_accuracy: 0.6067\n",
      "Epoch 32/300\n",
      "109/109 [==============================] - 28s - loss: 0.4798 - categorical_accuracy: 0.8547 - val_loss: 1.3767 - val_categorical_accuracy: 0.5867\n",
      "Epoch 33/300\n",
      "109/109 [==============================] - 28s - loss: 0.4718 - categorical_accuracy: 0.8435 - val_loss: 1.4103 - val_categorical_accuracy: 0.6173\n",
      "Epoch 34/300\n",
      "109/109 [==============================] - 28s - loss: 0.4758 - categorical_accuracy: 0.8595 - val_loss: 1.3353 - val_categorical_accuracy: 0.6093\n",
      "Epoch 35/300\n",
      "109/109 [==============================] - 28s - loss: 0.4664 - categorical_accuracy: 0.8494 - val_loss: 1.3744 - val_categorical_accuracy: 0.6040\n",
      "Epoch 36/300\n",
      "109/109 [==============================] - 28s - loss: 0.4534 - categorical_accuracy: 0.8471 - val_loss: 1.3993 - val_categorical_accuracy: 0.6013\n",
      "Epoch 37/300\n",
      "109/109 [==============================] - 28s - loss: 0.4444 - categorical_accuracy: 0.8639 - val_loss: 1.4240 - val_categorical_accuracy: 0.6213\n",
      "Epoch 38/300\n",
      "109/109 [==============================] - 28s - loss: 0.4338 - categorical_accuracy: 0.8626 - val_loss: 1.4727 - val_categorical_accuracy: 0.6013\n",
      "Epoch 39/300\n",
      "109/109 [==============================] - 28s - loss: 0.4048 - categorical_accuracy: 0.8744 - val_loss: 1.4322 - val_categorical_accuracy: 0.6053\n",
      "Epoch 40/300\n",
      "109/109 [==============================] - 28s - loss: 0.4029 - categorical_accuracy: 0.8708 - val_loss: 1.4082 - val_categorical_accuracy: 0.6040\n",
      "Epoch 41/300\n",
      "109/109 [==============================] - 28s - loss: 0.4008 - categorical_accuracy: 0.8729 - val_loss: 1.4049 - val_categorical_accuracy: 0.6040\n",
      "Epoch 42/300\n",
      "109/109 [==============================] - 28s - loss: 0.3753 - categorical_accuracy: 0.8754 - val_loss: 1.4416 - val_categorical_accuracy: 0.6027\n",
      "Epoch 43/300\n",
      "109/109 [==============================] - 28s - loss: 0.3388 - categorical_accuracy: 0.8928 - val_loss: 1.4624 - val_categorical_accuracy: 0.6173\n",
      "Epoch 44/300\n",
      "109/109 [==============================] - 28s - loss: 0.3548 - categorical_accuracy: 0.8878 - val_loss: 1.4193 - val_categorical_accuracy: 0.6293\n",
      "Epoch 45/300\n",
      "109/109 [==============================] - 28s - loss: 0.3188 - categorical_accuracy: 0.8991 - val_loss: 1.3678 - val_categorical_accuracy: 0.6200\n",
      "Epoch 46/300\n",
      "109/109 [==============================] - 28s - loss: 0.3560 - categorical_accuracy: 0.8924 - val_loss: 1.4795 - val_categorical_accuracy: 0.6067\n",
      "Epoch 47/300\n",
      "109/109 [==============================] - 28s - loss: 0.3200 - categorical_accuracy: 0.8964 - val_loss: 1.4363 - val_categorical_accuracy: 0.6187\n",
      "Epoch 48/300\n",
      "109/109 [==============================] - 28s - loss: 0.3341 - categorical_accuracy: 0.8932 - val_loss: 1.4951 - val_categorical_accuracy: 0.6093\n",
      "Epoch 49/300\n",
      "109/109 [==============================] - 28s - loss: 0.3394 - categorical_accuracy: 0.8846 - val_loss: 1.4295 - val_categorical_accuracy: 0.6040\n",
      "Epoch 50/300\n",
      "109/109 [==============================] - 28s - loss: 0.3027 - categorical_accuracy: 0.9062 - val_loss: 1.4399 - val_categorical_accuracy: 0.6240\n",
      "Epoch 51/300\n",
      "109/109 [==============================] - 28s - loss: 0.3129 - categorical_accuracy: 0.9062 - val_loss: 1.5142 - val_categorical_accuracy: 0.6147\n",
      "Epoch 52/300\n"
     ]
    },
    {
     "name": "stdout",
     "output_type": "stream",
     "text": [
      "109/109 [==============================] - 28s - loss: 0.3499 - categorical_accuracy: 0.8869 - val_loss: 1.4285 - val_categorical_accuracy: 0.6013\n",
      "Epoch 53/300\n",
      "109/109 [==============================] - 28s - loss: 0.2760 - categorical_accuracy: 0.9111 - val_loss: 1.4796 - val_categorical_accuracy: 0.6080\n",
      "Epoch 54/300\n",
      "109/109 [==============================] - 28s - loss: 0.2808 - categorical_accuracy: 0.9088 - val_loss: 1.4616 - val_categorical_accuracy: 0.6187\n",
      "Epoch 55/300\n",
      "109/109 [==============================] - 28s - loss: 0.2496 - categorical_accuracy: 0.9209 - val_loss: 1.4763 - val_categorical_accuracy: 0.6187\n",
      "Epoch 56/300\n",
      "109/109 [==============================] - 28s - loss: 0.2805 - categorical_accuracy: 0.9148 - val_loss: 1.4453 - val_categorical_accuracy: 0.6307\n",
      "Epoch 57/300\n",
      "109/109 [==============================] - 28s - loss: 0.2446 - categorical_accuracy: 0.9270 - val_loss: 1.5220 - val_categorical_accuracy: 0.6147\n",
      "Epoch 58/300\n",
      "109/109 [==============================] - 28s - loss: 0.2470 - categorical_accuracy: 0.9243 - val_loss: 1.5677 - val_categorical_accuracy: 0.6000\n",
      "Epoch 59/300\n",
      "109/109 [==============================] - 28s - loss: 0.2345 - categorical_accuracy: 0.9277 - val_loss: 1.6019 - val_categorical_accuracy: 0.6027\n",
      "Epoch 60/300\n",
      "109/109 [==============================] - 28s - loss: 0.2379 - categorical_accuracy: 0.9283 - val_loss: 1.5825 - val_categorical_accuracy: 0.6013\n",
      "Epoch 61/300\n",
      "109/109 [==============================] - 28s - loss: 0.2455 - categorical_accuracy: 0.9216 - val_loss: 1.5915 - val_categorical_accuracy: 0.5947\n",
      "Epoch 62/300\n",
      "109/109 [==============================] - 28s - loss: 0.2229 - categorical_accuracy: 0.9341 - val_loss: 1.5677 - val_categorical_accuracy: 0.6053\n",
      "Epoch 63/300\n",
      "109/109 [==============================] - 28s - loss: 0.2118 - categorical_accuracy: 0.9283 - val_loss: 1.5580 - val_categorical_accuracy: 0.6107\n",
      "Epoch 64/300\n",
      "109/109 [==============================] - 28s - loss: 0.2227 - categorical_accuracy: 0.9245 - val_loss: 1.5964 - val_categorical_accuracy: 0.6000\n",
      "Epoch 65/300\n",
      "109/109 [==============================] - 28s - loss: 0.2365 - categorical_accuracy: 0.9224 - val_loss: 1.6227 - val_categorical_accuracy: 0.5893\n",
      "Epoch 66/300\n",
      "109/109 [==============================] - 28s - loss: 0.2328 - categorical_accuracy: 0.9285 - val_loss: 1.5919 - val_categorical_accuracy: 0.6000\n",
      "Epoch 67/300\n",
      "109/109 [==============================] - 28s - loss: 0.2263 - categorical_accuracy: 0.9318 - val_loss: 1.5382 - val_categorical_accuracy: 0.6280\n",
      "Epoch 68/300\n",
      "109/109 [==============================] - 28s - loss: 0.2142 - categorical_accuracy: 0.9360 - val_loss: 1.6896 - val_categorical_accuracy: 0.6093\n",
      "Epoch 69/300\n",
      "109/109 [==============================] - 28s - loss: 0.2347 - categorical_accuracy: 0.9182 - val_loss: 1.6641 - val_categorical_accuracy: 0.6040\n",
      "Epoch 70/300\n",
      "109/109 [==============================] - 28s - loss: 0.2398 - categorical_accuracy: 0.9234 - val_loss: 1.6589 - val_categorical_accuracy: 0.5987\n",
      "Epoch 71/300\n",
      "109/109 [==============================] - 28s - loss: 0.2354 - categorical_accuracy: 0.9180 - val_loss: 1.6133 - val_categorical_accuracy: 0.6093\n",
      "Epoch 72/300\n",
      "109/109 [==============================] - 28s - loss: 0.2119 - categorical_accuracy: 0.9279 - val_loss: 1.6779 - val_categorical_accuracy: 0.6093\n",
      "Epoch 73/300\n",
      "109/109 [==============================] - 28s - loss: 0.1991 - categorical_accuracy: 0.9438 - val_loss: 1.6918 - val_categorical_accuracy: 0.6067\n",
      "Epoch 74/300\n",
      "109/109 [==============================] - 28s - loss: 0.2030 - categorical_accuracy: 0.9346 - val_loss: 1.6184 - val_categorical_accuracy: 0.6200\n",
      "Epoch 75/300\n",
      "109/109 [==============================] - 28s - loss: 0.2003 - categorical_accuracy: 0.9352 - val_loss: 1.6615 - val_categorical_accuracy: 0.6133\n",
      "Epoch 76/300\n",
      "109/109 [==============================] - 28s - loss: 0.2068 - categorical_accuracy: 0.9337 - val_loss: 1.6379 - val_categorical_accuracy: 0.6160\n",
      "Epoch 77/300\n",
      "109/109 [==============================] - 28s - loss: 0.2282 - categorical_accuracy: 0.9234 - val_loss: 1.6374 - val_categorical_accuracy: 0.6120\n",
      "Epoch 78/300\n",
      "109/109 [==============================] - 28s - loss: 0.1688 - categorical_accuracy: 0.9495 - val_loss: 1.6501 - val_categorical_accuracy: 0.6133\n",
      "Epoch 79/300\n",
      "109/109 [==============================] - 28s - loss: 0.1730 - categorical_accuracy: 0.9411 - val_loss: 1.6529 - val_categorical_accuracy: 0.6200\n",
      "Epoch 80/300\n",
      "109/109 [==============================] - 28s - loss: 0.1851 - categorical_accuracy: 0.9406 - val_loss: 1.6728 - val_categorical_accuracy: 0.6040\n",
      "Epoch 81/300\n",
      "109/109 [==============================] - 28s - loss: 0.1818 - categorical_accuracy: 0.9476 - val_loss: 1.5849 - val_categorical_accuracy: 0.6187\n",
      "Epoch 82/300\n",
      "109/109 [==============================] - 28s - loss: 0.2057 - categorical_accuracy: 0.9352 - val_loss: 1.5986 - val_categorical_accuracy: 0.6173\n",
      "Epoch 83/300\n",
      "109/109 [==============================] - 28s - loss: 0.1931 - categorical_accuracy: 0.9354 - val_loss: 1.6298 - val_categorical_accuracy: 0.6080\n",
      "Epoch 84/300\n",
      "109/109 [==============================] - 28s - loss: 0.1573 - categorical_accuracy: 0.9495 - val_loss: 1.6738 - val_categorical_accuracy: 0.6080\n",
      "Epoch 85/300\n",
      "109/109 [==============================] - 28s - loss: 0.1954 - categorical_accuracy: 0.9385 - val_loss: 1.7705 - val_categorical_accuracy: 0.5947\n",
      "Epoch 86/300\n",
      "109/109 [==============================] - 28s - loss: 0.1777 - categorical_accuracy: 0.9429 - val_loss: 1.6638 - val_categorical_accuracy: 0.6187\n",
      "Epoch 87/300\n",
      "109/109 [==============================] - 28s - loss: 0.1766 - categorical_accuracy: 0.9365 - val_loss: 1.7712 - val_categorical_accuracy: 0.5907\n",
      "Epoch 88/300\n",
      "109/109 [==============================] - 28s - loss: 0.2054 - categorical_accuracy: 0.9314 - val_loss: 1.6467 - val_categorical_accuracy: 0.6120\n",
      "Epoch 89/300\n",
      "109/109 [==============================] - 28s - loss: 0.1432 - categorical_accuracy: 0.9601 - val_loss: 1.6273 - val_categorical_accuracy: 0.6147\n",
      "Epoch 90/300\n",
      "109/109 [==============================] - 28s - loss: 0.1681 - categorical_accuracy: 0.9490 - val_loss: 1.6723 - val_categorical_accuracy: 0.6147\n",
      "Epoch 91/300\n",
      "109/109 [==============================] - 28s - loss: 0.1487 - categorical_accuracy: 0.9526 - val_loss: 1.7264 - val_categorical_accuracy: 0.6013\n",
      "Epoch 92/300\n",
      "109/109 [==============================] - 28s - loss: 0.1662 - categorical_accuracy: 0.9480 - val_loss: 1.7299 - val_categorical_accuracy: 0.6080\n",
      "Epoch 93/300\n",
      "109/109 [==============================] - 28s - loss: 0.1575 - categorical_accuracy: 0.9518 - val_loss: 1.6841 - val_categorical_accuracy: 0.6120\n",
      "Epoch 94/300\n",
      "109/109 [==============================] - 28s - loss: 0.1539 - categorical_accuracy: 0.9518 - val_loss: 1.6956 - val_categorical_accuracy: 0.6240\n",
      "Epoch 95/300\n",
      "109/109 [==============================] - 28s - loss: 0.1285 - categorical_accuracy: 0.9612 - val_loss: 1.8401 - val_categorical_accuracy: 0.5893\n",
      "Epoch 96/300\n",
      "109/109 [==============================] - 28s - loss: 0.1562 - categorical_accuracy: 0.9478 - val_loss: 1.7997 - val_categorical_accuracy: 0.5933\n",
      "Epoch 97/300\n",
      "109/109 [==============================] - 28s - loss: 0.1475 - categorical_accuracy: 0.9492 - val_loss: 1.7604 - val_categorical_accuracy: 0.6000\n",
      "Epoch 98/300\n",
      "109/109 [==============================] - 28s - loss: 0.1219 - categorical_accuracy: 0.9633 - val_loss: 1.8812 - val_categorical_accuracy: 0.5933\n",
      "Epoch 99/300\n",
      "109/109 [==============================] - 28s - loss: 0.1612 - categorical_accuracy: 0.9463 - val_loss: 1.7590 - val_categorical_accuracy: 0.5987\n",
      "Epoch 100/300\n",
      "109/109 [==============================] - 28s - loss: 0.1815 - categorical_accuracy: 0.9375 - val_loss: 1.8510 - val_categorical_accuracy: 0.6013\n",
      "Epoch 101/300\n",
      "109/109 [==============================] - 28s - loss: 0.1507 - categorical_accuracy: 0.9518 - val_loss: 1.6857 - val_categorical_accuracy: 0.6147\n",
      "Epoch 102/300\n",
      "109/109 [==============================] - 28s - loss: 0.1709 - categorical_accuracy: 0.9440 - val_loss: 1.7148 - val_categorical_accuracy: 0.6280\n",
      "Epoch 103/300\n"
     ]
    },
    {
     "name": "stdout",
     "output_type": "stream",
     "text": [
      "109/109 [==============================] - 28s - loss: 0.1458 - categorical_accuracy: 0.9522 - val_loss: 1.8649 - val_categorical_accuracy: 0.6053\n",
      "Epoch 104/300\n",
      "109/109 [==============================] - 28s - loss: 0.1202 - categorical_accuracy: 0.9662 - val_loss: 1.7564 - val_categorical_accuracy: 0.6173\n",
      "Epoch 105/300\n",
      "108/109 [============================>.] - ETA: 0s - loss: 0.1549 - categorical_accuracy: 0.9454"
     ]
    },
    {
     "ename": "KeyboardInterrupt",
     "evalue": "",
     "output_type": "error",
     "traceback": [
      "\u001b[0;31m---------------------------------------------------------------------------\u001b[0m",
      "\u001b[0;31mKeyboardInterrupt\u001b[0m                         Traceback (most recent call last)",
      "\u001b[0;32m<ipython-input-11-6c9b132e962c>\u001b[0m in \u001b[0;36m<module>\u001b[0;34m()\u001b[0m\n\u001b[1;32m      3\u001b[0m     \u001b[0mdata_generator\u001b[0m\u001b[0;34m.\u001b[0m\u001b[0mflow\u001b[0m\u001b[0;34m(\u001b[0m\u001b[0mtrain_x\u001b[0m\u001b[0;34m,\u001b[0m \u001b[0mtrain_y\u001b[0m\u001b[0;34m,\u001b[0m \u001b[0mbatch_size\u001b[0m\u001b[0;34m=\u001b[0m\u001b[0mbatch_size\u001b[0m\u001b[0;34m)\u001b[0m\u001b[0;34m,\u001b[0m\u001b[0;34m\u001b[0m\u001b[0m\n\u001b[1;32m      4\u001b[0m     \u001b[0msteps_per_epoch\u001b[0m\u001b[0;34m=\u001b[0m\u001b[0mint\u001b[0m\u001b[0;34m(\u001b[0m\u001b[0mlen\u001b[0m\u001b[0;34m(\u001b[0m\u001b[0mtrain_y\u001b[0m\u001b[0;34m)\u001b[0m \u001b[0;34m/\u001b[0m \u001b[0mbatch_size\u001b[0m\u001b[0;34m)\u001b[0m\u001b[0;34m,\u001b[0m \u001b[0mepochs\u001b[0m\u001b[0;34m=\u001b[0m\u001b[0;36m300\u001b[0m\u001b[0;34m,\u001b[0m\u001b[0;34m\u001b[0m\u001b[0m\n\u001b[0;32m----> 5\u001b[0;31m     \u001b[0mvalidation_data\u001b[0m\u001b[0;34m=\u001b[0m\u001b[0;34m(\u001b[0m\u001b[0mtest_x\u001b[0m\u001b[0;34m,\u001b[0m \u001b[0mtest_y\u001b[0m\u001b[0;34m)\u001b[0m\u001b[0;34m\u001b[0m\u001b[0m\n\u001b[0m\u001b[1;32m      6\u001b[0m )\n",
      "\u001b[0;32m/usr/lib/python3.6/site-packages/keras/legacy/interfaces.py\u001b[0m in \u001b[0;36mwrapper\u001b[0;34m(*args, **kwargs)\u001b[0m\n\u001b[1;32m     85\u001b[0m                 warnings.warn('Update your `' + object_name +\n\u001b[1;32m     86\u001b[0m                               '` call to the Keras 2 API: ' + signature, stacklevel=2)\n\u001b[0;32m---> 87\u001b[0;31m             \u001b[0;32mreturn\u001b[0m \u001b[0mfunc\u001b[0m\u001b[0;34m(\u001b[0m\u001b[0;34m*\u001b[0m\u001b[0margs\u001b[0m\u001b[0;34m,\u001b[0m \u001b[0;34m**\u001b[0m\u001b[0mkwargs\u001b[0m\u001b[0;34m)\u001b[0m\u001b[0;34m\u001b[0m\u001b[0m\n\u001b[0m\u001b[1;32m     88\u001b[0m         \u001b[0mwrapper\u001b[0m\u001b[0;34m.\u001b[0m\u001b[0m_original_function\u001b[0m \u001b[0;34m=\u001b[0m \u001b[0mfunc\u001b[0m\u001b[0;34m\u001b[0m\u001b[0m\n\u001b[1;32m     89\u001b[0m         \u001b[0;32mreturn\u001b[0m \u001b[0mwrapper\u001b[0m\u001b[0;34m\u001b[0m\u001b[0m\n",
      "\u001b[0;32m/usr/lib/python3.6/site-packages/keras/engine/training.py\u001b[0m in \u001b[0;36mfit_generator\u001b[0;34m(self, generator, steps_per_epoch, epochs, verbose, callbacks, validation_data, validation_steps, class_weight, max_queue_size, workers, use_multiprocessing, initial_epoch)\u001b[0m\n\u001b[1;32m   1868\u001b[0m                                 \u001b[0mbatch_size\u001b[0m\u001b[0;34m=\u001b[0m\u001b[0mbatch_size\u001b[0m\u001b[0;34m,\u001b[0m\u001b[0;34m\u001b[0m\u001b[0m\n\u001b[1;32m   1869\u001b[0m                                 \u001b[0msample_weight\u001b[0m\u001b[0;34m=\u001b[0m\u001b[0mval_sample_weights\u001b[0m\u001b[0;34m,\u001b[0m\u001b[0;34m\u001b[0m\u001b[0m\n\u001b[0;32m-> 1870\u001b[0;31m                                 verbose=0)\n\u001b[0m\u001b[1;32m   1871\u001b[0m                         \u001b[0;32mif\u001b[0m \u001b[0;32mnot\u001b[0m \u001b[0misinstance\u001b[0m\u001b[0;34m(\u001b[0m\u001b[0mval_outs\u001b[0m\u001b[0;34m,\u001b[0m \u001b[0mlist\u001b[0m\u001b[0;34m)\u001b[0m\u001b[0;34m:\u001b[0m\u001b[0;34m\u001b[0m\u001b[0m\n\u001b[1;32m   1872\u001b[0m                             \u001b[0mval_outs\u001b[0m \u001b[0;34m=\u001b[0m \u001b[0;34m[\u001b[0m\u001b[0mval_outs\u001b[0m\u001b[0;34m]\u001b[0m\u001b[0;34m\u001b[0m\u001b[0m\n",
      "\u001b[0;32m/usr/lib/python3.6/site-packages/keras/engine/training.py\u001b[0m in \u001b[0;36mevaluate\u001b[0;34m(self, x, y, batch_size, verbose, sample_weight)\u001b[0m\n\u001b[1;32m   1472\u001b[0m         return self._test_loop(f, ins,\n\u001b[1;32m   1473\u001b[0m                                \u001b[0mbatch_size\u001b[0m\u001b[0;34m=\u001b[0m\u001b[0mbatch_size\u001b[0m\u001b[0;34m,\u001b[0m\u001b[0;34m\u001b[0m\u001b[0m\n\u001b[0;32m-> 1474\u001b[0;31m                                verbose=verbose)\n\u001b[0m\u001b[1;32m   1475\u001b[0m \u001b[0;34m\u001b[0m\u001b[0m\n\u001b[1;32m   1476\u001b[0m     \u001b[0;32mdef\u001b[0m \u001b[0mpredict\u001b[0m\u001b[0;34m(\u001b[0m\u001b[0mself\u001b[0m\u001b[0;34m,\u001b[0m \u001b[0mx\u001b[0m\u001b[0;34m,\u001b[0m \u001b[0mbatch_size\u001b[0m\u001b[0;34m=\u001b[0m\u001b[0;36m32\u001b[0m\u001b[0;34m,\u001b[0m \u001b[0mverbose\u001b[0m\u001b[0;34m=\u001b[0m\u001b[0;36m0\u001b[0m\u001b[0;34m)\u001b[0m\u001b[0;34m:\u001b[0m\u001b[0;34m\u001b[0m\u001b[0m\n",
      "\u001b[0;32m/usr/lib/python3.6/site-packages/keras/engine/training.py\u001b[0m in \u001b[0;36m_test_loop\u001b[0;34m(self, f, ins, batch_size, verbose)\u001b[0m\n\u001b[1;32m   1193\u001b[0m                 \u001b[0mins_batch\u001b[0m \u001b[0;34m=\u001b[0m \u001b[0m_slice_arrays\u001b[0m\u001b[0;34m(\u001b[0m\u001b[0mins\u001b[0m\u001b[0;34m,\u001b[0m \u001b[0mbatch_ids\u001b[0m\u001b[0;34m)\u001b[0m\u001b[0;34m\u001b[0m\u001b[0m\n\u001b[1;32m   1194\u001b[0m \u001b[0;34m\u001b[0m\u001b[0m\n\u001b[0;32m-> 1195\u001b[0;31m             \u001b[0mbatch_outs\u001b[0m \u001b[0;34m=\u001b[0m \u001b[0mf\u001b[0m\u001b[0;34m(\u001b[0m\u001b[0mins_batch\u001b[0m\u001b[0;34m)\u001b[0m\u001b[0;34m\u001b[0m\u001b[0m\n\u001b[0m\u001b[1;32m   1196\u001b[0m             \u001b[0;32mif\u001b[0m \u001b[0misinstance\u001b[0m\u001b[0;34m(\u001b[0m\u001b[0mbatch_outs\u001b[0m\u001b[0;34m,\u001b[0m \u001b[0mlist\u001b[0m\u001b[0;34m)\u001b[0m\u001b[0;34m:\u001b[0m\u001b[0;34m\u001b[0m\u001b[0m\n\u001b[1;32m   1197\u001b[0m                 \u001b[0;32mif\u001b[0m \u001b[0mbatch_index\u001b[0m \u001b[0;34m==\u001b[0m \u001b[0;36m0\u001b[0m\u001b[0;34m:\u001b[0m\u001b[0;34m\u001b[0m\u001b[0m\n",
      "\u001b[0;32m/usr/lib/python3.6/site-packages/keras/backend/tensorflow_backend.py\u001b[0m in \u001b[0;36m__call__\u001b[0;34m(self, inputs)\u001b[0m\n\u001b[1;32m   2266\u001b[0m         updated = session.run(self.outputs + [self.updates_op],\n\u001b[1;32m   2267\u001b[0m                               \u001b[0mfeed_dict\u001b[0m\u001b[0;34m=\u001b[0m\u001b[0mfeed_dict\u001b[0m\u001b[0;34m,\u001b[0m\u001b[0;34m\u001b[0m\u001b[0m\n\u001b[0;32m-> 2268\u001b[0;31m                               **self.session_kwargs)\n\u001b[0m\u001b[1;32m   2269\u001b[0m         \u001b[0;32mreturn\u001b[0m \u001b[0mupdated\u001b[0m\u001b[0;34m[\u001b[0m\u001b[0;34m:\u001b[0m\u001b[0mlen\u001b[0m\u001b[0;34m(\u001b[0m\u001b[0mself\u001b[0m\u001b[0;34m.\u001b[0m\u001b[0moutputs\u001b[0m\u001b[0;34m)\u001b[0m\u001b[0;34m]\u001b[0m\u001b[0;34m\u001b[0m\u001b[0m\n\u001b[1;32m   2270\u001b[0m \u001b[0;34m\u001b[0m\u001b[0m\n",
      "\u001b[0;32m/usr/lib/python3.6/site-packages/tensorflow/python/client/session.py\u001b[0m in \u001b[0;36mrun\u001b[0;34m(self, fetches, feed_dict, options, run_metadata)\u001b[0m\n\u001b[1;32m    887\u001b[0m     \u001b[0;32mtry\u001b[0m\u001b[0;34m:\u001b[0m\u001b[0;34m\u001b[0m\u001b[0m\n\u001b[1;32m    888\u001b[0m       result = self._run(None, fetches, feed_dict, options_ptr,\n\u001b[0;32m--> 889\u001b[0;31m                          run_metadata_ptr)\n\u001b[0m\u001b[1;32m    890\u001b[0m       \u001b[0;32mif\u001b[0m \u001b[0mrun_metadata\u001b[0m\u001b[0;34m:\u001b[0m\u001b[0;34m\u001b[0m\u001b[0m\n\u001b[1;32m    891\u001b[0m         \u001b[0mproto_data\u001b[0m \u001b[0;34m=\u001b[0m \u001b[0mtf_session\u001b[0m\u001b[0;34m.\u001b[0m\u001b[0mTF_GetBuffer\u001b[0m\u001b[0;34m(\u001b[0m\u001b[0mrun_metadata_ptr\u001b[0m\u001b[0;34m)\u001b[0m\u001b[0;34m\u001b[0m\u001b[0m\n",
      "\u001b[0;32m/usr/lib/python3.6/site-packages/tensorflow/python/client/session.py\u001b[0m in \u001b[0;36m_run\u001b[0;34m(self, handle, fetches, feed_dict, options, run_metadata)\u001b[0m\n\u001b[1;32m   1118\u001b[0m     \u001b[0;32mif\u001b[0m \u001b[0mfinal_fetches\u001b[0m \u001b[0;32mor\u001b[0m \u001b[0mfinal_targets\u001b[0m \u001b[0;32mor\u001b[0m \u001b[0;34m(\u001b[0m\u001b[0mhandle\u001b[0m \u001b[0;32mand\u001b[0m \u001b[0mfeed_dict_tensor\u001b[0m\u001b[0;34m)\u001b[0m\u001b[0;34m:\u001b[0m\u001b[0;34m\u001b[0m\u001b[0m\n\u001b[1;32m   1119\u001b[0m       results = self._do_run(handle, final_targets, final_fetches,\n\u001b[0;32m-> 1120\u001b[0;31m                              feed_dict_tensor, options, run_metadata)\n\u001b[0m\u001b[1;32m   1121\u001b[0m     \u001b[0;32melse\u001b[0m\u001b[0;34m:\u001b[0m\u001b[0;34m\u001b[0m\u001b[0m\n\u001b[1;32m   1122\u001b[0m       \u001b[0mresults\u001b[0m \u001b[0;34m=\u001b[0m \u001b[0;34m[\u001b[0m\u001b[0;34m]\u001b[0m\u001b[0;34m\u001b[0m\u001b[0m\n",
      "\u001b[0;32m/usr/lib/python3.6/site-packages/tensorflow/python/client/session.py\u001b[0m in \u001b[0;36m_do_run\u001b[0;34m(self, handle, target_list, fetch_list, feed_dict, options, run_metadata)\u001b[0m\n\u001b[1;32m   1315\u001b[0m     \u001b[0;32mif\u001b[0m \u001b[0mhandle\u001b[0m \u001b[0;32mis\u001b[0m \u001b[0;32mNone\u001b[0m\u001b[0;34m:\u001b[0m\u001b[0;34m\u001b[0m\u001b[0m\n\u001b[1;32m   1316\u001b[0m       return self._do_call(_run_fn, self._session, feeds, fetches, targets,\n\u001b[0;32m-> 1317\u001b[0;31m                            options, run_metadata)\n\u001b[0m\u001b[1;32m   1318\u001b[0m     \u001b[0;32melse\u001b[0m\u001b[0;34m:\u001b[0m\u001b[0;34m\u001b[0m\u001b[0m\n\u001b[1;32m   1319\u001b[0m       \u001b[0;32mreturn\u001b[0m \u001b[0mself\u001b[0m\u001b[0;34m.\u001b[0m\u001b[0m_do_call\u001b[0m\u001b[0;34m(\u001b[0m\u001b[0m_prun_fn\u001b[0m\u001b[0;34m,\u001b[0m \u001b[0mself\u001b[0m\u001b[0;34m.\u001b[0m\u001b[0m_session\u001b[0m\u001b[0;34m,\u001b[0m \u001b[0mhandle\u001b[0m\u001b[0;34m,\u001b[0m \u001b[0mfeeds\u001b[0m\u001b[0;34m,\u001b[0m \u001b[0mfetches\u001b[0m\u001b[0;34m)\u001b[0m\u001b[0;34m\u001b[0m\u001b[0m\n",
      "\u001b[0;32m/usr/lib/python3.6/site-packages/tensorflow/python/client/session.py\u001b[0m in \u001b[0;36m_do_call\u001b[0;34m(self, fn, *args)\u001b[0m\n\u001b[1;32m   1321\u001b[0m   \u001b[0;32mdef\u001b[0m \u001b[0m_do_call\u001b[0m\u001b[0;34m(\u001b[0m\u001b[0mself\u001b[0m\u001b[0;34m,\u001b[0m \u001b[0mfn\u001b[0m\u001b[0;34m,\u001b[0m \u001b[0;34m*\u001b[0m\u001b[0margs\u001b[0m\u001b[0;34m)\u001b[0m\u001b[0;34m:\u001b[0m\u001b[0;34m\u001b[0m\u001b[0m\n\u001b[1;32m   1322\u001b[0m     \u001b[0;32mtry\u001b[0m\u001b[0;34m:\u001b[0m\u001b[0;34m\u001b[0m\u001b[0m\n\u001b[0;32m-> 1323\u001b[0;31m       \u001b[0;32mreturn\u001b[0m \u001b[0mfn\u001b[0m\u001b[0;34m(\u001b[0m\u001b[0;34m*\u001b[0m\u001b[0margs\u001b[0m\u001b[0;34m)\u001b[0m\u001b[0;34m\u001b[0m\u001b[0m\n\u001b[0m\u001b[1;32m   1324\u001b[0m     \u001b[0;32mexcept\u001b[0m \u001b[0merrors\u001b[0m\u001b[0;34m.\u001b[0m\u001b[0mOpError\u001b[0m \u001b[0;32mas\u001b[0m \u001b[0me\u001b[0m\u001b[0;34m:\u001b[0m\u001b[0;34m\u001b[0m\u001b[0m\n\u001b[1;32m   1325\u001b[0m       \u001b[0mmessage\u001b[0m \u001b[0;34m=\u001b[0m \u001b[0mcompat\u001b[0m\u001b[0;34m.\u001b[0m\u001b[0mas_text\u001b[0m\u001b[0;34m(\u001b[0m\u001b[0me\u001b[0m\u001b[0;34m.\u001b[0m\u001b[0mmessage\u001b[0m\u001b[0;34m)\u001b[0m\u001b[0;34m\u001b[0m\u001b[0m\n",
      "\u001b[0;32m/usr/lib/python3.6/site-packages/tensorflow/python/client/session.py\u001b[0m in \u001b[0;36m_run_fn\u001b[0;34m(session, feed_dict, fetch_list, target_list, options, run_metadata)\u001b[0m\n\u001b[1;32m   1300\u001b[0m           return tf_session.TF_Run(session, options,\n\u001b[1;32m   1301\u001b[0m                                    \u001b[0mfeed_dict\u001b[0m\u001b[0;34m,\u001b[0m \u001b[0mfetch_list\u001b[0m\u001b[0;34m,\u001b[0m \u001b[0mtarget_list\u001b[0m\u001b[0;34m,\u001b[0m\u001b[0;34m\u001b[0m\u001b[0m\n\u001b[0;32m-> 1302\u001b[0;31m                                    status, run_metadata)\n\u001b[0m\u001b[1;32m   1303\u001b[0m \u001b[0;34m\u001b[0m\u001b[0m\n\u001b[1;32m   1304\u001b[0m     \u001b[0;32mdef\u001b[0m \u001b[0m_prun_fn\u001b[0m\u001b[0;34m(\u001b[0m\u001b[0msession\u001b[0m\u001b[0;34m,\u001b[0m \u001b[0mhandle\u001b[0m\u001b[0;34m,\u001b[0m \u001b[0mfeed_dict\u001b[0m\u001b[0;34m,\u001b[0m \u001b[0mfetch_list\u001b[0m\u001b[0;34m)\u001b[0m\u001b[0;34m:\u001b[0m\u001b[0;34m\u001b[0m\u001b[0m\n",
      "\u001b[0;31mKeyboardInterrupt\u001b[0m: "
     ]
    }
   ],
   "source": [
    "batch_size = 16\n",
    "model.fit_generator(\n",
    "    data_generator.flow(train_x, train_y, batch_size=batch_size),\n",
    "    steps_per_epoch=int(len(train_y) / batch_size), epochs=300,\n",
    "    validation_data=(test_x, test_y)\n",
    ")"
   ]
  },
  {
   "cell_type": "code",
   "execution_count": null,
   "metadata": {
    "collapsed": true
   },
   "outputs": [],
   "source": [
    "model.save('0.6_score_model.hdh5')"
   ]
  },
  {
   "cell_type": "code",
   "execution_count": null,
   "metadata": {
    "collapsed": true
   },
   "outputs": [],
   "source": []
  }
 ],
 "metadata": {
  "kernelspec": {
   "display_name": "Python 3",
   "language": "python",
   "name": "python3"
  },
  "language_info": {
   "codemirror_mode": {
    "name": "ipython",
    "version": 3
   },
   "file_extension": ".py",
   "mimetype": "text/x-python",
   "name": "python",
   "nbconvert_exporter": "python",
   "pygments_lexer": "ipython3",
   "version": "3.6.3"
  }
 },
 "nbformat": 4,
 "nbformat_minor": 2
}
