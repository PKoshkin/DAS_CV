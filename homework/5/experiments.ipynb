{
 "cells": [
  {
   "cell_type": "code",
   "execution_count": 1,
   "metadata": {
    "collapsed": true
   },
   "outputs": [],
   "source": [
    "import numpy as np"
   ]
  },
  {
   "cell_type": "code",
   "execution_count": 2,
   "metadata": {
    "collapsed": true
   },
   "outputs": [],
   "source": [
    "def get_model(save_name='Xception.hdf5', image_shape=(299, 299, 3)):\n",
    "    import os\n",
    "    new_model = not os.path.exists(save_name)\n",
    "    if new_model:\n",
    "        from keras.applications.xception import Xception\n",
    "        model = Xception(\n",
    "            include_top=False, weights='imagenet',\n",
    "            input_shape=image_shape, pooling='avg'\n",
    "        )\n",
    "        model.save(save_name)\n",
    "    else:\n",
    "        from keras.models import load_model\n",
    "        model = load_model(save_name)\n",
    "    return model, new_model"
   ]
  },
  {
   "cell_type": "code",
   "execution_count": 3,
   "metadata": {},
   "outputs": [
    {
     "name": "stderr",
     "output_type": "stream",
     "text": [
      "Using TensorFlow backend.\n"
     ]
    },
    {
     "name": "stdout",
     "output_type": "stream",
     "text": [
      "old model\n"
     ]
    },
    {
     "name": "stderr",
     "output_type": "stream",
     "text": [
      "/usr/lib/python3.6/site-packages/keras/models.py:245: UserWarning: No training configuration found in save file: the model was *not* compiled. Compile it manually.\n",
      "  warnings.warn('No training configuration found in save file: '\n"
     ]
    }
   ],
   "source": [
    "initial_model, new_model = get_model()\n",
    "if new_model:\n",
    "    print('new model')\n",
    "else:\n",
    "    print('old model')"
   ]
  },
  {
   "cell_type": "code",
   "execution_count": 4,
   "metadata": {
    "collapsed": true
   },
   "outputs": [],
   "source": [
    "def get_data(image_shape=(299, 299, 3)):\n",
    "    from skimage.transform import resize\n",
    "    from skimage.io import imread\n",
    "    import os\n",
    "    images = []\n",
    "    labels = []\n",
    "    with open('public_data/00_input/train/gt.csv') as navigate_file:\n",
    "        for i, line in enumerate(navigate_file):\n",
    "            if i == 0:\n",
    "                continue\n",
    "            image_name, label = line.split(',')                \n",
    "            images.append(resize(\n",
    "                imread(os.path.join(\n",
    "                    'public_data/00_input/train/images/',\n",
    "                    image_name\n",
    "                )),\n",
    "                image_shape,\n",
    "                mode='reflect'\n",
    "            ))\n",
    "            labels.append(int(label))\n",
    "    return np.array(images), np.array(labels)"
   ]
  },
  {
   "cell_type": "code",
   "execution_count": 5,
   "metadata": {
    "collapsed": true
   },
   "outputs": [],
   "source": [
    "x, y = get_data()"
   ]
  },
  {
   "cell_type": "code",
   "execution_count": 7,
   "metadata": {
    "collapsed": true
   },
   "outputs": [],
   "source": [
    "from keras.layers import Dense, Dropout, Flatten, Conv2D, MaxPooling2D, BatchNormalization\n",
    "from keras.models import Model\n",
    "from keras.optimizers import Adam\n",
    "from keras.optimizers import Nadam\n",
    "from keras.preprocessing.image import ImageDataGenerator\n",
    "from keras import regularizers\n",
    "from sklearn.preprocessing import OneHotEncoder\n",
    "from sklearn.model_selection import train_test_split"
   ]
  },
  {
   "cell_type": "code",
   "execution_count": 8,
   "metadata": {
    "collapsed": true
   },
   "outputs": [],
   "source": [
    "num_classes = len(set(y))\n",
    "y = np.eye(num_classes)[y]\n",
    "train_x, test_x, train_y, test_y = train_test_split(\n",
    "    x, y, test_size=0.3, random_state=42\n",
    ")"
   ]
  },
  {
   "cell_type": "code",
   "execution_count": 9,
   "metadata": {
    "collapsed": true
   },
   "outputs": [],
   "source": [
    "data_generator = ImageDataGenerator(\n",
    "    rotation_range=10,\n",
    "    width_shift_range=0.1,\n",
    "    height_shift_range=0.1,\n",
    "    horizontal_flip=True,\n",
    "    vertical_flip=False\n",
    ")"
   ]
  },
  {
   "cell_type": "code",
   "execution_count": 11,
   "metadata": {},
   "outputs": [],
   "source": [
    "regularization_lambda = 1e-3\n",
    "\n",
    "last = initial_model.output\n",
    "\n",
    "nn = Dense(\n",
    "    1024, activation='elu',\n",
    "    kernel_regularizer=regularizers.l2(regularization_lambda)\n",
    ")(last)\n",
    "nn = Dense(\n",
    "    1024, activation='elu',\n",
    "    kernel_regularizer=regularizers.l2(regularization_lambda)\n",
    ")(nn)\n",
    "\n",
    "prediction = Dense(\n",
    "    num_classes, activation='softmax',\n",
    "    kernel_regularizer=regularizers.l2(regularization_lambda)\n",
    ")(nn)\n",
    "\n",
    "model = Model(initial_model.input, prediction)\n",
    "\n",
    "for layer in initial_model.layers:\n",
    "    layer.trainable = False"
   ]
  },
  {
   "cell_type": "code",
   "execution_count": 12,
   "metadata": {
    "collapsed": true
   },
   "outputs": [],
   "source": [
    "model.compile(\n",
    "    loss='categorical_crossentropy',\n",
    "    optimizer=Adam(lr=1e-3, decay=1e-3),\n",
    "    metrics=['categorical_accuracy']\n",
    ")"
   ]
  },
  {
   "cell_type": "code",
   "execution_count": 13,
   "metadata": {
    "collapsed": true
   },
   "outputs": [],
   "source": [
    "class MyClallback:\n",
    "    def __init__(self, model, directory):\n",
    "        self._model = model\n",
    "        self._directory = directory\n",
    "        self._counter = 1\n",
    "\n",
    "    def set_model(self, model):\n",
    "        pass\n",
    "\n",
    "    def set_params(self, params):\n",
    "        pass\n",
    "\n",
    "    def on_train_begin(self, logs):\n",
    "        pass\n",
    "\n",
    "    def on_train_end(self, logs):\n",
    "        pass\n",
    "\n",
    "    def on_epoch_begin(self, epoch, logs):\n",
    "        pass\n",
    "\n",
    "    def on_epoch_end(self, epoch, logs):\n",
    "        self._model.save(\n",
    "            self._directory + '/' + str(self._counter) +\n",
    "            '_val_accuracy:_' + str(logs['val_categorical_accuracy']) +\n",
    "            '.npz'\n",
    "        )\n",
    "        self._counter += 1\n",
    "\n",
    "    def on_batch_begin(self, batch, logs):\n",
    "        pass\n",
    "\n",
    "    def on_batch_end(self, batch, logs):\n",
    "        pass"
   ]
  },
  {
   "cell_type": "code",
   "execution_count": 14,
   "metadata": {
    "scrolled": true
   },
   "outputs": [
    {
     "name": "stdout",
     "output_type": "stream",
     "text": [
      "Epoch 1/30\n",
      "437/437 [==============================] - 114s - loss: 5.5074 - categorical_accuracy: 0.2775 - val_loss: 3.7502 - val_categorical_accuracy: 0.4747\n",
      "Epoch 2/30\n",
      "437/437 [==============================] - 66s - loss: 4.0411 - categorical_accuracy: 0.4273 - val_loss: 3.2689 - val_categorical_accuracy: 0.5360\n",
      "Epoch 3/30\n",
      "437/437 [==============================] - 66s - loss: 3.3742 - categorical_accuracy: 0.4868 - val_loss: 2.8602 - val_categorical_accuracy: 0.5813\n",
      "Epoch 4/30\n",
      "437/437 [==============================] - 65s - loss: 2.8308 - categorical_accuracy: 0.5543 - val_loss: 2.5409 - val_categorical_accuracy: 0.5933\n",
      "Epoch 5/30\n",
      "437/437 [==============================] - 66s - loss: 2.5224 - categorical_accuracy: 0.6041 - val_loss: 2.3166 - val_categorical_accuracy: 0.6280\n",
      "Epoch 6/30\n",
      "437/437 [==============================] - 66s - loss: 2.3521 - categorical_accuracy: 0.6024 - val_loss: 1.9981 - val_categorical_accuracy: 0.6973\n",
      "Epoch 7/30\n",
      "437/437 [==============================] - 67s - loss: 2.1199 - categorical_accuracy: 0.6522 - val_loss: 2.0595 - val_categorical_accuracy: 0.6413\n",
      "Epoch 8/30\n",
      "437/437 [==============================] - 67s - loss: 1.8671 - categorical_accuracy: 0.6957 - val_loss: 1.9151 - val_categorical_accuracy: 0.6973\n",
      "Epoch 9/30\n",
      "437/437 [==============================] - 67s - loss: 1.8184 - categorical_accuracy: 0.6802 - val_loss: 1.8533 - val_categorical_accuracy: 0.6827\n",
      "Epoch 10/30\n",
      "437/437 [==============================] - 68s - loss: 1.7882 - categorical_accuracy: 0.6882 - val_loss: 1.6970 - val_categorical_accuracy: 0.7027\n",
      "Epoch 11/30\n",
      "437/437 [==============================] - 68s - loss: 1.6315 - categorical_accuracy: 0.7185 - val_loss: 1.6158 - val_categorical_accuracy: 0.7093\n",
      "Epoch 12/30\n",
      "437/437 [==============================] - 68s - loss: 1.5309 - categorical_accuracy: 0.7271 - val_loss: 1.5760 - val_categorical_accuracy: 0.7147\n",
      "Epoch 13/30\n",
      "437/437 [==============================] - 68s - loss: 1.5335 - categorical_accuracy: 0.7225 - val_loss: 1.6479 - val_categorical_accuracy: 0.6760\n",
      "Epoch 14/30\n",
      "437/437 [==============================] - 68s - loss: 1.5157 - categorical_accuracy: 0.7254 - val_loss: 1.5802 - val_categorical_accuracy: 0.6907\n",
      "Epoch 15/30\n",
      "437/437 [==============================] - 68s - loss: 1.3865 - categorical_accuracy: 0.7580 - val_loss: 1.5190 - val_categorical_accuracy: 0.7200\n",
      "Epoch 16/30\n",
      "437/437 [==============================] - 68s - loss: 1.3628 - categorical_accuracy: 0.7620 - val_loss: 1.5340 - val_categorical_accuracy: 0.7160\n",
      "Epoch 17/30\n",
      "437/437 [==============================] - 68s - loss: 1.3681 - categorical_accuracy: 0.7511 - val_loss: 1.4499 - val_categorical_accuracy: 0.7213\n",
      "Epoch 18/30\n",
      "437/437 [==============================] - 68s - loss: 1.3071 - categorical_accuracy: 0.7643 - val_loss: 1.4816 - val_categorical_accuracy: 0.7067\n",
      "Epoch 19/30\n",
      "437/437 [==============================] - 68s - loss: 1.2781 - categorical_accuracy: 0.7712 - val_loss: 1.4291 - val_categorical_accuracy: 0.7227\n",
      "Epoch 20/30\n",
      "437/437 [==============================] - 68s - loss: 1.2679 - categorical_accuracy: 0.7775 - val_loss: 1.4646 - val_categorical_accuracy: 0.6973\n",
      "Epoch 21/30\n",
      "437/437 [==============================] - 68s - loss: 1.2313 - categorical_accuracy: 0.7849 - val_loss: 1.3911 - val_categorical_accuracy: 0.7213\n",
      "Epoch 22/30\n",
      "437/437 [==============================] - 70s - loss: 1.2175 - categorical_accuracy: 0.7809 - val_loss: 1.3459 - val_categorical_accuracy: 0.7427\n",
      "Epoch 23/30\n",
      "437/437 [==============================] - 67s - loss: 1.2433 - categorical_accuracy: 0.7717 - val_loss: 1.3970 - val_categorical_accuracy: 0.7213\n",
      "Epoch 24/30\n",
      "437/437 [==============================] - 68s - loss: 1.1858 - categorical_accuracy: 0.7832 - val_loss: 1.3472 - val_categorical_accuracy: 0.7320\n",
      "Epoch 25/30\n",
      "437/437 [==============================] - 68s - loss: 1.1777 - categorical_accuracy: 0.8015 - val_loss: 1.4252 - val_categorical_accuracy: 0.7173\n",
      "Epoch 26/30\n",
      "437/437 [==============================] - 68s - loss: 1.1668 - categorical_accuracy: 0.7889 - val_loss: 1.3688 - val_categorical_accuracy: 0.7173\n",
      "Epoch 27/30\n",
      "437/437 [==============================] - 69s - loss: 1.1051 - categorical_accuracy: 0.8066 - val_loss: 1.3295 - val_categorical_accuracy: 0.7413\n",
      "Epoch 28/30\n",
      "437/437 [==============================] - 68s - loss: 1.1168 - categorical_accuracy: 0.8038 - val_loss: 1.3171 - val_categorical_accuracy: 0.7333\n",
      "Epoch 29/30\n",
      "437/437 [==============================] - 68s - loss: 1.0863 - categorical_accuracy: 0.8084 - val_loss: 1.3704 - val_categorical_accuracy: 0.6987\n",
      "Epoch 30/30\n",
      "437/437 [==============================] - 68s - loss: 1.1031 - categorical_accuracy: 0.8152 - val_loss: 1.3121 - val_categorical_accuracy: 0.7320\n"
     ]
    },
    {
     "data": {
      "text/plain": [
       "<keras.callbacks.History at 0x7f6cd0a64b00>"
      ]
     },
     "execution_count": 14,
     "metadata": {},
     "output_type": "execute_result"
    }
   ],
   "source": [
    "batch_size = 4\n",
    "model.fit_generator(\n",
    "    data_generator.flow(train_x, train_y, batch_size=batch_size),\n",
    "    steps_per_epoch=int(len(train_y) / batch_size), epochs=30,\n",
    "    callbacks=[MyClallback(model, 'untrainable_layers')],\n",
    "    validation_data=(test_x, test_y)\n",
    ")"
   ]
  },
  {
   "cell_type": "code",
   "execution_count": 15,
   "metadata": {
    "collapsed": true
   },
   "outputs": [],
   "source": [
    "trainable_border = 107\n",
    "for layer in model.layers[:trainable_border]:\n",
    "    layer.trainable = False\n",
    "for layer in model.layers[trainable_border:]:\n",
    "    layer.trainable = True"
   ]
  },
  {
   "cell_type": "code",
   "execution_count": 16,
   "metadata": {},
   "outputs": [
    {
     "name": "stdout",
     "output_type": "stream",
     "text": [
      "Epoch 1/60\n",
      "437/437 [==============================] - 70s - loss: 1.0855 - categorical_accuracy: 0.8146 - val_loss: 1.3542 - val_categorical_accuracy: 0.7160\n",
      "Epoch 2/60\n",
      "437/437 [==============================] - 66s - loss: 1.0715 - categorical_accuracy: 0.8181 - val_loss: 1.3089 - val_categorical_accuracy: 0.7293\n",
      "Epoch 3/60\n",
      "437/437 [==============================] - 66s - loss: 1.0618 - categorical_accuracy: 0.8101 - val_loss: 1.3480 - val_categorical_accuracy: 0.7133\n",
      "Epoch 4/60\n",
      "437/437 [==============================] - 67s - loss: 1.0736 - categorical_accuracy: 0.8101 - val_loss: 1.3233 - val_categorical_accuracy: 0.7347\n",
      "Epoch 5/60\n",
      "437/437 [==============================] - 68s - loss: 1.0221 - categorical_accuracy: 0.8307 - val_loss: 1.2944 - val_categorical_accuracy: 0.7240\n",
      "Epoch 6/60\n",
      "437/437 [==============================] - 69s - loss: 1.0106 - categorical_accuracy: 0.8398 - val_loss: 1.3355 - val_categorical_accuracy: 0.7267\n",
      "Epoch 7/60\n",
      "437/437 [==============================] - 68s - loss: 1.0552 - categorical_accuracy: 0.8238 - val_loss: 1.3163 - val_categorical_accuracy: 0.7413\n",
      "Epoch 8/60\n",
      "437/437 [==============================] - 67s - loss: 1.0373 - categorical_accuracy: 0.8249 - val_loss: 1.2761 - val_categorical_accuracy: 0.7413\n",
      "Epoch 9/60\n",
      "437/437 [==============================] - 67s - loss: 0.9856 - categorical_accuracy: 0.8438 - val_loss: 1.2765 - val_categorical_accuracy: 0.7400\n",
      "Epoch 10/60\n",
      "437/437 [==============================] - 68s - loss: 0.9910 - categorical_accuracy: 0.8450 - val_loss: 1.2934 - val_categorical_accuracy: 0.7507\n",
      "Epoch 11/60\n",
      "437/437 [==============================] - 68s - loss: 1.0073 - categorical_accuracy: 0.8330 - val_loss: 1.2877 - val_categorical_accuracy: 0.7280\n",
      "Epoch 12/60\n",
      "437/437 [==============================] - 68s - loss: 1.0071 - categorical_accuracy: 0.8375 - val_loss: 1.2917 - val_categorical_accuracy: 0.7307\n",
      "Epoch 13/60\n",
      "437/437 [==============================] - 68s - loss: 0.9854 - categorical_accuracy: 0.8375 - val_loss: 1.2998 - val_categorical_accuracy: 0.7347\n",
      "Epoch 14/60\n",
      "437/437 [==============================] - 68s - loss: 1.0273 - categorical_accuracy: 0.8324 - val_loss: 1.2616 - val_categorical_accuracy: 0.7467\n",
      "Epoch 15/60\n",
      "437/437 [==============================] - 68s - loss: 0.9437 - categorical_accuracy: 0.8524 - val_loss: 1.2804 - val_categorical_accuracy: 0.7333\n",
      "Epoch 16/60\n",
      "437/437 [==============================] - 68s - loss: 0.9713 - categorical_accuracy: 0.8433 - val_loss: 1.2775 - val_categorical_accuracy: 0.7333\n",
      "Epoch 17/60\n",
      "437/437 [==============================] - 68s - loss: 0.9518 - categorical_accuracy: 0.8415 - val_loss: 1.2691 - val_categorical_accuracy: 0.7320\n",
      "Epoch 18/60\n",
      "437/437 [==============================] - 68s - loss: 0.9421 - categorical_accuracy: 0.8432 - val_loss: 1.2507 - val_categorical_accuracy: 0.7240\n",
      "Epoch 19/60\n",
      "437/437 [==============================] - 68s - loss: 0.9571 - categorical_accuracy: 0.8501 - val_loss: 1.2484 - val_categorical_accuracy: 0.7547\n",
      "Epoch 20/60\n",
      "437/437 [==============================] - 68s - loss: 0.9746 - categorical_accuracy: 0.8307 - val_loss: 1.2906 - val_categorical_accuracy: 0.7373\n",
      "Epoch 21/60\n",
      "437/437 [==============================] - 68s - loss: 0.9228 - categorical_accuracy: 0.8581 - val_loss: 1.3041 - val_categorical_accuracy: 0.7240\n",
      "Epoch 22/60\n",
      "437/437 [==============================] - 69s - loss: 0.9411 - categorical_accuracy: 0.8524 - val_loss: 1.2805 - val_categorical_accuracy: 0.7293\n",
      "Epoch 23/60\n",
      "437/437 [==============================] - 68s - loss: 0.9195 - categorical_accuracy: 0.8467 - val_loss: 1.2736 - val_categorical_accuracy: 0.7267\n",
      "Epoch 24/60\n",
      "437/437 [==============================] - 69s - loss: 0.9454 - categorical_accuracy: 0.8421 - val_loss: 1.2848 - val_categorical_accuracy: 0.7213\n",
      "Epoch 25/60\n",
      "437/437 [==============================] - 68s - loss: 0.9404 - categorical_accuracy: 0.8535 - val_loss: 1.2329 - val_categorical_accuracy: 0.7507\n",
      "Epoch 26/60\n",
      "437/437 [==============================] - 68s - loss: 0.9195 - categorical_accuracy: 0.8587 - val_loss: 1.2553 - val_categorical_accuracy: 0.7533\n",
      "Epoch 27/60\n",
      "437/437 [==============================] - 69s - loss: 0.9359 - categorical_accuracy: 0.8490 - val_loss: 1.2486 - val_categorical_accuracy: 0.7413\n",
      "Epoch 28/60\n",
      "437/437 [==============================] - 69s - loss: 0.9423 - categorical_accuracy: 0.8461 - val_loss: 1.2544 - val_categorical_accuracy: 0.7307\n",
      "Epoch 29/60\n",
      "437/437 [==============================] - 69s - loss: 0.9211 - categorical_accuracy: 0.8535 - val_loss: 1.2283 - val_categorical_accuracy: 0.7507\n",
      "Epoch 30/60\n",
      "437/437 [==============================] - 68s - loss: 0.9215 - categorical_accuracy: 0.8484 - val_loss: 1.2669 - val_categorical_accuracy: 0.7347\n",
      "Epoch 31/60\n",
      "437/437 [==============================] - 68s - loss: 0.9123 - categorical_accuracy: 0.8547 - val_loss: 1.2558 - val_categorical_accuracy: 0.7387\n",
      "Epoch 32/60\n",
      "437/437 [==============================] - 68s - loss: 0.8900 - categorical_accuracy: 0.8673 - val_loss: 1.2444 - val_categorical_accuracy: 0.7413\n",
      "Epoch 33/60\n",
      "437/437 [==============================] - 69s - loss: 0.9186 - categorical_accuracy: 0.8524 - val_loss: 1.2842 - val_categorical_accuracy: 0.7360\n",
      "Epoch 34/60\n",
      "437/437 [==============================] - 68s - loss: 0.8906 - categorical_accuracy: 0.8690 - val_loss: 1.2601 - val_categorical_accuracy: 0.7347\n",
      "Epoch 35/60\n",
      "437/437 [==============================] - 68s - loss: 0.9151 - categorical_accuracy: 0.8490 - val_loss: 1.2646 - val_categorical_accuracy: 0.7360\n",
      "Epoch 36/60\n",
      "437/437 [==============================] - 68s - loss: 0.9274 - categorical_accuracy: 0.8484 - val_loss: 1.2602 - val_categorical_accuracy: 0.7373\n",
      "Epoch 37/60\n",
      "437/437 [==============================] - 68s - loss: 0.8995 - categorical_accuracy: 0.8638 - val_loss: 1.2977 - val_categorical_accuracy: 0.7267\n",
      "Epoch 38/60\n",
      "437/437 [==============================] - 68s - loss: 0.8784 - categorical_accuracy: 0.8638 - val_loss: 1.2486 - val_categorical_accuracy: 0.7440\n",
      "Epoch 39/60\n",
      "437/437 [==============================] - 68s - loss: 0.9112 - categorical_accuracy: 0.8553 - val_loss: 1.2508 - val_categorical_accuracy: 0.7440\n",
      "Epoch 40/60\n",
      "437/437 [==============================] - 69s - loss: 0.8813 - categorical_accuracy: 0.8656 - val_loss: 1.2472 - val_categorical_accuracy: 0.7400\n",
      "Epoch 41/60\n",
      "437/437 [==============================] - 68s - loss: 0.8972 - categorical_accuracy: 0.8581 - val_loss: 1.2264 - val_categorical_accuracy: 0.7533\n",
      "Epoch 42/60\n",
      "437/437 [==============================] - 68s - loss: 0.8915 - categorical_accuracy: 0.8667 - val_loss: 1.2414 - val_categorical_accuracy: 0.7440\n",
      "Epoch 43/60\n",
      "437/437 [==============================] - 68s - loss: 0.8752 - categorical_accuracy: 0.8690 - val_loss: 1.2385 - val_categorical_accuracy: 0.7493\n",
      "Epoch 44/60\n",
      "437/437 [==============================] - 68s - loss: 0.8821 - categorical_accuracy: 0.8644 - val_loss: 1.2471 - val_categorical_accuracy: 0.7333\n",
      "Epoch 45/60\n",
      "437/437 [==============================] - 68s - loss: 0.8811 - categorical_accuracy: 0.8644 - val_loss: 1.2414 - val_categorical_accuracy: 0.7427\n",
      "Epoch 46/60\n",
      "437/437 [==============================] - 68s - loss: 0.8775 - categorical_accuracy: 0.8604 - val_loss: 1.2627 - val_categorical_accuracy: 0.7387\n",
      "Epoch 47/60\n",
      "437/437 [==============================] - 69s - loss: 0.8756 - categorical_accuracy: 0.8707 - val_loss: 1.2440 - val_categorical_accuracy: 0.7427\n",
      "Epoch 48/60\n",
      "437/437 [==============================] - 68s - loss: 0.8727 - categorical_accuracy: 0.8719 - val_loss: 1.2588 - val_categorical_accuracy: 0.7400\n",
      "Epoch 49/60\n",
      "437/437 [==============================] - 68s - loss: 0.8722 - categorical_accuracy: 0.8627 - val_loss: 1.2487 - val_categorical_accuracy: 0.7373\n",
      "Epoch 50/60\n",
      "437/437 [==============================] - 68s - loss: 0.8672 - categorical_accuracy: 0.8730 - val_loss: 1.2601 - val_categorical_accuracy: 0.7293\n",
      "Epoch 51/60\n",
      "437/437 [==============================] - 68s - loss: 0.8720 - categorical_accuracy: 0.8707 - val_loss: 1.2462 - val_categorical_accuracy: 0.7307\n",
      "Epoch 52/60\n"
     ]
    },
    {
     "name": "stdout",
     "output_type": "stream",
     "text": [
      "437/437 [==============================] - 68s - loss: 0.8695 - categorical_accuracy: 0.8781 - val_loss: 1.2594 - val_categorical_accuracy: 0.7267\n",
      "Epoch 53/60\n",
      "437/437 [==============================] - 69s - loss: 0.8843 - categorical_accuracy: 0.8656 - val_loss: 1.2506 - val_categorical_accuracy: 0.7347\n",
      "Epoch 54/60\n",
      "437/437 [==============================] - 68s - loss: 0.8669 - categorical_accuracy: 0.8724 - val_loss: 1.2543 - val_categorical_accuracy: 0.7360\n",
      "Epoch 55/60\n",
      "437/437 [==============================] - 69s - loss: 0.8887 - categorical_accuracy: 0.8616 - val_loss: 1.2554 - val_categorical_accuracy: 0.7400\n",
      "Epoch 56/60\n",
      "437/437 [==============================] - 69s - loss: 0.8468 - categorical_accuracy: 0.8862 - val_loss: 1.2483 - val_categorical_accuracy: 0.7453\n",
      "Epoch 57/60\n",
      "437/437 [==============================] - 68s - loss: 0.8605 - categorical_accuracy: 0.8667 - val_loss: 1.2367 - val_categorical_accuracy: 0.7373\n",
      "Epoch 58/60\n",
      "437/437 [==============================] - 68s - loss: 0.8858 - categorical_accuracy: 0.8736 - val_loss: 1.2494 - val_categorical_accuracy: 0.7387\n",
      "Epoch 59/60\n",
      "437/437 [==============================] - 71s - loss: 0.8712 - categorical_accuracy: 0.8667 - val_loss: 1.2556 - val_categorical_accuracy: 0.7360\n",
      "Epoch 60/60\n",
      "437/437 [==============================] - 68s - loss: 0.8620 - categorical_accuracy: 0.8690 - val_loss: 1.2789 - val_categorical_accuracy: 0.7307\n"
     ]
    },
    {
     "data": {
      "text/plain": [
       "<keras.callbacks.History at 0x7f6ccf841f60>"
      ]
     },
     "execution_count": 16,
     "metadata": {},
     "output_type": "execute_result"
    }
   ],
   "source": [
    "batch_size = 4\n",
    "model.fit_generator(\n",
    "    data_generator.flow(train_x, train_y, batch_size=batch_size),\n",
    "    steps_per_epoch=int(len(train_y) / batch_size), epochs=60,\n",
    "    callbacks=[MyClallback(model, 'untrainable_layers')],\n",
    "    validation_data=(test_x, test_y)\n",
    ")"
   ]
  },
  {
   "cell_type": "code",
   "execution_count": 18,
   "metadata": {},
   "outputs": [],
   "source": [
    "from keras.callbacks import ReduceLROnPlateau\n",
    "\n",
    "reduce_lr = ReduceLROnPlateau(\n",
    "    monitor='val_acc',\n",
    "    patience=15,\n",
    "    verbose=1,\n",
    "    epsilon=0.006,\n",
    "    min_lr=1e-8\n",
    ")"
   ]
  },
  {
   "cell_type": "code",
   "execution_count": 19,
   "metadata": {},
   "outputs": [
    {
     "name": "stdout",
     "output_type": "stream",
     "text": [
      "Epoch 1/60\n",
      "437/437 [==============================] - 71s - loss: 0.8420 - categorical_accuracy: 0.8764 - val_loss: 1.2296 - val_categorical_accuracy: 0.7347\n",
      "Epoch 2/60\n",
      "  2/437 [..............................] - ETA: 35s - loss: 0.9668 - categorical_accuracy: 0.7500"
     ]
    },
    {
     "name": "stderr",
     "output_type": "stream",
     "text": [
      "/usr/lib/python3.6/site-packages/keras/callbacks.py:879: RuntimeWarning: Reduce LR on plateau conditioned on metric `val_acc` which is not available. Available metrics are: val_loss,val_categorical_accuracy,loss,categorical_accuracy,lr\n",
      "  (self.monitor, ','.join(list(logs.keys()))), RuntimeWarning\n"
     ]
    },
    {
     "name": "stdout",
     "output_type": "stream",
     "text": [
      "437/437 [==============================] - 67s - loss: 0.8477 - categorical_accuracy: 0.8764 - val_loss: 1.2291 - val_categorical_accuracy: 0.7360\n",
      "Epoch 3/60\n",
      "437/437 [==============================] - 67s - loss: 0.8396 - categorical_accuracy: 0.8764 - val_loss: 1.2460 - val_categorical_accuracy: 0.7307\n",
      "Epoch 4/60\n",
      "437/437 [==============================] - 68s - loss: 0.8278 - categorical_accuracy: 0.8810 - val_loss: 1.2311 - val_categorical_accuracy: 0.7413\n",
      "Epoch 5/60\n",
      "437/437 [==============================] - 69s - loss: 0.8484 - categorical_accuracy: 0.8690 - val_loss: 1.2673 - val_categorical_accuracy: 0.7187\n",
      "Epoch 6/60\n",
      "437/437 [==============================] - 68s - loss: 0.8327 - categorical_accuracy: 0.8787 - val_loss: 1.2439 - val_categorical_accuracy: 0.7280\n",
      "Epoch 7/60\n",
      "437/437 [==============================] - 70s - loss: 0.8610 - categorical_accuracy: 0.8650 - val_loss: 1.2365 - val_categorical_accuracy: 0.7400\n",
      "Epoch 8/60\n",
      "437/437 [==============================] - 68s - loss: 0.8496 - categorical_accuracy: 0.8839 - val_loss: 1.2394 - val_categorical_accuracy: 0.7400\n",
      "Epoch 9/60\n",
      "437/437 [==============================] - 69s - loss: 0.8439 - categorical_accuracy: 0.8804 - val_loss: 1.2464 - val_categorical_accuracy: 0.7440\n",
      "Epoch 10/60\n",
      "437/437 [==============================] - 69s - loss: 0.8596 - categorical_accuracy: 0.8776 - val_loss: 1.2567 - val_categorical_accuracy: 0.7373\n",
      "Epoch 11/60\n",
      "436/437 [============================>.] - ETA: 0s - loss: 0.8209 - categorical_accuracy: 0.8916"
     ]
    },
    {
     "ename": "KeyboardInterrupt",
     "evalue": "",
     "output_type": "error",
     "traceback": [
      "\u001b[0;31m---------------------------------------------------------------------------\u001b[0m",
      "\u001b[0;31mKeyboardInterrupt\u001b[0m                         Traceback (most recent call last)",
      "\u001b[0;32m<ipython-input-19-4e65b030dd0e>\u001b[0m in \u001b[0;36m<module>\u001b[0;34m()\u001b[0m\n\u001b[1;32m      4\u001b[0m     \u001b[0msteps_per_epoch\u001b[0m\u001b[0;34m=\u001b[0m\u001b[0mint\u001b[0m\u001b[0;34m(\u001b[0m\u001b[0mlen\u001b[0m\u001b[0;34m(\u001b[0m\u001b[0mtrain_y\u001b[0m\u001b[0;34m)\u001b[0m \u001b[0;34m/\u001b[0m \u001b[0mbatch_size\u001b[0m\u001b[0;34m)\u001b[0m\u001b[0;34m,\u001b[0m \u001b[0mepochs\u001b[0m\u001b[0;34m=\u001b[0m\u001b[0;36m60\u001b[0m\u001b[0;34m,\u001b[0m\u001b[0;34m\u001b[0m\u001b[0m\n\u001b[1;32m      5\u001b[0m     \u001b[0mcallbacks\u001b[0m\u001b[0;34m=\u001b[0m\u001b[0;34m[\u001b[0m\u001b[0mMyClallback\u001b[0m\u001b[0;34m(\u001b[0m\u001b[0mmodel\u001b[0m\u001b[0;34m,\u001b[0m \u001b[0;34m'trainable_layers'\u001b[0m\u001b[0;34m)\u001b[0m\u001b[0;34m,\u001b[0m \u001b[0mreduce_lr\u001b[0m\u001b[0;34m]\u001b[0m\u001b[0;34m,\u001b[0m\u001b[0;34m\u001b[0m\u001b[0m\n\u001b[0;32m----> 6\u001b[0;31m     \u001b[0mvalidation_data\u001b[0m\u001b[0;34m=\u001b[0m\u001b[0;34m(\u001b[0m\u001b[0mtest_x\u001b[0m\u001b[0;34m,\u001b[0m \u001b[0mtest_y\u001b[0m\u001b[0;34m)\u001b[0m\u001b[0;34m\u001b[0m\u001b[0m\n\u001b[0m\u001b[1;32m      7\u001b[0m )\n",
      "\u001b[0;32m/usr/lib/python3.6/site-packages/keras/legacy/interfaces.py\u001b[0m in \u001b[0;36mwrapper\u001b[0;34m(*args, **kwargs)\u001b[0m\n\u001b[1;32m     85\u001b[0m                 warnings.warn('Update your `' + object_name +\n\u001b[1;32m     86\u001b[0m                               '` call to the Keras 2 API: ' + signature, stacklevel=2)\n\u001b[0;32m---> 87\u001b[0;31m             \u001b[0;32mreturn\u001b[0m \u001b[0mfunc\u001b[0m\u001b[0;34m(\u001b[0m\u001b[0;34m*\u001b[0m\u001b[0margs\u001b[0m\u001b[0;34m,\u001b[0m \u001b[0;34m**\u001b[0m\u001b[0mkwargs\u001b[0m\u001b[0;34m)\u001b[0m\u001b[0;34m\u001b[0m\u001b[0m\n\u001b[0m\u001b[1;32m     88\u001b[0m         \u001b[0mwrapper\u001b[0m\u001b[0;34m.\u001b[0m\u001b[0m_original_function\u001b[0m \u001b[0;34m=\u001b[0m \u001b[0mfunc\u001b[0m\u001b[0;34m\u001b[0m\u001b[0m\n\u001b[1;32m     89\u001b[0m         \u001b[0;32mreturn\u001b[0m \u001b[0mwrapper\u001b[0m\u001b[0;34m\u001b[0m\u001b[0m\n",
      "\u001b[0;32m/usr/lib/python3.6/site-packages/keras/engine/training.py\u001b[0m in \u001b[0;36mfit_generator\u001b[0;34m(self, generator, steps_per_epoch, epochs, verbose, callbacks, validation_data, validation_steps, class_weight, max_queue_size, workers, use_multiprocessing, initial_epoch)\u001b[0m\n\u001b[1;32m   1868\u001b[0m                                 \u001b[0mbatch_size\u001b[0m\u001b[0;34m=\u001b[0m\u001b[0mbatch_size\u001b[0m\u001b[0;34m,\u001b[0m\u001b[0;34m\u001b[0m\u001b[0m\n\u001b[1;32m   1869\u001b[0m                                 \u001b[0msample_weight\u001b[0m\u001b[0;34m=\u001b[0m\u001b[0mval_sample_weights\u001b[0m\u001b[0;34m,\u001b[0m\u001b[0;34m\u001b[0m\u001b[0m\n\u001b[0;32m-> 1870\u001b[0;31m                                 verbose=0)\n\u001b[0m\u001b[1;32m   1871\u001b[0m                         \u001b[0;32mif\u001b[0m \u001b[0;32mnot\u001b[0m \u001b[0misinstance\u001b[0m\u001b[0;34m(\u001b[0m\u001b[0mval_outs\u001b[0m\u001b[0;34m,\u001b[0m \u001b[0mlist\u001b[0m\u001b[0;34m)\u001b[0m\u001b[0;34m:\u001b[0m\u001b[0;34m\u001b[0m\u001b[0m\n\u001b[1;32m   1872\u001b[0m                             \u001b[0mval_outs\u001b[0m \u001b[0;34m=\u001b[0m \u001b[0;34m[\u001b[0m\u001b[0mval_outs\u001b[0m\u001b[0;34m]\u001b[0m\u001b[0;34m\u001b[0m\u001b[0m\n",
      "\u001b[0;32m/usr/lib/python3.6/site-packages/keras/engine/training.py\u001b[0m in \u001b[0;36mevaluate\u001b[0;34m(self, x, y, batch_size, verbose, sample_weight)\u001b[0m\n\u001b[1;32m   1472\u001b[0m         return self._test_loop(f, ins,\n\u001b[1;32m   1473\u001b[0m                                \u001b[0mbatch_size\u001b[0m\u001b[0;34m=\u001b[0m\u001b[0mbatch_size\u001b[0m\u001b[0;34m,\u001b[0m\u001b[0;34m\u001b[0m\u001b[0m\n\u001b[0;32m-> 1474\u001b[0;31m                                verbose=verbose)\n\u001b[0m\u001b[1;32m   1475\u001b[0m \u001b[0;34m\u001b[0m\u001b[0m\n\u001b[1;32m   1476\u001b[0m     \u001b[0;32mdef\u001b[0m \u001b[0mpredict\u001b[0m\u001b[0;34m(\u001b[0m\u001b[0mself\u001b[0m\u001b[0;34m,\u001b[0m \u001b[0mx\u001b[0m\u001b[0;34m,\u001b[0m \u001b[0mbatch_size\u001b[0m\u001b[0;34m=\u001b[0m\u001b[0;36m32\u001b[0m\u001b[0;34m,\u001b[0m \u001b[0mverbose\u001b[0m\u001b[0;34m=\u001b[0m\u001b[0;36m0\u001b[0m\u001b[0;34m)\u001b[0m\u001b[0;34m:\u001b[0m\u001b[0;34m\u001b[0m\u001b[0m\n",
      "\u001b[0;32m/usr/lib/python3.6/site-packages/keras/engine/training.py\u001b[0m in \u001b[0;36m_test_loop\u001b[0;34m(self, f, ins, batch_size, verbose)\u001b[0m\n\u001b[1;32m   1193\u001b[0m                 \u001b[0mins_batch\u001b[0m \u001b[0;34m=\u001b[0m \u001b[0m_slice_arrays\u001b[0m\u001b[0;34m(\u001b[0m\u001b[0mins\u001b[0m\u001b[0;34m,\u001b[0m \u001b[0mbatch_ids\u001b[0m\u001b[0;34m)\u001b[0m\u001b[0;34m\u001b[0m\u001b[0m\n\u001b[1;32m   1194\u001b[0m \u001b[0;34m\u001b[0m\u001b[0m\n\u001b[0;32m-> 1195\u001b[0;31m             \u001b[0mbatch_outs\u001b[0m \u001b[0;34m=\u001b[0m \u001b[0mf\u001b[0m\u001b[0;34m(\u001b[0m\u001b[0mins_batch\u001b[0m\u001b[0;34m)\u001b[0m\u001b[0;34m\u001b[0m\u001b[0m\n\u001b[0m\u001b[1;32m   1196\u001b[0m             \u001b[0;32mif\u001b[0m \u001b[0misinstance\u001b[0m\u001b[0;34m(\u001b[0m\u001b[0mbatch_outs\u001b[0m\u001b[0;34m,\u001b[0m \u001b[0mlist\u001b[0m\u001b[0;34m)\u001b[0m\u001b[0;34m:\u001b[0m\u001b[0;34m\u001b[0m\u001b[0m\n\u001b[1;32m   1197\u001b[0m                 \u001b[0;32mif\u001b[0m \u001b[0mbatch_index\u001b[0m \u001b[0;34m==\u001b[0m \u001b[0;36m0\u001b[0m\u001b[0;34m:\u001b[0m\u001b[0;34m\u001b[0m\u001b[0m\n",
      "\u001b[0;32m/usr/lib/python3.6/site-packages/keras/backend/tensorflow_backend.py\u001b[0m in \u001b[0;36m__call__\u001b[0;34m(self, inputs)\u001b[0m\n\u001b[1;32m   2266\u001b[0m         updated = session.run(self.outputs + [self.updates_op],\n\u001b[1;32m   2267\u001b[0m                               \u001b[0mfeed_dict\u001b[0m\u001b[0;34m=\u001b[0m\u001b[0mfeed_dict\u001b[0m\u001b[0;34m,\u001b[0m\u001b[0;34m\u001b[0m\u001b[0m\n\u001b[0;32m-> 2268\u001b[0;31m                               **self.session_kwargs)\n\u001b[0m\u001b[1;32m   2269\u001b[0m         \u001b[0;32mreturn\u001b[0m \u001b[0mupdated\u001b[0m\u001b[0;34m[\u001b[0m\u001b[0;34m:\u001b[0m\u001b[0mlen\u001b[0m\u001b[0;34m(\u001b[0m\u001b[0mself\u001b[0m\u001b[0;34m.\u001b[0m\u001b[0moutputs\u001b[0m\u001b[0;34m)\u001b[0m\u001b[0;34m]\u001b[0m\u001b[0;34m\u001b[0m\u001b[0m\n\u001b[1;32m   2270\u001b[0m \u001b[0;34m\u001b[0m\u001b[0m\n",
      "\u001b[0;32m/usr/lib/python3.6/site-packages/tensorflow/python/client/session.py\u001b[0m in \u001b[0;36mrun\u001b[0;34m(self, fetches, feed_dict, options, run_metadata)\u001b[0m\n\u001b[1;32m    887\u001b[0m     \u001b[0;32mtry\u001b[0m\u001b[0;34m:\u001b[0m\u001b[0;34m\u001b[0m\u001b[0m\n\u001b[1;32m    888\u001b[0m       result = self._run(None, fetches, feed_dict, options_ptr,\n\u001b[0;32m--> 889\u001b[0;31m                          run_metadata_ptr)\n\u001b[0m\u001b[1;32m    890\u001b[0m       \u001b[0;32mif\u001b[0m \u001b[0mrun_metadata\u001b[0m\u001b[0;34m:\u001b[0m\u001b[0;34m\u001b[0m\u001b[0m\n\u001b[1;32m    891\u001b[0m         \u001b[0mproto_data\u001b[0m \u001b[0;34m=\u001b[0m \u001b[0mtf_session\u001b[0m\u001b[0;34m.\u001b[0m\u001b[0mTF_GetBuffer\u001b[0m\u001b[0;34m(\u001b[0m\u001b[0mrun_metadata_ptr\u001b[0m\u001b[0;34m)\u001b[0m\u001b[0;34m\u001b[0m\u001b[0m\n",
      "\u001b[0;32m/usr/lib/python3.6/site-packages/tensorflow/python/client/session.py\u001b[0m in \u001b[0;36m_run\u001b[0;34m(self, handle, fetches, feed_dict, options, run_metadata)\u001b[0m\n\u001b[1;32m   1118\u001b[0m     \u001b[0;32mif\u001b[0m \u001b[0mfinal_fetches\u001b[0m \u001b[0;32mor\u001b[0m \u001b[0mfinal_targets\u001b[0m \u001b[0;32mor\u001b[0m \u001b[0;34m(\u001b[0m\u001b[0mhandle\u001b[0m \u001b[0;32mand\u001b[0m \u001b[0mfeed_dict_tensor\u001b[0m\u001b[0;34m)\u001b[0m\u001b[0;34m:\u001b[0m\u001b[0;34m\u001b[0m\u001b[0m\n\u001b[1;32m   1119\u001b[0m       results = self._do_run(handle, final_targets, final_fetches,\n\u001b[0;32m-> 1120\u001b[0;31m                              feed_dict_tensor, options, run_metadata)\n\u001b[0m\u001b[1;32m   1121\u001b[0m     \u001b[0;32melse\u001b[0m\u001b[0;34m:\u001b[0m\u001b[0;34m\u001b[0m\u001b[0m\n\u001b[1;32m   1122\u001b[0m       \u001b[0mresults\u001b[0m \u001b[0;34m=\u001b[0m \u001b[0;34m[\u001b[0m\u001b[0;34m]\u001b[0m\u001b[0;34m\u001b[0m\u001b[0m\n",
      "\u001b[0;32m/usr/lib/python3.6/site-packages/tensorflow/python/client/session.py\u001b[0m in \u001b[0;36m_do_run\u001b[0;34m(self, handle, target_list, fetch_list, feed_dict, options, run_metadata)\u001b[0m\n\u001b[1;32m   1315\u001b[0m     \u001b[0;32mif\u001b[0m \u001b[0mhandle\u001b[0m \u001b[0;32mis\u001b[0m \u001b[0;32mNone\u001b[0m\u001b[0;34m:\u001b[0m\u001b[0;34m\u001b[0m\u001b[0m\n\u001b[1;32m   1316\u001b[0m       return self._do_call(_run_fn, self._session, feeds, fetches, targets,\n\u001b[0;32m-> 1317\u001b[0;31m                            options, run_metadata)\n\u001b[0m\u001b[1;32m   1318\u001b[0m     \u001b[0;32melse\u001b[0m\u001b[0;34m:\u001b[0m\u001b[0;34m\u001b[0m\u001b[0m\n\u001b[1;32m   1319\u001b[0m       \u001b[0;32mreturn\u001b[0m \u001b[0mself\u001b[0m\u001b[0;34m.\u001b[0m\u001b[0m_do_call\u001b[0m\u001b[0;34m(\u001b[0m\u001b[0m_prun_fn\u001b[0m\u001b[0;34m,\u001b[0m \u001b[0mself\u001b[0m\u001b[0;34m.\u001b[0m\u001b[0m_session\u001b[0m\u001b[0;34m,\u001b[0m \u001b[0mhandle\u001b[0m\u001b[0;34m,\u001b[0m \u001b[0mfeeds\u001b[0m\u001b[0;34m,\u001b[0m \u001b[0mfetches\u001b[0m\u001b[0;34m)\u001b[0m\u001b[0;34m\u001b[0m\u001b[0m\n",
      "\u001b[0;32m/usr/lib/python3.6/site-packages/tensorflow/python/client/session.py\u001b[0m in \u001b[0;36m_do_call\u001b[0;34m(self, fn, *args)\u001b[0m\n\u001b[1;32m   1321\u001b[0m   \u001b[0;32mdef\u001b[0m \u001b[0m_do_call\u001b[0m\u001b[0;34m(\u001b[0m\u001b[0mself\u001b[0m\u001b[0;34m,\u001b[0m \u001b[0mfn\u001b[0m\u001b[0;34m,\u001b[0m \u001b[0;34m*\u001b[0m\u001b[0margs\u001b[0m\u001b[0;34m)\u001b[0m\u001b[0;34m:\u001b[0m\u001b[0;34m\u001b[0m\u001b[0m\n\u001b[1;32m   1322\u001b[0m     \u001b[0;32mtry\u001b[0m\u001b[0;34m:\u001b[0m\u001b[0;34m\u001b[0m\u001b[0m\n\u001b[0;32m-> 1323\u001b[0;31m       \u001b[0;32mreturn\u001b[0m \u001b[0mfn\u001b[0m\u001b[0;34m(\u001b[0m\u001b[0;34m*\u001b[0m\u001b[0margs\u001b[0m\u001b[0;34m)\u001b[0m\u001b[0;34m\u001b[0m\u001b[0m\n\u001b[0m\u001b[1;32m   1324\u001b[0m     \u001b[0;32mexcept\u001b[0m \u001b[0merrors\u001b[0m\u001b[0;34m.\u001b[0m\u001b[0mOpError\u001b[0m \u001b[0;32mas\u001b[0m \u001b[0me\u001b[0m\u001b[0;34m:\u001b[0m\u001b[0;34m\u001b[0m\u001b[0m\n\u001b[1;32m   1325\u001b[0m       \u001b[0mmessage\u001b[0m \u001b[0;34m=\u001b[0m \u001b[0mcompat\u001b[0m\u001b[0;34m.\u001b[0m\u001b[0mas_text\u001b[0m\u001b[0;34m(\u001b[0m\u001b[0me\u001b[0m\u001b[0;34m.\u001b[0m\u001b[0mmessage\u001b[0m\u001b[0;34m)\u001b[0m\u001b[0;34m\u001b[0m\u001b[0m\n",
      "\u001b[0;32m/usr/lib/python3.6/site-packages/tensorflow/python/client/session.py\u001b[0m in \u001b[0;36m_run_fn\u001b[0;34m(session, feed_dict, fetch_list, target_list, options, run_metadata)\u001b[0m\n\u001b[1;32m   1300\u001b[0m           return tf_session.TF_Run(session, options,\n\u001b[1;32m   1301\u001b[0m                                    \u001b[0mfeed_dict\u001b[0m\u001b[0;34m,\u001b[0m \u001b[0mfetch_list\u001b[0m\u001b[0;34m,\u001b[0m \u001b[0mtarget_list\u001b[0m\u001b[0;34m,\u001b[0m\u001b[0;34m\u001b[0m\u001b[0m\n\u001b[0;32m-> 1302\u001b[0;31m                                    status, run_metadata)\n\u001b[0m\u001b[1;32m   1303\u001b[0m \u001b[0;34m\u001b[0m\u001b[0m\n\u001b[1;32m   1304\u001b[0m     \u001b[0;32mdef\u001b[0m \u001b[0m_prun_fn\u001b[0m\u001b[0;34m(\u001b[0m\u001b[0msession\u001b[0m\u001b[0;34m,\u001b[0m \u001b[0mhandle\u001b[0m\u001b[0;34m,\u001b[0m \u001b[0mfeed_dict\u001b[0m\u001b[0;34m,\u001b[0m \u001b[0mfetch_list\u001b[0m\u001b[0;34m)\u001b[0m\u001b[0;34m:\u001b[0m\u001b[0;34m\u001b[0m\u001b[0m\n",
      "\u001b[0;31mKeyboardInterrupt\u001b[0m: "
     ]
    }
   ],
   "source": [
    "batch_size = 4\n",
    "model.fit_generator(\n",
    "    data_generator.flow(train_x, train_y, batch_size=batch_size),\n",
    "    steps_per_epoch=int(len(train_y) / batch_size), epochs=60,\n",
    "    callbacks=[MyClallback(model, 'trainable_layers'), reduce_lr],\n",
    "    validation_data=(test_x, test_y)\n",
    ")"
   ]
  },
  {
   "cell_type": "code",
   "execution_count": 20,
   "metadata": {
    "collapsed": true
   },
   "outputs": [],
   "source": [
    "model.compile(\n",
    "    loss='categorical_crossentropy',\n",
    "    optimizer=Adam(lr=1e-4, decay=1e-2),\n",
    "    metrics=['categorical_accuracy']\n",
    ")"
   ]
  },
  {
   "cell_type": "code",
   "execution_count": 21,
   "metadata": {},
   "outputs": [
    {
     "name": "stdout",
     "output_type": "stream",
     "text": [
      "Epoch 1/60\n",
      "437/437 [==============================] - 91s - loss: 0.8374 - categorical_accuracy: 0.8673 - val_loss: 1.1811 - val_categorical_accuracy: 0.7680\n",
      "Epoch 2/60\n",
      "437/437 [==============================] - 85s - loss: 0.7351 - categorical_accuracy: 0.9119 - val_loss: 1.1437 - val_categorical_accuracy: 0.7853\n",
      "Epoch 3/60\n",
      "437/437 [==============================] - 87s - loss: 0.6683 - categorical_accuracy: 0.9342 - val_loss: 1.1588 - val_categorical_accuracy: 0.7707\n",
      "Epoch 4/60\n",
      "437/437 [==============================] - 87s - loss: 0.6795 - categorical_accuracy: 0.9296 - val_loss: 1.1459 - val_categorical_accuracy: 0.7813\n",
      "Epoch 5/60\n",
      "437/437 [==============================] - 87s - loss: 0.6365 - categorical_accuracy: 0.9445 - val_loss: 1.1304 - val_categorical_accuracy: 0.7813\n",
      "Epoch 6/60\n",
      "437/437 [==============================] - 88s - loss: 0.6446 - categorical_accuracy: 0.9388 - val_loss: 1.1425 - val_categorical_accuracy: 0.7800\n",
      "Epoch 7/60\n",
      "437/437 [==============================] - 87s - loss: 0.6374 - categorical_accuracy: 0.9439 - val_loss: 1.1426 - val_categorical_accuracy: 0.7813\n",
      "Epoch 8/60\n",
      "437/437 [==============================] - 87s - loss: 0.6534 - categorical_accuracy: 0.9399 - val_loss: 1.1265 - val_categorical_accuracy: 0.7920\n",
      "Epoch 9/60\n",
      "437/437 [==============================] - 88s - loss: 0.6407 - categorical_accuracy: 0.9439 - val_loss: 1.1309 - val_categorical_accuracy: 0.7853\n",
      "Epoch 10/60\n",
      "437/437 [==============================] - 87s - loss: 0.6227 - categorical_accuracy: 0.9434 - val_loss: 1.1301 - val_categorical_accuracy: 0.7907\n",
      "Epoch 11/60\n",
      "437/437 [==============================] - 87s - loss: 0.6016 - categorical_accuracy: 0.9571 - val_loss: 1.1281 - val_categorical_accuracy: 0.7813\n",
      "Epoch 12/60\n",
      "437/437 [==============================] - 88s - loss: 0.6093 - categorical_accuracy: 0.9577 - val_loss: 1.1276 - val_categorical_accuracy: 0.7827\n",
      "Epoch 13/60\n",
      "437/437 [==============================] - 87s - loss: 0.6029 - categorical_accuracy: 0.9565 - val_loss: 1.1367 - val_categorical_accuracy: 0.7733\n",
      "Epoch 14/60\n",
      "437/437 [==============================] - 87s - loss: 0.5964 - categorical_accuracy: 0.9600 - val_loss: 1.1348 - val_categorical_accuracy: 0.7800\n",
      "Epoch 15/60\n",
      "437/437 [==============================] - 87s - loss: 0.6014 - categorical_accuracy: 0.9554 - val_loss: 1.1358 - val_categorical_accuracy: 0.7827\n",
      "Epoch 16/60\n",
      "437/437 [==============================] - 87s - loss: 0.6000 - categorical_accuracy: 0.9582 - val_loss: 1.1386 - val_categorical_accuracy: 0.7840\n",
      "Epoch 17/60\n",
      "437/437 [==============================] - 87s - loss: 0.5905 - categorical_accuracy: 0.9582 - val_loss: 1.1368 - val_categorical_accuracy: 0.7787\n",
      "Epoch 18/60\n",
      "437/437 [==============================] - 87s - loss: 0.6056 - categorical_accuracy: 0.9531 - val_loss: 1.1413 - val_categorical_accuracy: 0.7787\n",
      "Epoch 19/60\n",
      "437/437 [==============================] - 88s - loss: 0.5792 - categorical_accuracy: 0.9628 - val_loss: 1.1320 - val_categorical_accuracy: 0.7733\n",
      "Epoch 20/60\n",
      "437/437 [==============================] - 87s - loss: 0.5992 - categorical_accuracy: 0.9531 - val_loss: 1.1399 - val_categorical_accuracy: 0.7720\n",
      "Epoch 21/60\n",
      "  8/437 [..............................] - ETA: 65s - loss: 0.6147 - categorical_accuracy: 0.9375"
     ]
    },
    {
     "ename": "KeyboardInterrupt",
     "evalue": "",
     "output_type": "error",
     "traceback": [
      "\u001b[0;31m---------------------------------------------------------------------------\u001b[0m",
      "\u001b[0;31mKeyboardInterrupt\u001b[0m                         Traceback (most recent call last)",
      "\u001b[0;32m<ipython-input-21-f27a80c17e33>\u001b[0m in \u001b[0;36m<module>\u001b[0;34m()\u001b[0m\n\u001b[1;32m      4\u001b[0m     \u001b[0msteps_per_epoch\u001b[0m\u001b[0;34m=\u001b[0m\u001b[0mint\u001b[0m\u001b[0;34m(\u001b[0m\u001b[0mlen\u001b[0m\u001b[0;34m(\u001b[0m\u001b[0mtrain_y\u001b[0m\u001b[0;34m)\u001b[0m \u001b[0;34m/\u001b[0m \u001b[0mbatch_size\u001b[0m\u001b[0;34m)\u001b[0m\u001b[0;34m,\u001b[0m \u001b[0mepochs\u001b[0m\u001b[0;34m=\u001b[0m\u001b[0;36m60\u001b[0m\u001b[0;34m,\u001b[0m\u001b[0;34m\u001b[0m\u001b[0m\n\u001b[1;32m      5\u001b[0m     \u001b[0mcallbacks\u001b[0m\u001b[0;34m=\u001b[0m\u001b[0;34m[\u001b[0m\u001b[0mMyClallback\u001b[0m\u001b[0;34m(\u001b[0m\u001b[0mmodel\u001b[0m\u001b[0;34m,\u001b[0m \u001b[0;34m'trainable_layers'\u001b[0m\u001b[0;34m)\u001b[0m\u001b[0;34m]\u001b[0m\u001b[0;34m,\u001b[0m\u001b[0;34m\u001b[0m\u001b[0m\n\u001b[0;32m----> 6\u001b[0;31m     \u001b[0mvalidation_data\u001b[0m\u001b[0;34m=\u001b[0m\u001b[0;34m(\u001b[0m\u001b[0mtest_x\u001b[0m\u001b[0;34m,\u001b[0m \u001b[0mtest_y\u001b[0m\u001b[0;34m)\u001b[0m\u001b[0;34m\u001b[0m\u001b[0m\n\u001b[0m\u001b[1;32m      7\u001b[0m )\n",
      "\u001b[0;32m/usr/lib/python3.6/site-packages/keras/legacy/interfaces.py\u001b[0m in \u001b[0;36mwrapper\u001b[0;34m(*args, **kwargs)\u001b[0m\n\u001b[1;32m     85\u001b[0m                 warnings.warn('Update your `' + object_name +\n\u001b[1;32m     86\u001b[0m                               '` call to the Keras 2 API: ' + signature, stacklevel=2)\n\u001b[0;32m---> 87\u001b[0;31m             \u001b[0;32mreturn\u001b[0m \u001b[0mfunc\u001b[0m\u001b[0;34m(\u001b[0m\u001b[0;34m*\u001b[0m\u001b[0margs\u001b[0m\u001b[0;34m,\u001b[0m \u001b[0;34m**\u001b[0m\u001b[0mkwargs\u001b[0m\u001b[0;34m)\u001b[0m\u001b[0;34m\u001b[0m\u001b[0m\n\u001b[0m\u001b[1;32m     88\u001b[0m         \u001b[0mwrapper\u001b[0m\u001b[0;34m.\u001b[0m\u001b[0m_original_function\u001b[0m \u001b[0;34m=\u001b[0m \u001b[0mfunc\u001b[0m\u001b[0;34m\u001b[0m\u001b[0m\n\u001b[1;32m     89\u001b[0m         \u001b[0;32mreturn\u001b[0m \u001b[0mwrapper\u001b[0m\u001b[0;34m\u001b[0m\u001b[0m\n",
      "\u001b[0;32m/usr/lib/python3.6/site-packages/keras/engine/training.py\u001b[0m in \u001b[0;36mfit_generator\u001b[0;34m(self, generator, steps_per_epoch, epochs, verbose, callbacks, validation_data, validation_steps, class_weight, max_queue_size, workers, use_multiprocessing, initial_epoch)\u001b[0m\n\u001b[1;32m   1838\u001b[0m                     outs = self.train_on_batch(x, y,\n\u001b[1;32m   1839\u001b[0m                                                \u001b[0msample_weight\u001b[0m\u001b[0;34m=\u001b[0m\u001b[0msample_weight\u001b[0m\u001b[0;34m,\u001b[0m\u001b[0;34m\u001b[0m\u001b[0m\n\u001b[0;32m-> 1840\u001b[0;31m                                                class_weight=class_weight)\n\u001b[0m\u001b[1;32m   1841\u001b[0m \u001b[0;34m\u001b[0m\u001b[0m\n\u001b[1;32m   1842\u001b[0m                     \u001b[0;32mif\u001b[0m \u001b[0;32mnot\u001b[0m \u001b[0misinstance\u001b[0m\u001b[0;34m(\u001b[0m\u001b[0mouts\u001b[0m\u001b[0;34m,\u001b[0m \u001b[0mlist\u001b[0m\u001b[0;34m)\u001b[0m\u001b[0;34m:\u001b[0m\u001b[0;34m\u001b[0m\u001b[0m\n",
      "\u001b[0;32m/usr/lib/python3.6/site-packages/keras/engine/training.py\u001b[0m in \u001b[0;36mtrain_on_batch\u001b[0;34m(self, x, y, sample_weight, class_weight)\u001b[0m\n\u001b[1;32m   1563\u001b[0m             \u001b[0mins\u001b[0m \u001b[0;34m=\u001b[0m \u001b[0mx\u001b[0m \u001b[0;34m+\u001b[0m \u001b[0my\u001b[0m \u001b[0;34m+\u001b[0m \u001b[0msample_weights\u001b[0m\u001b[0;34m\u001b[0m\u001b[0m\n\u001b[1;32m   1564\u001b[0m         \u001b[0mself\u001b[0m\u001b[0;34m.\u001b[0m\u001b[0m_make_train_function\u001b[0m\u001b[0;34m(\u001b[0m\u001b[0;34m)\u001b[0m\u001b[0;34m\u001b[0m\u001b[0m\n\u001b[0;32m-> 1565\u001b[0;31m         \u001b[0moutputs\u001b[0m \u001b[0;34m=\u001b[0m \u001b[0mself\u001b[0m\u001b[0;34m.\u001b[0m\u001b[0mtrain_function\u001b[0m\u001b[0;34m(\u001b[0m\u001b[0mins\u001b[0m\u001b[0;34m)\u001b[0m\u001b[0;34m\u001b[0m\u001b[0m\n\u001b[0m\u001b[1;32m   1566\u001b[0m         \u001b[0;32mif\u001b[0m \u001b[0mlen\u001b[0m\u001b[0;34m(\u001b[0m\u001b[0moutputs\u001b[0m\u001b[0;34m)\u001b[0m \u001b[0;34m==\u001b[0m \u001b[0;36m1\u001b[0m\u001b[0;34m:\u001b[0m\u001b[0;34m\u001b[0m\u001b[0m\n\u001b[1;32m   1567\u001b[0m             \u001b[0;32mreturn\u001b[0m \u001b[0moutputs\u001b[0m\u001b[0;34m[\u001b[0m\u001b[0;36m0\u001b[0m\u001b[0;34m]\u001b[0m\u001b[0;34m\u001b[0m\u001b[0m\n",
      "\u001b[0;32m/usr/lib/python3.6/site-packages/keras/backend/tensorflow_backend.py\u001b[0m in \u001b[0;36m__call__\u001b[0;34m(self, inputs)\u001b[0m\n\u001b[1;32m   2266\u001b[0m         updated = session.run(self.outputs + [self.updates_op],\n\u001b[1;32m   2267\u001b[0m                               \u001b[0mfeed_dict\u001b[0m\u001b[0;34m=\u001b[0m\u001b[0mfeed_dict\u001b[0m\u001b[0;34m,\u001b[0m\u001b[0;34m\u001b[0m\u001b[0m\n\u001b[0;32m-> 2268\u001b[0;31m                               **self.session_kwargs)\n\u001b[0m\u001b[1;32m   2269\u001b[0m         \u001b[0;32mreturn\u001b[0m \u001b[0mupdated\u001b[0m\u001b[0;34m[\u001b[0m\u001b[0;34m:\u001b[0m\u001b[0mlen\u001b[0m\u001b[0;34m(\u001b[0m\u001b[0mself\u001b[0m\u001b[0;34m.\u001b[0m\u001b[0moutputs\u001b[0m\u001b[0;34m)\u001b[0m\u001b[0;34m]\u001b[0m\u001b[0;34m\u001b[0m\u001b[0m\n\u001b[1;32m   2270\u001b[0m \u001b[0;34m\u001b[0m\u001b[0m\n",
      "\u001b[0;32m/usr/lib/python3.6/site-packages/tensorflow/python/client/session.py\u001b[0m in \u001b[0;36mrun\u001b[0;34m(self, fetches, feed_dict, options, run_metadata)\u001b[0m\n\u001b[1;32m    887\u001b[0m     \u001b[0;32mtry\u001b[0m\u001b[0;34m:\u001b[0m\u001b[0;34m\u001b[0m\u001b[0m\n\u001b[1;32m    888\u001b[0m       result = self._run(None, fetches, feed_dict, options_ptr,\n\u001b[0;32m--> 889\u001b[0;31m                          run_metadata_ptr)\n\u001b[0m\u001b[1;32m    890\u001b[0m       \u001b[0;32mif\u001b[0m \u001b[0mrun_metadata\u001b[0m\u001b[0;34m:\u001b[0m\u001b[0;34m\u001b[0m\u001b[0m\n\u001b[1;32m    891\u001b[0m         \u001b[0mproto_data\u001b[0m \u001b[0;34m=\u001b[0m \u001b[0mtf_session\u001b[0m\u001b[0;34m.\u001b[0m\u001b[0mTF_GetBuffer\u001b[0m\u001b[0;34m(\u001b[0m\u001b[0mrun_metadata_ptr\u001b[0m\u001b[0;34m)\u001b[0m\u001b[0;34m\u001b[0m\u001b[0m\n",
      "\u001b[0;32m/usr/lib/python3.6/site-packages/tensorflow/python/client/session.py\u001b[0m in \u001b[0;36m_run\u001b[0;34m(self, handle, fetches, feed_dict, options, run_metadata)\u001b[0m\n\u001b[1;32m   1118\u001b[0m     \u001b[0;32mif\u001b[0m \u001b[0mfinal_fetches\u001b[0m \u001b[0;32mor\u001b[0m \u001b[0mfinal_targets\u001b[0m \u001b[0;32mor\u001b[0m \u001b[0;34m(\u001b[0m\u001b[0mhandle\u001b[0m \u001b[0;32mand\u001b[0m \u001b[0mfeed_dict_tensor\u001b[0m\u001b[0;34m)\u001b[0m\u001b[0;34m:\u001b[0m\u001b[0;34m\u001b[0m\u001b[0m\n\u001b[1;32m   1119\u001b[0m       results = self._do_run(handle, final_targets, final_fetches,\n\u001b[0;32m-> 1120\u001b[0;31m                              feed_dict_tensor, options, run_metadata)\n\u001b[0m\u001b[1;32m   1121\u001b[0m     \u001b[0;32melse\u001b[0m\u001b[0;34m:\u001b[0m\u001b[0;34m\u001b[0m\u001b[0m\n\u001b[1;32m   1122\u001b[0m       \u001b[0mresults\u001b[0m \u001b[0;34m=\u001b[0m \u001b[0;34m[\u001b[0m\u001b[0;34m]\u001b[0m\u001b[0;34m\u001b[0m\u001b[0m\n",
      "\u001b[0;32m/usr/lib/python3.6/site-packages/tensorflow/python/client/session.py\u001b[0m in \u001b[0;36m_do_run\u001b[0;34m(self, handle, target_list, fetch_list, feed_dict, options, run_metadata)\u001b[0m\n\u001b[1;32m   1315\u001b[0m     \u001b[0;32mif\u001b[0m \u001b[0mhandle\u001b[0m \u001b[0;32mis\u001b[0m \u001b[0;32mNone\u001b[0m\u001b[0;34m:\u001b[0m\u001b[0;34m\u001b[0m\u001b[0m\n\u001b[1;32m   1316\u001b[0m       return self._do_call(_run_fn, self._session, feeds, fetches, targets,\n\u001b[0;32m-> 1317\u001b[0;31m                            options, run_metadata)\n\u001b[0m\u001b[1;32m   1318\u001b[0m     \u001b[0;32melse\u001b[0m\u001b[0;34m:\u001b[0m\u001b[0;34m\u001b[0m\u001b[0m\n\u001b[1;32m   1319\u001b[0m       \u001b[0;32mreturn\u001b[0m \u001b[0mself\u001b[0m\u001b[0;34m.\u001b[0m\u001b[0m_do_call\u001b[0m\u001b[0;34m(\u001b[0m\u001b[0m_prun_fn\u001b[0m\u001b[0;34m,\u001b[0m \u001b[0mself\u001b[0m\u001b[0;34m.\u001b[0m\u001b[0m_session\u001b[0m\u001b[0;34m,\u001b[0m \u001b[0mhandle\u001b[0m\u001b[0;34m,\u001b[0m \u001b[0mfeeds\u001b[0m\u001b[0;34m,\u001b[0m \u001b[0mfetches\u001b[0m\u001b[0;34m)\u001b[0m\u001b[0;34m\u001b[0m\u001b[0m\n",
      "\u001b[0;32m/usr/lib/python3.6/site-packages/tensorflow/python/client/session.py\u001b[0m in \u001b[0;36m_do_call\u001b[0;34m(self, fn, *args)\u001b[0m\n\u001b[1;32m   1321\u001b[0m   \u001b[0;32mdef\u001b[0m \u001b[0m_do_call\u001b[0m\u001b[0;34m(\u001b[0m\u001b[0mself\u001b[0m\u001b[0;34m,\u001b[0m \u001b[0mfn\u001b[0m\u001b[0;34m,\u001b[0m \u001b[0;34m*\u001b[0m\u001b[0margs\u001b[0m\u001b[0;34m)\u001b[0m\u001b[0;34m:\u001b[0m\u001b[0;34m\u001b[0m\u001b[0m\n\u001b[1;32m   1322\u001b[0m     \u001b[0;32mtry\u001b[0m\u001b[0;34m:\u001b[0m\u001b[0;34m\u001b[0m\u001b[0m\n\u001b[0;32m-> 1323\u001b[0;31m       \u001b[0;32mreturn\u001b[0m \u001b[0mfn\u001b[0m\u001b[0;34m(\u001b[0m\u001b[0;34m*\u001b[0m\u001b[0margs\u001b[0m\u001b[0;34m)\u001b[0m\u001b[0;34m\u001b[0m\u001b[0m\n\u001b[0m\u001b[1;32m   1324\u001b[0m     \u001b[0;32mexcept\u001b[0m \u001b[0merrors\u001b[0m\u001b[0;34m.\u001b[0m\u001b[0mOpError\u001b[0m \u001b[0;32mas\u001b[0m \u001b[0me\u001b[0m\u001b[0;34m:\u001b[0m\u001b[0;34m\u001b[0m\u001b[0m\n\u001b[1;32m   1325\u001b[0m       \u001b[0mmessage\u001b[0m \u001b[0;34m=\u001b[0m \u001b[0mcompat\u001b[0m\u001b[0;34m.\u001b[0m\u001b[0mas_text\u001b[0m\u001b[0;34m(\u001b[0m\u001b[0me\u001b[0m\u001b[0;34m.\u001b[0m\u001b[0mmessage\u001b[0m\u001b[0;34m)\u001b[0m\u001b[0;34m\u001b[0m\u001b[0m\n",
      "\u001b[0;32m/usr/lib/python3.6/site-packages/tensorflow/python/client/session.py\u001b[0m in \u001b[0;36m_run_fn\u001b[0;34m(session, feed_dict, fetch_list, target_list, options, run_metadata)\u001b[0m\n\u001b[1;32m   1300\u001b[0m           return tf_session.TF_Run(session, options,\n\u001b[1;32m   1301\u001b[0m                                    \u001b[0mfeed_dict\u001b[0m\u001b[0;34m,\u001b[0m \u001b[0mfetch_list\u001b[0m\u001b[0;34m,\u001b[0m \u001b[0mtarget_list\u001b[0m\u001b[0;34m,\u001b[0m\u001b[0;34m\u001b[0m\u001b[0m\n\u001b[0;32m-> 1302\u001b[0;31m                                    status, run_metadata)\n\u001b[0m\u001b[1;32m   1303\u001b[0m \u001b[0;34m\u001b[0m\u001b[0m\n\u001b[1;32m   1304\u001b[0m     \u001b[0;32mdef\u001b[0m \u001b[0m_prun_fn\u001b[0m\u001b[0;34m(\u001b[0m\u001b[0msession\u001b[0m\u001b[0;34m,\u001b[0m \u001b[0mhandle\u001b[0m\u001b[0;34m,\u001b[0m \u001b[0mfeed_dict\u001b[0m\u001b[0;34m,\u001b[0m \u001b[0mfetch_list\u001b[0m\u001b[0;34m)\u001b[0m\u001b[0;34m:\u001b[0m\u001b[0;34m\u001b[0m\u001b[0m\n",
      "\u001b[0;31mKeyboardInterrupt\u001b[0m: "
     ]
    }
   ],
   "source": [
    "batch_size = 4\n",
    "model.fit_generator(\n",
    "    data_generator.flow(train_x, train_y, batch_size=batch_size),\n",
    "    steps_per_epoch=int(len(train_y) / batch_size), epochs=60,\n",
    "    callbacks=[MyClallback(model, 'trainable_layers')],\n",
    "    validation_data=(test_x, test_y)\n",
    ")"
   ]
  },
  {
   "cell_type": "code",
   "execution_count": 22,
   "metadata": {
    "collapsed": true
   },
   "outputs": [],
   "source": [
    "model.compile(\n",
    "    loss='categorical_crossentropy',\n",
    "    optimizer=Adam(lr=1e-5, decay=1e-5),\n",
    "    metrics=['categorical_accuracy']\n",
    ")"
   ]
  },
  {
   "cell_type": "code",
   "execution_count": 23,
   "metadata": {},
   "outputs": [
    {
     "name": "stdout",
     "output_type": "stream",
     "text": [
      "Epoch 1/60\n",
      "437/437 [==============================] - 91s - loss: 0.5933 - categorical_accuracy: 0.9559 - val_loss: 1.1599 - val_categorical_accuracy: 0.7760\n",
      "Epoch 2/60\n",
      "437/437 [==============================] - 87s - loss: 0.6012 - categorical_accuracy: 0.9537 - val_loss: 1.1422 - val_categorical_accuracy: 0.7947\n",
      "Epoch 3/60\n",
      "437/437 [==============================] - 87s - loss: 0.5950 - categorical_accuracy: 0.9565 - val_loss: 1.1212 - val_categorical_accuracy: 0.7880\n",
      "Epoch 4/60\n",
      "437/437 [==============================] - 88s - loss: 0.5728 - categorical_accuracy: 0.9594 - val_loss: 1.1477 - val_categorical_accuracy: 0.7853\n",
      "Epoch 5/60\n",
      "437/437 [==============================] - 88s - loss: 0.5509 - categorical_accuracy: 0.9662 - val_loss: 1.1583 - val_categorical_accuracy: 0.7813\n",
      "Epoch 6/60\n",
      "437/437 [==============================] - 88s - loss: 0.5507 - categorical_accuracy: 0.9634 - val_loss: 1.1199 - val_categorical_accuracy: 0.8053\n",
      "Epoch 7/60\n",
      "437/437 [==============================] - 88s - loss: 0.5427 - categorical_accuracy: 0.9708 - val_loss: 1.1260 - val_categorical_accuracy: 0.7933\n",
      "Epoch 8/60\n",
      "437/437 [==============================] - 88s - loss: 0.5408 - categorical_accuracy: 0.9703 - val_loss: 1.1141 - val_categorical_accuracy: 0.7880\n",
      "Epoch 9/60\n",
      "437/437 [==============================] - 88s - loss: 0.5206 - categorical_accuracy: 0.9771 - val_loss: 1.1201 - val_categorical_accuracy: 0.7960\n",
      "Epoch 10/60\n",
      "437/437 [==============================] - 88s - loss: 0.5132 - categorical_accuracy: 0.9765 - val_loss: 1.1187 - val_categorical_accuracy: 0.8067\n",
      "Epoch 11/60\n",
      "437/437 [==============================] - 88s - loss: 0.5092 - categorical_accuracy: 0.9760 - val_loss: 1.1236 - val_categorical_accuracy: 0.7773\n",
      "Epoch 12/60\n",
      "437/437 [==============================] - 88s - loss: 0.5100 - categorical_accuracy: 0.9783 - val_loss: 1.1351 - val_categorical_accuracy: 0.7760\n",
      "Epoch 13/60\n",
      "437/437 [==============================] - 88s - loss: 0.5014 - categorical_accuracy: 0.9788 - val_loss: 1.1501 - val_categorical_accuracy: 0.7920\n",
      "Epoch 14/60\n",
      "437/437 [==============================] - 88s - loss: 0.5040 - categorical_accuracy: 0.9737 - val_loss: 1.1238 - val_categorical_accuracy: 0.7907\n",
      "Epoch 15/60\n",
      "437/437 [==============================] - 88s - loss: 0.4809 - categorical_accuracy: 0.9817 - val_loss: 1.1467 - val_categorical_accuracy: 0.7960\n",
      "Epoch 16/60\n",
      "437/437 [==============================] - 88s - loss: 0.4763 - categorical_accuracy: 0.9788 - val_loss: 1.1356 - val_categorical_accuracy: 0.7880\n",
      "Epoch 17/60\n",
      "437/437 [==============================] - 88s - loss: 0.4767 - categorical_accuracy: 0.9806 - val_loss: 1.1202 - val_categorical_accuracy: 0.7933\n",
      "Epoch 18/60\n",
      "437/437 [==============================] - 88s - loss: 0.4685 - categorical_accuracy: 0.9863 - val_loss: 1.1234 - val_categorical_accuracy: 0.7933\n",
      "Epoch 19/60\n",
      "437/437 [==============================] - 88s - loss: 0.4744 - categorical_accuracy: 0.9846 - val_loss: 1.1056 - val_categorical_accuracy: 0.7947\n",
      "Epoch 20/60\n",
      "437/437 [==============================] - 88s - loss: 0.4555 - categorical_accuracy: 0.9874 - val_loss: 1.1235 - val_categorical_accuracy: 0.7987\n",
      "Epoch 21/60\n",
      "437/437 [==============================] - 88s - loss: 0.4557 - categorical_accuracy: 0.9851 - val_loss: 1.1077 - val_categorical_accuracy: 0.8000\n",
      "Epoch 22/60\n",
      "437/437 [==============================] - 88s - loss: 0.4533 - categorical_accuracy: 0.9863 - val_loss: 1.1111 - val_categorical_accuracy: 0.7933\n",
      "Epoch 23/60\n",
      "437/437 [==============================] - 88s - loss: 0.4541 - categorical_accuracy: 0.9851 - val_loss: 1.1015 - val_categorical_accuracy: 0.7893\n",
      "Epoch 24/60\n",
      "437/437 [==============================] - 88s - loss: 0.4496 - categorical_accuracy: 0.9863 - val_loss: 1.1188 - val_categorical_accuracy: 0.7880\n",
      "Epoch 25/60\n",
      "437/437 [==============================] - 88s - loss: 0.4448 - categorical_accuracy: 0.9863 - val_loss: 1.1109 - val_categorical_accuracy: 0.7907\n",
      "Epoch 26/60\n",
      "437/437 [==============================] - 88s - loss: 0.4331 - categorical_accuracy: 0.9880 - val_loss: 1.1080 - val_categorical_accuracy: 0.8040\n",
      "Epoch 27/60\n",
      "437/437 [==============================] - 88s - loss: 0.4292 - categorical_accuracy: 0.9908 - val_loss: 1.0974 - val_categorical_accuracy: 0.7907\n",
      "Epoch 28/60\n",
      "437/437 [==============================] - 88s - loss: 0.4355 - categorical_accuracy: 0.9874 - val_loss: 1.0814 - val_categorical_accuracy: 0.7987\n",
      "Epoch 29/60\n",
      "437/437 [==============================] - 88s - loss: 0.4240 - categorical_accuracy: 0.9897 - val_loss: 1.1035 - val_categorical_accuracy: 0.7907\n",
      "Epoch 30/60\n",
      "437/437 [==============================] - 88s - loss: 0.4164 - categorical_accuracy: 0.9903 - val_loss: 1.0891 - val_categorical_accuracy: 0.8040\n",
      "Epoch 31/60\n",
      "437/437 [==============================] - 88s - loss: 0.4043 - categorical_accuracy: 0.9943 - val_loss: 1.0953 - val_categorical_accuracy: 0.7920\n",
      "Epoch 32/60\n",
      "437/437 [==============================] - 88s - loss: 0.4080 - categorical_accuracy: 0.9926 - val_loss: 1.0960 - val_categorical_accuracy: 0.7920\n",
      "Epoch 33/60\n",
      "437/437 [==============================] - 88s - loss: 0.4076 - categorical_accuracy: 0.9926 - val_loss: 1.0871 - val_categorical_accuracy: 0.7973\n",
      "Epoch 34/60\n",
      "437/437 [==============================] - 88s - loss: 0.4087 - categorical_accuracy: 0.9874 - val_loss: 1.0623 - val_categorical_accuracy: 0.8013\n",
      "Epoch 35/60\n",
      "437/437 [==============================] - 88s - loss: 0.4049 - categorical_accuracy: 0.9868 - val_loss: 1.0590 - val_categorical_accuracy: 0.7973\n",
      "Epoch 36/60\n",
      "437/437 [==============================] - 88s - loss: 0.3991 - categorical_accuracy: 0.9943 - val_loss: 1.0514 - val_categorical_accuracy: 0.7973\n",
      "Epoch 37/60\n",
      "437/437 [==============================] - 88s - loss: 0.3983 - categorical_accuracy: 0.9943 - val_loss: 1.0507 - val_categorical_accuracy: 0.7920\n",
      "Epoch 38/60\n",
      "437/437 [==============================] - 88s - loss: 0.3837 - categorical_accuracy: 0.9931 - val_loss: 1.0289 - val_categorical_accuracy: 0.8000\n",
      "Epoch 39/60\n",
      "437/437 [==============================] - 88s - loss: 0.3807 - categorical_accuracy: 0.9954 - val_loss: 1.0386 - val_categorical_accuracy: 0.8013\n",
      "Epoch 40/60\n",
      "437/437 [==============================] - 88s - loss: 0.3888 - categorical_accuracy: 0.9931 - val_loss: 1.0443 - val_categorical_accuracy: 0.8067\n",
      "Epoch 41/60\n",
      "437/437 [==============================] - 88s - loss: 0.3847 - categorical_accuracy: 0.9954 - val_loss: 1.0755 - val_categorical_accuracy: 0.7987\n",
      "Epoch 42/60\n",
      "106/437 [======>.......................] - ETA: 50s - loss: 0.3871 - categorical_accuracy: 0.9929"
     ]
    },
    {
     "ename": "KeyboardInterrupt",
     "evalue": "",
     "output_type": "error",
     "traceback": [
      "\u001b[0;31m---------------------------------------------------------------------------\u001b[0m",
      "\u001b[0;31mKeyboardInterrupt\u001b[0m                         Traceback (most recent call last)",
      "\u001b[0;32m<ipython-input-23-a70a63ba4cf5>\u001b[0m in \u001b[0;36m<module>\u001b[0;34m()\u001b[0m\n\u001b[1;32m      4\u001b[0m     \u001b[0msteps_per_epoch\u001b[0m\u001b[0;34m=\u001b[0m\u001b[0mint\u001b[0m\u001b[0;34m(\u001b[0m\u001b[0mlen\u001b[0m\u001b[0;34m(\u001b[0m\u001b[0mtrain_y\u001b[0m\u001b[0;34m)\u001b[0m \u001b[0;34m/\u001b[0m \u001b[0mbatch_size\u001b[0m\u001b[0;34m)\u001b[0m\u001b[0;34m,\u001b[0m \u001b[0mepochs\u001b[0m\u001b[0;34m=\u001b[0m\u001b[0;36m60\u001b[0m\u001b[0;34m,\u001b[0m\u001b[0;34m\u001b[0m\u001b[0m\n\u001b[1;32m      5\u001b[0m     \u001b[0mcallbacks\u001b[0m\u001b[0;34m=\u001b[0m\u001b[0;34m[\u001b[0m\u001b[0mMyClallback\u001b[0m\u001b[0;34m(\u001b[0m\u001b[0mmodel\u001b[0m\u001b[0;34m,\u001b[0m \u001b[0;34m'low_lr'\u001b[0m\u001b[0;34m)\u001b[0m\u001b[0;34m]\u001b[0m\u001b[0;34m,\u001b[0m\u001b[0;34m\u001b[0m\u001b[0m\n\u001b[0;32m----> 6\u001b[0;31m     \u001b[0mvalidation_data\u001b[0m\u001b[0;34m=\u001b[0m\u001b[0;34m(\u001b[0m\u001b[0mtest_x\u001b[0m\u001b[0;34m,\u001b[0m \u001b[0mtest_y\u001b[0m\u001b[0;34m)\u001b[0m\u001b[0;34m\u001b[0m\u001b[0m\n\u001b[0m\u001b[1;32m      7\u001b[0m )\n",
      "\u001b[0;32m/usr/lib/python3.6/site-packages/keras/legacy/interfaces.py\u001b[0m in \u001b[0;36mwrapper\u001b[0;34m(*args, **kwargs)\u001b[0m\n\u001b[1;32m     85\u001b[0m                 warnings.warn('Update your `' + object_name +\n\u001b[1;32m     86\u001b[0m                               '` call to the Keras 2 API: ' + signature, stacklevel=2)\n\u001b[0;32m---> 87\u001b[0;31m             \u001b[0;32mreturn\u001b[0m \u001b[0mfunc\u001b[0m\u001b[0;34m(\u001b[0m\u001b[0;34m*\u001b[0m\u001b[0margs\u001b[0m\u001b[0;34m,\u001b[0m \u001b[0;34m**\u001b[0m\u001b[0mkwargs\u001b[0m\u001b[0;34m)\u001b[0m\u001b[0;34m\u001b[0m\u001b[0m\n\u001b[0m\u001b[1;32m     88\u001b[0m         \u001b[0mwrapper\u001b[0m\u001b[0;34m.\u001b[0m\u001b[0m_original_function\u001b[0m \u001b[0;34m=\u001b[0m \u001b[0mfunc\u001b[0m\u001b[0;34m\u001b[0m\u001b[0m\n\u001b[1;32m     89\u001b[0m         \u001b[0;32mreturn\u001b[0m \u001b[0mwrapper\u001b[0m\u001b[0;34m\u001b[0m\u001b[0m\n",
      "\u001b[0;32m/usr/lib/python3.6/site-packages/keras/engine/training.py\u001b[0m in \u001b[0;36mfit_generator\u001b[0;34m(self, generator, steps_per_epoch, epochs, verbose, callbacks, validation_data, validation_steps, class_weight, max_queue_size, workers, use_multiprocessing, initial_epoch)\u001b[0m\n\u001b[1;32m   1838\u001b[0m                     outs = self.train_on_batch(x, y,\n\u001b[1;32m   1839\u001b[0m                                                \u001b[0msample_weight\u001b[0m\u001b[0;34m=\u001b[0m\u001b[0msample_weight\u001b[0m\u001b[0;34m,\u001b[0m\u001b[0;34m\u001b[0m\u001b[0m\n\u001b[0;32m-> 1840\u001b[0;31m                                                class_weight=class_weight)\n\u001b[0m\u001b[1;32m   1841\u001b[0m \u001b[0;34m\u001b[0m\u001b[0m\n\u001b[1;32m   1842\u001b[0m                     \u001b[0;32mif\u001b[0m \u001b[0;32mnot\u001b[0m \u001b[0misinstance\u001b[0m\u001b[0;34m(\u001b[0m\u001b[0mouts\u001b[0m\u001b[0;34m,\u001b[0m \u001b[0mlist\u001b[0m\u001b[0;34m)\u001b[0m\u001b[0;34m:\u001b[0m\u001b[0;34m\u001b[0m\u001b[0m\n",
      "\u001b[0;32m/usr/lib/python3.6/site-packages/keras/engine/training.py\u001b[0m in \u001b[0;36mtrain_on_batch\u001b[0;34m(self, x, y, sample_weight, class_weight)\u001b[0m\n\u001b[1;32m   1563\u001b[0m             \u001b[0mins\u001b[0m \u001b[0;34m=\u001b[0m \u001b[0mx\u001b[0m \u001b[0;34m+\u001b[0m \u001b[0my\u001b[0m \u001b[0;34m+\u001b[0m \u001b[0msample_weights\u001b[0m\u001b[0;34m\u001b[0m\u001b[0m\n\u001b[1;32m   1564\u001b[0m         \u001b[0mself\u001b[0m\u001b[0;34m.\u001b[0m\u001b[0m_make_train_function\u001b[0m\u001b[0;34m(\u001b[0m\u001b[0;34m)\u001b[0m\u001b[0;34m\u001b[0m\u001b[0m\n\u001b[0;32m-> 1565\u001b[0;31m         \u001b[0moutputs\u001b[0m \u001b[0;34m=\u001b[0m \u001b[0mself\u001b[0m\u001b[0;34m.\u001b[0m\u001b[0mtrain_function\u001b[0m\u001b[0;34m(\u001b[0m\u001b[0mins\u001b[0m\u001b[0;34m)\u001b[0m\u001b[0;34m\u001b[0m\u001b[0m\n\u001b[0m\u001b[1;32m   1566\u001b[0m         \u001b[0;32mif\u001b[0m \u001b[0mlen\u001b[0m\u001b[0;34m(\u001b[0m\u001b[0moutputs\u001b[0m\u001b[0;34m)\u001b[0m \u001b[0;34m==\u001b[0m \u001b[0;36m1\u001b[0m\u001b[0;34m:\u001b[0m\u001b[0;34m\u001b[0m\u001b[0m\n\u001b[1;32m   1567\u001b[0m             \u001b[0;32mreturn\u001b[0m \u001b[0moutputs\u001b[0m\u001b[0;34m[\u001b[0m\u001b[0;36m0\u001b[0m\u001b[0;34m]\u001b[0m\u001b[0;34m\u001b[0m\u001b[0m\n",
      "\u001b[0;32m/usr/lib/python3.6/site-packages/keras/backend/tensorflow_backend.py\u001b[0m in \u001b[0;36m__call__\u001b[0;34m(self, inputs)\u001b[0m\n\u001b[1;32m   2266\u001b[0m         updated = session.run(self.outputs + [self.updates_op],\n\u001b[1;32m   2267\u001b[0m                               \u001b[0mfeed_dict\u001b[0m\u001b[0;34m=\u001b[0m\u001b[0mfeed_dict\u001b[0m\u001b[0;34m,\u001b[0m\u001b[0;34m\u001b[0m\u001b[0m\n\u001b[0;32m-> 2268\u001b[0;31m                               **self.session_kwargs)\n\u001b[0m\u001b[1;32m   2269\u001b[0m         \u001b[0;32mreturn\u001b[0m \u001b[0mupdated\u001b[0m\u001b[0;34m[\u001b[0m\u001b[0;34m:\u001b[0m\u001b[0mlen\u001b[0m\u001b[0;34m(\u001b[0m\u001b[0mself\u001b[0m\u001b[0;34m.\u001b[0m\u001b[0moutputs\u001b[0m\u001b[0;34m)\u001b[0m\u001b[0;34m]\u001b[0m\u001b[0;34m\u001b[0m\u001b[0m\n\u001b[1;32m   2270\u001b[0m \u001b[0;34m\u001b[0m\u001b[0m\n",
      "\u001b[0;32m/usr/lib/python3.6/site-packages/tensorflow/python/client/session.py\u001b[0m in \u001b[0;36mrun\u001b[0;34m(self, fetches, feed_dict, options, run_metadata)\u001b[0m\n\u001b[1;32m    887\u001b[0m     \u001b[0;32mtry\u001b[0m\u001b[0;34m:\u001b[0m\u001b[0;34m\u001b[0m\u001b[0m\n\u001b[1;32m    888\u001b[0m       result = self._run(None, fetches, feed_dict, options_ptr,\n\u001b[0;32m--> 889\u001b[0;31m                          run_metadata_ptr)\n\u001b[0m\u001b[1;32m    890\u001b[0m       \u001b[0;32mif\u001b[0m \u001b[0mrun_metadata\u001b[0m\u001b[0;34m:\u001b[0m\u001b[0;34m\u001b[0m\u001b[0m\n\u001b[1;32m    891\u001b[0m         \u001b[0mproto_data\u001b[0m \u001b[0;34m=\u001b[0m \u001b[0mtf_session\u001b[0m\u001b[0;34m.\u001b[0m\u001b[0mTF_GetBuffer\u001b[0m\u001b[0;34m(\u001b[0m\u001b[0mrun_metadata_ptr\u001b[0m\u001b[0;34m)\u001b[0m\u001b[0;34m\u001b[0m\u001b[0m\n",
      "\u001b[0;32m/usr/lib/python3.6/site-packages/tensorflow/python/client/session.py\u001b[0m in \u001b[0;36m_run\u001b[0;34m(self, handle, fetches, feed_dict, options, run_metadata)\u001b[0m\n\u001b[1;32m   1118\u001b[0m     \u001b[0;32mif\u001b[0m \u001b[0mfinal_fetches\u001b[0m \u001b[0;32mor\u001b[0m \u001b[0mfinal_targets\u001b[0m \u001b[0;32mor\u001b[0m \u001b[0;34m(\u001b[0m\u001b[0mhandle\u001b[0m \u001b[0;32mand\u001b[0m \u001b[0mfeed_dict_tensor\u001b[0m\u001b[0;34m)\u001b[0m\u001b[0;34m:\u001b[0m\u001b[0;34m\u001b[0m\u001b[0m\n\u001b[1;32m   1119\u001b[0m       results = self._do_run(handle, final_targets, final_fetches,\n\u001b[0;32m-> 1120\u001b[0;31m                              feed_dict_tensor, options, run_metadata)\n\u001b[0m\u001b[1;32m   1121\u001b[0m     \u001b[0;32melse\u001b[0m\u001b[0;34m:\u001b[0m\u001b[0;34m\u001b[0m\u001b[0m\n\u001b[1;32m   1122\u001b[0m       \u001b[0mresults\u001b[0m \u001b[0;34m=\u001b[0m \u001b[0;34m[\u001b[0m\u001b[0;34m]\u001b[0m\u001b[0;34m\u001b[0m\u001b[0m\n",
      "\u001b[0;32m/usr/lib/python3.6/site-packages/tensorflow/python/client/session.py\u001b[0m in \u001b[0;36m_do_run\u001b[0;34m(self, handle, target_list, fetch_list, feed_dict, options, run_metadata)\u001b[0m\n\u001b[1;32m   1315\u001b[0m     \u001b[0;32mif\u001b[0m \u001b[0mhandle\u001b[0m \u001b[0;32mis\u001b[0m \u001b[0;32mNone\u001b[0m\u001b[0;34m:\u001b[0m\u001b[0;34m\u001b[0m\u001b[0m\n\u001b[1;32m   1316\u001b[0m       return self._do_call(_run_fn, self._session, feeds, fetches, targets,\n\u001b[0;32m-> 1317\u001b[0;31m                            options, run_metadata)\n\u001b[0m\u001b[1;32m   1318\u001b[0m     \u001b[0;32melse\u001b[0m\u001b[0;34m:\u001b[0m\u001b[0;34m\u001b[0m\u001b[0m\n\u001b[1;32m   1319\u001b[0m       \u001b[0;32mreturn\u001b[0m \u001b[0mself\u001b[0m\u001b[0;34m.\u001b[0m\u001b[0m_do_call\u001b[0m\u001b[0;34m(\u001b[0m\u001b[0m_prun_fn\u001b[0m\u001b[0;34m,\u001b[0m \u001b[0mself\u001b[0m\u001b[0;34m.\u001b[0m\u001b[0m_session\u001b[0m\u001b[0;34m,\u001b[0m \u001b[0mhandle\u001b[0m\u001b[0;34m,\u001b[0m \u001b[0mfeeds\u001b[0m\u001b[0;34m,\u001b[0m \u001b[0mfetches\u001b[0m\u001b[0;34m)\u001b[0m\u001b[0;34m\u001b[0m\u001b[0m\n",
      "\u001b[0;32m/usr/lib/python3.6/site-packages/tensorflow/python/client/session.py\u001b[0m in \u001b[0;36m_do_call\u001b[0;34m(self, fn, *args)\u001b[0m\n\u001b[1;32m   1321\u001b[0m   \u001b[0;32mdef\u001b[0m \u001b[0m_do_call\u001b[0m\u001b[0;34m(\u001b[0m\u001b[0mself\u001b[0m\u001b[0;34m,\u001b[0m \u001b[0mfn\u001b[0m\u001b[0;34m,\u001b[0m \u001b[0;34m*\u001b[0m\u001b[0margs\u001b[0m\u001b[0;34m)\u001b[0m\u001b[0;34m:\u001b[0m\u001b[0;34m\u001b[0m\u001b[0m\n\u001b[1;32m   1322\u001b[0m     \u001b[0;32mtry\u001b[0m\u001b[0;34m:\u001b[0m\u001b[0;34m\u001b[0m\u001b[0m\n\u001b[0;32m-> 1323\u001b[0;31m       \u001b[0;32mreturn\u001b[0m \u001b[0mfn\u001b[0m\u001b[0;34m(\u001b[0m\u001b[0;34m*\u001b[0m\u001b[0margs\u001b[0m\u001b[0;34m)\u001b[0m\u001b[0;34m\u001b[0m\u001b[0m\n\u001b[0m\u001b[1;32m   1324\u001b[0m     \u001b[0;32mexcept\u001b[0m \u001b[0merrors\u001b[0m\u001b[0;34m.\u001b[0m\u001b[0mOpError\u001b[0m \u001b[0;32mas\u001b[0m \u001b[0me\u001b[0m\u001b[0;34m:\u001b[0m\u001b[0;34m\u001b[0m\u001b[0m\n\u001b[1;32m   1325\u001b[0m       \u001b[0mmessage\u001b[0m \u001b[0;34m=\u001b[0m \u001b[0mcompat\u001b[0m\u001b[0;34m.\u001b[0m\u001b[0mas_text\u001b[0m\u001b[0;34m(\u001b[0m\u001b[0me\u001b[0m\u001b[0;34m.\u001b[0m\u001b[0mmessage\u001b[0m\u001b[0;34m)\u001b[0m\u001b[0;34m\u001b[0m\u001b[0m\n",
      "\u001b[0;32m/usr/lib/python3.6/site-packages/tensorflow/python/client/session.py\u001b[0m in \u001b[0;36m_run_fn\u001b[0;34m(session, feed_dict, fetch_list, target_list, options, run_metadata)\u001b[0m\n\u001b[1;32m   1300\u001b[0m           return tf_session.TF_Run(session, options,\n\u001b[1;32m   1301\u001b[0m                                    \u001b[0mfeed_dict\u001b[0m\u001b[0;34m,\u001b[0m \u001b[0mfetch_list\u001b[0m\u001b[0;34m,\u001b[0m \u001b[0mtarget_list\u001b[0m\u001b[0;34m,\u001b[0m\u001b[0;34m\u001b[0m\u001b[0m\n\u001b[0;32m-> 1302\u001b[0;31m                                    status, run_metadata)\n\u001b[0m\u001b[1;32m   1303\u001b[0m \u001b[0;34m\u001b[0m\u001b[0m\n\u001b[1;32m   1304\u001b[0m     \u001b[0;32mdef\u001b[0m \u001b[0m_prun_fn\u001b[0m\u001b[0;34m(\u001b[0m\u001b[0msession\u001b[0m\u001b[0;34m,\u001b[0m \u001b[0mhandle\u001b[0m\u001b[0;34m,\u001b[0m \u001b[0mfeed_dict\u001b[0m\u001b[0;34m,\u001b[0m \u001b[0mfetch_list\u001b[0m\u001b[0;34m)\u001b[0m\u001b[0;34m:\u001b[0m\u001b[0;34m\u001b[0m\u001b[0m\n",
      "\u001b[0;31mKeyboardInterrupt\u001b[0m: "
     ]
    }
   ],
   "source": [
    "batch_size = 4\n",
    "model.fit_generator(\n",
    "    data_generator.flow(train_x, train_y, batch_size=batch_size),\n",
    "    steps_per_epoch=int(len(train_y) / batch_size), epochs=60,\n",
    "    callbacks=[MyClallback(model, 'low_lr')],\n",
    "    validation_data=(test_x, test_y)\n",
    ")"
   ]
  },
  {
   "cell_type": "code",
   "execution_count": 24,
   "metadata": {
    "collapsed": true
   },
   "outputs": [],
   "source": [
    "model.compile(\n",
    "    loss='categorical_crossentropy',\n",
    "    optimizer=Adam(lr=1e-6, decay=1e-3),\n",
    "    metrics=['categorical_accuracy']\n",
    ")"
   ]
  },
  {
   "cell_type": "code",
   "execution_count": 25,
   "metadata": {},
   "outputs": [
    {
     "name": "stdout",
     "output_type": "stream",
     "text": [
      "Epoch 1/60\n",
      "437/437 [==============================] - 89s - loss: 0.3761 - categorical_accuracy: 0.9977 - val_loss: 1.0475 - val_categorical_accuracy: 0.8080\n",
      "Epoch 2/60\n",
      "437/437 [==============================] - 85s - loss: 0.3735 - categorical_accuracy: 0.9966 - val_loss: 1.0427 - val_categorical_accuracy: 0.8053\n",
      "Epoch 3/60\n",
      "437/437 [==============================] - 85s - loss: 0.3721 - categorical_accuracy: 0.9971 - val_loss: 1.0441 - val_categorical_accuracy: 0.8067\n",
      "Epoch 4/60\n",
      "437/437 [==============================] - 85s - loss: 0.3756 - categorical_accuracy: 0.9949 - val_loss: 1.0416 - val_categorical_accuracy: 0.8040\n",
      "Epoch 5/60\n",
      "437/437 [==============================] - 86s - loss: 0.3752 - categorical_accuracy: 0.9954 - val_loss: 1.0439 - val_categorical_accuracy: 0.8053\n",
      "Epoch 6/60\n",
      "437/437 [==============================] - 86s - loss: 0.3696 - categorical_accuracy: 0.9949 - val_loss: 1.0454 - val_categorical_accuracy: 0.8080\n",
      "Epoch 7/60\n",
      "437/437 [==============================] - 86s - loss: 0.3721 - categorical_accuracy: 0.9954 - val_loss: 1.0503 - val_categorical_accuracy: 0.8067\n",
      "Epoch 8/60\n",
      "437/437 [==============================] - 86s - loss: 0.3688 - categorical_accuracy: 0.9966 - val_loss: 1.0451 - val_categorical_accuracy: 0.8080\n",
      "Epoch 9/60\n",
      "437/437 [==============================] - 86s - loss: 0.3726 - categorical_accuracy: 0.9954 - val_loss: 1.0463 - val_categorical_accuracy: 0.8067\n",
      "Epoch 10/60\n",
      "437/437 [==============================] - 88s - loss: 0.3740 - categorical_accuracy: 0.9949 - val_loss: 1.0415 - val_categorical_accuracy: 0.8120\n",
      "Epoch 11/60\n",
      "437/437 [==============================] - 87s - loss: 0.3683 - categorical_accuracy: 0.9960 - val_loss: 1.0387 - val_categorical_accuracy: 0.8107\n",
      "Epoch 12/60\n",
      "437/437 [==============================] - 87s - loss: 0.3661 - categorical_accuracy: 0.9954 - val_loss: 1.0433 - val_categorical_accuracy: 0.8040\n",
      "Epoch 13/60\n",
      "437/437 [==============================] - 88s - loss: 0.3681 - categorical_accuracy: 0.9983 - val_loss: 1.0402 - val_categorical_accuracy: 0.8093\n",
      "Epoch 14/60\n",
      "437/437 [==============================] - 88s - loss: 0.3739 - categorical_accuracy: 0.9954 - val_loss: 1.0452 - val_categorical_accuracy: 0.8040\n",
      "Epoch 15/60\n",
      "437/437 [==============================] - 87s - loss: 0.3732 - categorical_accuracy: 0.9931 - val_loss: 1.0397 - val_categorical_accuracy: 0.8053\n",
      "Epoch 16/60\n",
      "437/437 [==============================] - 88s - loss: 0.3648 - categorical_accuracy: 0.9966 - val_loss: 1.0418 - val_categorical_accuracy: 0.8120\n",
      "Epoch 17/60\n",
      "104/437 [======>.......................] - ETA: 50s - loss: 0.3800 - categorical_accuracy: 0.9952"
     ]
    },
    {
     "ename": "KeyboardInterrupt",
     "evalue": "",
     "output_type": "error",
     "traceback": [
      "\u001b[0;31m---------------------------------------------------------------------------\u001b[0m",
      "\u001b[0;31mKeyboardInterrupt\u001b[0m                         Traceback (most recent call last)",
      "\u001b[0;32m<ipython-input-25-a70a63ba4cf5>\u001b[0m in \u001b[0;36m<module>\u001b[0;34m()\u001b[0m\n\u001b[1;32m      4\u001b[0m     \u001b[0msteps_per_epoch\u001b[0m\u001b[0;34m=\u001b[0m\u001b[0mint\u001b[0m\u001b[0;34m(\u001b[0m\u001b[0mlen\u001b[0m\u001b[0;34m(\u001b[0m\u001b[0mtrain_y\u001b[0m\u001b[0;34m)\u001b[0m \u001b[0;34m/\u001b[0m \u001b[0mbatch_size\u001b[0m\u001b[0;34m)\u001b[0m\u001b[0;34m,\u001b[0m \u001b[0mepochs\u001b[0m\u001b[0;34m=\u001b[0m\u001b[0;36m60\u001b[0m\u001b[0;34m,\u001b[0m\u001b[0;34m\u001b[0m\u001b[0m\n\u001b[1;32m      5\u001b[0m     \u001b[0mcallbacks\u001b[0m\u001b[0;34m=\u001b[0m\u001b[0;34m[\u001b[0m\u001b[0mMyClallback\u001b[0m\u001b[0;34m(\u001b[0m\u001b[0mmodel\u001b[0m\u001b[0;34m,\u001b[0m \u001b[0;34m'low_lr'\u001b[0m\u001b[0;34m)\u001b[0m\u001b[0;34m]\u001b[0m\u001b[0;34m,\u001b[0m\u001b[0;34m\u001b[0m\u001b[0m\n\u001b[0;32m----> 6\u001b[0;31m     \u001b[0mvalidation_data\u001b[0m\u001b[0;34m=\u001b[0m\u001b[0;34m(\u001b[0m\u001b[0mtest_x\u001b[0m\u001b[0;34m,\u001b[0m \u001b[0mtest_y\u001b[0m\u001b[0;34m)\u001b[0m\u001b[0;34m\u001b[0m\u001b[0m\n\u001b[0m\u001b[1;32m      7\u001b[0m )\n",
      "\u001b[0;32m/usr/lib/python3.6/site-packages/keras/legacy/interfaces.py\u001b[0m in \u001b[0;36mwrapper\u001b[0;34m(*args, **kwargs)\u001b[0m\n\u001b[1;32m     85\u001b[0m                 warnings.warn('Update your `' + object_name +\n\u001b[1;32m     86\u001b[0m                               '` call to the Keras 2 API: ' + signature, stacklevel=2)\n\u001b[0;32m---> 87\u001b[0;31m             \u001b[0;32mreturn\u001b[0m \u001b[0mfunc\u001b[0m\u001b[0;34m(\u001b[0m\u001b[0;34m*\u001b[0m\u001b[0margs\u001b[0m\u001b[0;34m,\u001b[0m \u001b[0;34m**\u001b[0m\u001b[0mkwargs\u001b[0m\u001b[0;34m)\u001b[0m\u001b[0;34m\u001b[0m\u001b[0m\n\u001b[0m\u001b[1;32m     88\u001b[0m         \u001b[0mwrapper\u001b[0m\u001b[0;34m.\u001b[0m\u001b[0m_original_function\u001b[0m \u001b[0;34m=\u001b[0m \u001b[0mfunc\u001b[0m\u001b[0;34m\u001b[0m\u001b[0m\n\u001b[1;32m     89\u001b[0m         \u001b[0;32mreturn\u001b[0m \u001b[0mwrapper\u001b[0m\u001b[0;34m\u001b[0m\u001b[0m\n",
      "\u001b[0;32m/usr/lib/python3.6/site-packages/keras/engine/training.py\u001b[0m in \u001b[0;36mfit_generator\u001b[0;34m(self, generator, steps_per_epoch, epochs, verbose, callbacks, validation_data, validation_steps, class_weight, max_queue_size, workers, use_multiprocessing, initial_epoch)\u001b[0m\n\u001b[1;32m   1838\u001b[0m                     outs = self.train_on_batch(x, y,\n\u001b[1;32m   1839\u001b[0m                                                \u001b[0msample_weight\u001b[0m\u001b[0;34m=\u001b[0m\u001b[0msample_weight\u001b[0m\u001b[0;34m,\u001b[0m\u001b[0;34m\u001b[0m\u001b[0m\n\u001b[0;32m-> 1840\u001b[0;31m                                                class_weight=class_weight)\n\u001b[0m\u001b[1;32m   1841\u001b[0m \u001b[0;34m\u001b[0m\u001b[0m\n\u001b[1;32m   1842\u001b[0m                     \u001b[0;32mif\u001b[0m \u001b[0;32mnot\u001b[0m \u001b[0misinstance\u001b[0m\u001b[0;34m(\u001b[0m\u001b[0mouts\u001b[0m\u001b[0;34m,\u001b[0m \u001b[0mlist\u001b[0m\u001b[0;34m)\u001b[0m\u001b[0;34m:\u001b[0m\u001b[0;34m\u001b[0m\u001b[0m\n",
      "\u001b[0;32m/usr/lib/python3.6/site-packages/keras/engine/training.py\u001b[0m in \u001b[0;36mtrain_on_batch\u001b[0;34m(self, x, y, sample_weight, class_weight)\u001b[0m\n\u001b[1;32m   1563\u001b[0m             \u001b[0mins\u001b[0m \u001b[0;34m=\u001b[0m \u001b[0mx\u001b[0m \u001b[0;34m+\u001b[0m \u001b[0my\u001b[0m \u001b[0;34m+\u001b[0m \u001b[0msample_weights\u001b[0m\u001b[0;34m\u001b[0m\u001b[0m\n\u001b[1;32m   1564\u001b[0m         \u001b[0mself\u001b[0m\u001b[0;34m.\u001b[0m\u001b[0m_make_train_function\u001b[0m\u001b[0;34m(\u001b[0m\u001b[0;34m)\u001b[0m\u001b[0;34m\u001b[0m\u001b[0m\n\u001b[0;32m-> 1565\u001b[0;31m         \u001b[0moutputs\u001b[0m \u001b[0;34m=\u001b[0m \u001b[0mself\u001b[0m\u001b[0;34m.\u001b[0m\u001b[0mtrain_function\u001b[0m\u001b[0;34m(\u001b[0m\u001b[0mins\u001b[0m\u001b[0;34m)\u001b[0m\u001b[0;34m\u001b[0m\u001b[0m\n\u001b[0m\u001b[1;32m   1566\u001b[0m         \u001b[0;32mif\u001b[0m \u001b[0mlen\u001b[0m\u001b[0;34m(\u001b[0m\u001b[0moutputs\u001b[0m\u001b[0;34m)\u001b[0m \u001b[0;34m==\u001b[0m \u001b[0;36m1\u001b[0m\u001b[0;34m:\u001b[0m\u001b[0;34m\u001b[0m\u001b[0m\n\u001b[1;32m   1567\u001b[0m             \u001b[0;32mreturn\u001b[0m \u001b[0moutputs\u001b[0m\u001b[0;34m[\u001b[0m\u001b[0;36m0\u001b[0m\u001b[0;34m]\u001b[0m\u001b[0;34m\u001b[0m\u001b[0m\n",
      "\u001b[0;32m/usr/lib/python3.6/site-packages/keras/backend/tensorflow_backend.py\u001b[0m in \u001b[0;36m__call__\u001b[0;34m(self, inputs)\u001b[0m\n\u001b[1;32m   2266\u001b[0m         updated = session.run(self.outputs + [self.updates_op],\n\u001b[1;32m   2267\u001b[0m                               \u001b[0mfeed_dict\u001b[0m\u001b[0;34m=\u001b[0m\u001b[0mfeed_dict\u001b[0m\u001b[0;34m,\u001b[0m\u001b[0;34m\u001b[0m\u001b[0m\n\u001b[0;32m-> 2268\u001b[0;31m                               **self.session_kwargs)\n\u001b[0m\u001b[1;32m   2269\u001b[0m         \u001b[0;32mreturn\u001b[0m \u001b[0mupdated\u001b[0m\u001b[0;34m[\u001b[0m\u001b[0;34m:\u001b[0m\u001b[0mlen\u001b[0m\u001b[0;34m(\u001b[0m\u001b[0mself\u001b[0m\u001b[0;34m.\u001b[0m\u001b[0moutputs\u001b[0m\u001b[0;34m)\u001b[0m\u001b[0;34m]\u001b[0m\u001b[0;34m\u001b[0m\u001b[0m\n\u001b[1;32m   2270\u001b[0m \u001b[0;34m\u001b[0m\u001b[0m\n",
      "\u001b[0;32m/usr/lib/python3.6/site-packages/tensorflow/python/client/session.py\u001b[0m in \u001b[0;36mrun\u001b[0;34m(self, fetches, feed_dict, options, run_metadata)\u001b[0m\n\u001b[1;32m    887\u001b[0m     \u001b[0;32mtry\u001b[0m\u001b[0;34m:\u001b[0m\u001b[0;34m\u001b[0m\u001b[0m\n\u001b[1;32m    888\u001b[0m       result = self._run(None, fetches, feed_dict, options_ptr,\n\u001b[0;32m--> 889\u001b[0;31m                          run_metadata_ptr)\n\u001b[0m\u001b[1;32m    890\u001b[0m       \u001b[0;32mif\u001b[0m \u001b[0mrun_metadata\u001b[0m\u001b[0;34m:\u001b[0m\u001b[0;34m\u001b[0m\u001b[0m\n\u001b[1;32m    891\u001b[0m         \u001b[0mproto_data\u001b[0m \u001b[0;34m=\u001b[0m \u001b[0mtf_session\u001b[0m\u001b[0;34m.\u001b[0m\u001b[0mTF_GetBuffer\u001b[0m\u001b[0;34m(\u001b[0m\u001b[0mrun_metadata_ptr\u001b[0m\u001b[0;34m)\u001b[0m\u001b[0;34m\u001b[0m\u001b[0m\n",
      "\u001b[0;32m/usr/lib/python3.6/site-packages/tensorflow/python/client/session.py\u001b[0m in \u001b[0;36m_run\u001b[0;34m(self, handle, fetches, feed_dict, options, run_metadata)\u001b[0m\n\u001b[1;32m   1118\u001b[0m     \u001b[0;32mif\u001b[0m \u001b[0mfinal_fetches\u001b[0m \u001b[0;32mor\u001b[0m \u001b[0mfinal_targets\u001b[0m \u001b[0;32mor\u001b[0m \u001b[0;34m(\u001b[0m\u001b[0mhandle\u001b[0m \u001b[0;32mand\u001b[0m \u001b[0mfeed_dict_tensor\u001b[0m\u001b[0;34m)\u001b[0m\u001b[0;34m:\u001b[0m\u001b[0;34m\u001b[0m\u001b[0m\n\u001b[1;32m   1119\u001b[0m       results = self._do_run(handle, final_targets, final_fetches,\n\u001b[0;32m-> 1120\u001b[0;31m                              feed_dict_tensor, options, run_metadata)\n\u001b[0m\u001b[1;32m   1121\u001b[0m     \u001b[0;32melse\u001b[0m\u001b[0;34m:\u001b[0m\u001b[0;34m\u001b[0m\u001b[0m\n\u001b[1;32m   1122\u001b[0m       \u001b[0mresults\u001b[0m \u001b[0;34m=\u001b[0m \u001b[0;34m[\u001b[0m\u001b[0;34m]\u001b[0m\u001b[0;34m\u001b[0m\u001b[0m\n",
      "\u001b[0;32m/usr/lib/python3.6/site-packages/tensorflow/python/client/session.py\u001b[0m in \u001b[0;36m_do_run\u001b[0;34m(self, handle, target_list, fetch_list, feed_dict, options, run_metadata)\u001b[0m\n\u001b[1;32m   1315\u001b[0m     \u001b[0;32mif\u001b[0m \u001b[0mhandle\u001b[0m \u001b[0;32mis\u001b[0m \u001b[0;32mNone\u001b[0m\u001b[0;34m:\u001b[0m\u001b[0;34m\u001b[0m\u001b[0m\n\u001b[1;32m   1316\u001b[0m       return self._do_call(_run_fn, self._session, feeds, fetches, targets,\n\u001b[0;32m-> 1317\u001b[0;31m                            options, run_metadata)\n\u001b[0m\u001b[1;32m   1318\u001b[0m     \u001b[0;32melse\u001b[0m\u001b[0;34m:\u001b[0m\u001b[0;34m\u001b[0m\u001b[0m\n\u001b[1;32m   1319\u001b[0m       \u001b[0;32mreturn\u001b[0m \u001b[0mself\u001b[0m\u001b[0;34m.\u001b[0m\u001b[0m_do_call\u001b[0m\u001b[0;34m(\u001b[0m\u001b[0m_prun_fn\u001b[0m\u001b[0;34m,\u001b[0m \u001b[0mself\u001b[0m\u001b[0;34m.\u001b[0m\u001b[0m_session\u001b[0m\u001b[0;34m,\u001b[0m \u001b[0mhandle\u001b[0m\u001b[0;34m,\u001b[0m \u001b[0mfeeds\u001b[0m\u001b[0;34m,\u001b[0m \u001b[0mfetches\u001b[0m\u001b[0;34m)\u001b[0m\u001b[0;34m\u001b[0m\u001b[0m\n",
      "\u001b[0;32m/usr/lib/python3.6/site-packages/tensorflow/python/client/session.py\u001b[0m in \u001b[0;36m_do_call\u001b[0;34m(self, fn, *args)\u001b[0m\n\u001b[1;32m   1321\u001b[0m   \u001b[0;32mdef\u001b[0m \u001b[0m_do_call\u001b[0m\u001b[0;34m(\u001b[0m\u001b[0mself\u001b[0m\u001b[0;34m,\u001b[0m \u001b[0mfn\u001b[0m\u001b[0;34m,\u001b[0m \u001b[0;34m*\u001b[0m\u001b[0margs\u001b[0m\u001b[0;34m)\u001b[0m\u001b[0;34m:\u001b[0m\u001b[0;34m\u001b[0m\u001b[0m\n\u001b[1;32m   1322\u001b[0m     \u001b[0;32mtry\u001b[0m\u001b[0;34m:\u001b[0m\u001b[0;34m\u001b[0m\u001b[0m\n\u001b[0;32m-> 1323\u001b[0;31m       \u001b[0;32mreturn\u001b[0m \u001b[0mfn\u001b[0m\u001b[0;34m(\u001b[0m\u001b[0;34m*\u001b[0m\u001b[0margs\u001b[0m\u001b[0;34m)\u001b[0m\u001b[0;34m\u001b[0m\u001b[0m\n\u001b[0m\u001b[1;32m   1324\u001b[0m     \u001b[0;32mexcept\u001b[0m \u001b[0merrors\u001b[0m\u001b[0;34m.\u001b[0m\u001b[0mOpError\u001b[0m \u001b[0;32mas\u001b[0m \u001b[0me\u001b[0m\u001b[0;34m:\u001b[0m\u001b[0;34m\u001b[0m\u001b[0m\n\u001b[1;32m   1325\u001b[0m       \u001b[0mmessage\u001b[0m \u001b[0;34m=\u001b[0m \u001b[0mcompat\u001b[0m\u001b[0;34m.\u001b[0m\u001b[0mas_text\u001b[0m\u001b[0;34m(\u001b[0m\u001b[0me\u001b[0m\u001b[0;34m.\u001b[0m\u001b[0mmessage\u001b[0m\u001b[0;34m)\u001b[0m\u001b[0;34m\u001b[0m\u001b[0m\n",
      "\u001b[0;32m/usr/lib/python3.6/site-packages/tensorflow/python/client/session.py\u001b[0m in \u001b[0;36m_run_fn\u001b[0;34m(session, feed_dict, fetch_list, target_list, options, run_metadata)\u001b[0m\n\u001b[1;32m   1300\u001b[0m           return tf_session.TF_Run(session, options,\n\u001b[1;32m   1301\u001b[0m                                    \u001b[0mfeed_dict\u001b[0m\u001b[0;34m,\u001b[0m \u001b[0mfetch_list\u001b[0m\u001b[0;34m,\u001b[0m \u001b[0mtarget_list\u001b[0m\u001b[0;34m,\u001b[0m\u001b[0;34m\u001b[0m\u001b[0m\n\u001b[0;32m-> 1302\u001b[0;31m                                    status, run_metadata)\n\u001b[0m\u001b[1;32m   1303\u001b[0m \u001b[0;34m\u001b[0m\u001b[0m\n\u001b[1;32m   1304\u001b[0m     \u001b[0;32mdef\u001b[0m \u001b[0m_prun_fn\u001b[0m\u001b[0;34m(\u001b[0m\u001b[0msession\u001b[0m\u001b[0;34m,\u001b[0m \u001b[0mhandle\u001b[0m\u001b[0;34m,\u001b[0m \u001b[0mfeed_dict\u001b[0m\u001b[0;34m,\u001b[0m \u001b[0mfetch_list\u001b[0m\u001b[0;34m)\u001b[0m\u001b[0;34m:\u001b[0m\u001b[0;34m\u001b[0m\u001b[0m\n",
      "\u001b[0;31mKeyboardInterrupt\u001b[0m: "
     ]
    }
   ],
   "source": [
    "batch_size = 4\n",
    "model.fit_generator(\n",
    "    data_generator.flow(train_x, train_y, batch_size=batch_size),\n",
    "    steps_per_epoch=int(len(train_y) / batch_size), epochs=60,\n",
    "    callbacks=[MyClallback(model, 'low_lr')],\n",
    "    validation_data=(test_x, test_y)\n",
    ")"
   ]
  },
  {
   "cell_type": "code",
   "execution_count": null,
   "metadata": {
    "collapsed": true
   },
   "outputs": [],
   "source": []
  }
 ],
 "metadata": {
  "kernelspec": {
   "display_name": "Python 3",
   "language": "python",
   "name": "python3"
  },
  "language_info": {
   "codemirror_mode": {
    "name": "ipython",
    "version": 3
   },
   "file_extension": ".py",
   "mimetype": "text/x-python",
   "name": "python",
   "nbconvert_exporter": "python",
   "pygments_lexer": "ipython3",
   "version": "3.6.3"
  }
 },
 "nbformat": 4,
 "nbformat_minor": 2
}
