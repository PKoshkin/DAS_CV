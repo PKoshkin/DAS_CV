{
 "cells": [
  {
   "cell_type": "code",
   "execution_count": 1,
   "metadata": {
    "collapsed": true
   },
   "outputs": [],
   "source": [
    "import numpy as np"
   ]
  },
  {
   "cell_type": "code",
   "execution_count": 2,
   "metadata": {
    "collapsed": true
   },
   "outputs": [],
   "source": [
    "def get_model(save_name='Xception.hdf5', image_shape=(299, 299, 3)):\n",
    "    import os\n",
    "    new_model = not os.path.exists(save_name)\n",
    "    if new_model:\n",
    "        from keras.applications.xception import Xception\n",
    "        model = Xception(\n",
    "            include_top=False, weights='imagenet',\n",
    "            input_shape=image_shape, pooling='avg'\n",
    "        )\n",
    "        model.save(save_name)\n",
    "    else:\n",
    "        from keras.models import load_model\n",
    "        model = load_model(save_name)\n",
    "    return model, new_model"
   ]
  },
  {
   "cell_type": "code",
   "execution_count": 3,
   "metadata": {},
   "outputs": [
    {
     "name": "stderr",
     "output_type": "stream",
     "text": [
      "Using TensorFlow backend.\n"
     ]
    },
    {
     "name": "stdout",
     "output_type": "stream",
     "text": [
      "old model\n"
     ]
    },
    {
     "name": "stderr",
     "output_type": "stream",
     "text": [
      "/usr/lib/python3.6/site-packages/keras/models.py:245: UserWarning: No training configuration found in save file: the model was *not* compiled. Compile it manually.\n",
      "  warnings.warn('No training configuration found in save file: '\n"
     ]
    }
   ],
   "source": [
    "initial_model, new_model = get_model()\n",
    "if new_model:\n",
    "    print('new model')\n",
    "else:\n",
    "    print('old model')"
   ]
  },
  {
   "cell_type": "code",
   "execution_count": 4,
   "metadata": {
    "collapsed": true
   },
   "outputs": [],
   "source": [
    "def get_data(image_shape=(299, 299, 3)):\n",
    "    from skimage.transform import resize\n",
    "    from skimage.io import imread\n",
    "    import os\n",
    "    images = []\n",
    "    labels = []\n",
    "    with open('public_data/00_input/train/gt.csv') as navigate_file:\n",
    "        for i, line in enumerate(navigate_file):\n",
    "            if i == 0:\n",
    "                continue\n",
    "            image_name, label = line.split(',')                \n",
    "            images.append(resize(\n",
    "                imread(os.path.join(\n",
    "                    'public_data/00_input/train/images/',\n",
    "                    image_name\n",
    "                )),\n",
    "                image_shape,\n",
    "                mode='reflect'\n",
    "            ))\n",
    "            labels.append(int(label))\n",
    "    return np.array(images), np.array(labels)"
   ]
  },
  {
   "cell_type": "code",
   "execution_count": 5,
   "metadata": {
    "collapsed": true
   },
   "outputs": [],
   "source": [
    "x, y = get_data()"
   ]
  },
  {
   "cell_type": "code",
   "execution_count": 6,
   "metadata": {
    "collapsed": true
   },
   "outputs": [],
   "source": [
    "from keras.layers import Dense, Dropout, Flatten, Conv2D, MaxPooling2D, BatchNormalization\n",
    "from keras.models import Model\n",
    "from keras.optimizers import Adam\n",
    "from keras.optimizers import Nadam\n",
    "from keras.preprocessing.image import ImageDataGenerator\n",
    "from keras import regularizers\n",
    "from sklearn.preprocessing import OneHotEncoder\n",
    "from sklearn.model_selection import train_test_split"
   ]
  },
  {
   "cell_type": "code",
   "execution_count": 7,
   "metadata": {
    "collapsed": true
   },
   "outputs": [],
   "source": [
    "num_classes = len(set(y))\n",
    "y = np.eye(num_classes)[y]\n",
    "train_x, test_x, train_y, test_y = train_test_split(\n",
    "    x, y, test_size=0.3, random_state=42\n",
    ")"
   ]
  },
  {
   "cell_type": "code",
   "execution_count": 8,
   "metadata": {
    "collapsed": true
   },
   "outputs": [],
   "source": [
    "data_generator = ImageDataGenerator(\n",
    "    rotation_range=10,\n",
    "    width_shift_range=0.1,\n",
    "    height_shift_range=0.1,\n",
    "    horizontal_flip=True,\n",
    "    vertical_flip=False\n",
    ")"
   ]
  },
  {
   "cell_type": "code",
   "execution_count": 9,
   "metadata": {
    "collapsed": true
   },
   "outputs": [],
   "source": [
    "regularization_lambda = 1e-3\n",
    "\n",
    "last = initial_model.output\n",
    "\n",
    "prediction = Dense(\n",
    "    num_classes, activation='softmax',\n",
    "    kernel_regularizer=regularizers.l2(regularization_lambda)\n",
    ")(last)\n",
    "\n",
    "model = Model(initial_model.input, prediction)"
   ]
  },
  {
   "cell_type": "code",
   "execution_count": 10,
   "metadata": {
    "collapsed": true
   },
   "outputs": [],
   "source": [
    "model.compile(\n",
    "    loss='categorical_crossentropy',\n",
    "    optimizer=Adam(lr=1e-3, decay=1e-3),\n",
    "    metrics=['categorical_accuracy']\n",
    ")"
   ]
  },
  {
   "cell_type": "code",
   "execution_count": null,
   "metadata": {
    "collapsed": true
   },
   "outputs": [],
   "source": [
    "class MyClallback:\n",
    "    def __init__(self, model, directory):\n",
    "        self._model = model\n",
    "        self._directory = directory\n",
    "        self._counter = 1\n",
    "\n",
    "    def set_model(self, model):\n",
    "        pass\n",
    "\n",
    "    def set_params(self, params):\n",
    "        pass\n",
    "\n",
    "    def on_train_begin(self, logs):\n",
    "        pass\n",
    "\n",
    "    def on_train_end(self, logs):\n",
    "        pass\n",
    "\n",
    "    def on_epoch_begin(self, epoch, logs):\n",
    "        pass\n",
    "\n",
    "    def on_epoch_end(self, epoch, logs):\n",
    "        self._model.save(\n",
    "            self._directory + '/' + str(self._counter) +\n",
    "            '_loss:_' + str(logs['loss']) +\n",
    "            '_accuracy:_' + str(logs['categorical_accuracy']) +\n",
    "            '_val_loss:_' + str(logs['val_loss']) +\n",
    "            '_val_accuracy:_' + str(logs['val_categorical_accuracy']) +\n",
    "            '.npz'\n",
    "        )\n",
    "        self._counter += 1\n",
    "\n",
    "    def on_batch_begin(self, batch, logs):\n",
    "        pass\n",
    "\n",
    "    def on_batch_end(self, batch, logs):\n",
    "        pass"
   ]
  },
  {
   "cell_type": "code",
   "execution_count": null,
   "metadata": {
    "scrolled": true
   },
   "outputs": [
    {
     "name": "stdout",
     "output_type": "stream",
     "text": [
      "Epoch 1/300\n",
      "437/437 [==============================] - 228s - loss: 3.9477 - categorical_accuracy: 0.0280 - val_loss: 5.6807 - val_categorical_accuracy: 0.0320\n",
      "Epoch 2/300\n",
      "437/437 [==============================] - 213s - loss: 3.7466 - categorical_accuracy: 0.0452 - val_loss: 3.7232 - val_categorical_accuracy: 0.0520\n",
      "Epoch 3/300\n",
      "437/437 [==============================] - 211s - loss: 3.4736 - categorical_accuracy: 0.0801 - val_loss: 3.5721 - val_categorical_accuracy: 0.0880\n",
      "Epoch 4/300\n",
      "437/437 [==============================] - 217s - loss: 3.1381 - categorical_accuracy: 0.1236 - val_loss: 3.0063 - val_categorical_accuracy: 0.1573\n",
      "Epoch 5/300\n",
      "437/437 [==============================] - 208s - loss: 2.7418 - categorical_accuracy: 0.1974 - val_loss: 2.6565 - val_categorical_accuracy: 0.2107\n",
      "Epoch 6/300\n",
      "437/437 [==============================] - 209s - loss: 2.3704 - categorical_accuracy: 0.2946 - val_loss: 2.1080 - val_categorical_accuracy: 0.3587\n",
      "Epoch 7/300\n",
      "437/437 [==============================] - 202s - loss: 1.9847 - categorical_accuracy: 0.4068 - val_loss: 1.9338 - val_categorical_accuracy: 0.4000\n",
      "Epoch 8/300\n",
      "437/437 [==============================] - 208s - loss: 1.7249 - categorical_accuracy: 0.4857 - val_loss: 1.6632 - val_categorical_accuracy: 0.4880\n",
      "Epoch 9/300\n",
      "437/437 [==============================] - 203s - loss: 1.4069 - categorical_accuracy: 0.5864 - val_loss: 1.5217 - val_categorical_accuracy: 0.5373\n",
      "Epoch 10/300\n",
      "437/437 [==============================] - 208s - loss: 1.2403 - categorical_accuracy: 0.6344 - val_loss: 1.4586 - val_categorical_accuracy: 0.5747\n",
      "Epoch 11/300\n",
      "437/437 [==============================] - 205s - loss: 1.0067 - categorical_accuracy: 0.7214 - val_loss: 1.2632 - val_categorical_accuracy: 0.6467\n",
      "Epoch 12/300\n",
      "437/437 [==============================] - 210s - loss: 0.8601 - categorical_accuracy: 0.7666 - val_loss: 1.1917 - val_categorical_accuracy: 0.6787\n",
      "Epoch 13/300\n",
      "437/437 [==============================] - 202s - loss: 0.7309 - categorical_accuracy: 0.8124 - val_loss: 1.2170 - val_categorical_accuracy: 0.6800\n",
      "Epoch 14/300\n",
      "437/437 [==============================] - 209s - loss: 0.6392 - categorical_accuracy: 0.8427 - val_loss: 1.2348 - val_categorical_accuracy: 0.6827\n",
      "Epoch 15/300\n",
      "437/437 [==============================] - 203s - loss: 0.5501 - categorical_accuracy: 0.8747 - val_loss: 1.3176 - val_categorical_accuracy: 0.6800\n",
      "Epoch 16/300\n",
      "437/437 [==============================] - 209s - loss: 0.4956 - categorical_accuracy: 0.8913 - val_loss: 1.3081 - val_categorical_accuracy: 0.6920\n",
      "Epoch 17/300\n",
      "437/437 [==============================] - 206s - loss: 0.4299 - categorical_accuracy: 0.9256 - val_loss: 1.4225 - val_categorical_accuracy: 0.6933\n",
      "Epoch 18/300\n",
      "437/437 [==============================] - 207s - loss: 0.3838 - categorical_accuracy: 0.9359 - val_loss: 1.2036 - val_categorical_accuracy: 0.7160\n",
      "Epoch 19/300\n",
      "437/437 [==============================] - 208s - loss: 0.3115 - categorical_accuracy: 0.9559 - val_loss: 1.3345 - val_categorical_accuracy: 0.7107\n",
      "Epoch 20/300\n",
      "437/437 [==============================] - 203s - loss: 0.2974 - categorical_accuracy: 0.9588 - val_loss: 1.3233 - val_categorical_accuracy: 0.7160\n",
      "Epoch 21/300\n",
      "437/437 [==============================] - 210s - loss: 0.2760 - categorical_accuracy: 0.9674 - val_loss: 1.2441 - val_categorical_accuracy: 0.7227\n",
      "Epoch 22/300\n",
      "437/437 [==============================] - 203s - loss: 0.2421 - categorical_accuracy: 0.9760 - val_loss: 1.2549 - val_categorical_accuracy: 0.7240\n",
      "Epoch 23/300\n",
      "437/437 [==============================] - 209s - loss: 0.2254 - categorical_accuracy: 0.9743 - val_loss: 1.2333 - val_categorical_accuracy: 0.7413\n",
      "Epoch 24/300\n",
      "437/437 [==============================] - 204s - loss: 0.2119 - categorical_accuracy: 0.9783 - val_loss: 1.3955 - val_categorical_accuracy: 0.7213\n",
      "Epoch 25/300\n",
      "437/437 [==============================] - 210s - loss: 0.2005 - categorical_accuracy: 0.9811 - val_loss: 1.2941 - val_categorical_accuracy: 0.7360\n",
      "Epoch 26/300\n",
      "436/437 [============================>.] - ETA: 0s - loss: 0.1877 - categorical_accuracy: 0.9839"
     ]
    }
   ],
   "source": [
    "batch_size = 4\n",
    "model.fit_generator(\n",
    "    data_generator.flow(train_x, train_y, batch_size=batch_size),\n",
    "    steps_per_epoch=int(len(train_y) / batch_size), epochs=300,\n",
    "    callbacks=[MyClallback(model, 'models')],\n",
    "    validation_data=(test_x, test_y)\n",
    ")"
   ]
  },
  {
   "cell_type": "code",
   "execution_count": null,
   "metadata": {
    "collapsed": true
   },
   "outputs": [],
   "source": [
    "model.save('0.72_score_model.hdh5')"
   ]
  },
  {
   "cell_type": "code",
   "execution_count": null,
   "metadata": {
    "collapsed": true
   },
   "outputs": [],
   "source": []
  }
 ],
 "metadata": {
  "kernelspec": {
   "display_name": "Python 3",
   "language": "python",
   "name": "python3"
  },
  "language_info": {
   "codemirror_mode": {
    "name": "ipython",
    "version": 3
   },
   "file_extension": ".py",
   "mimetype": "text/x-python",
   "name": "python",
   "nbconvert_exporter": "python",
   "pygments_lexer": "ipython3",
   "version": "3.6.3"
  }
 },
 "nbformat": 4,
 "nbformat_minor": 2
}
